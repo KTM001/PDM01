{
  "nbformat": 4,
  "nbformat_minor": 0,
  "metadata": {
    "colab": {
      "name": "Untitled0.ipynb",
      "provenance": [],
      "authorship_tag": "ABX9TyNLa9OWbDitqRxRv+13T98/",
      "include_colab_link": true
    },
    "kernelspec": {
      "name": "python3",
      "display_name": "Python 3"
    },
    "language_info": {
      "name": "python"
    }
  },
  "cells": [
    {
      "cell_type": "markdown",
      "metadata": {
        "id": "view-in-github",
        "colab_type": "text"
      },
      "source": [
        "<a href=\"https://colab.research.google.com/github/KTM001/PDM01/blob/main/Untitled0.ipynb\" target=\"_parent\"><img src=\"https://colab.research.google.com/assets/colab-badge.svg\" alt=\"Open In Colab\"/></a>"
      ]
    },
    {
      "cell_type": "markdown",
      "metadata": {
        "id": "v54Rr7-zsWk8"
      },
      "source": [
        "## python module 1. numpy"
      ]
    },
    {
      "cell_type": "markdown",
      "metadata": {
        "id": "_N08BL0OsgAb"
      },
      "source": [
        "#### 라이브러리를 import 시키는 방법 4가지"
      ]
    },
    {
      "cell_type": "markdown",
      "metadata": {
        "id": "UBbEWmY0slca"
      },
      "source": [
        "**파이썬 코드에서 라이브러리를 import 시키는 방식**\n",
        "\n",
        "\n",
        "         \n",
        "-   라이브러리의 별명을 지정하는 방식\n",
        "         예) import numpy as np\n",
        "         가장 일반적인 방식임\n",
        "         a = np,array()\n",
        "-   from을 이용하는 방식\n",
        "\n",
        "         from을 이용하면 해당 API의 이름을 쓰지 않고 API를 바로 쓸 수 있다는 장점이 있음\n",
        "         from numpy import array, arange\n",
        "         a = array()\n",
        "         an = arange(10)\n"
      ]
    },
    {
      "cell_type": "markdown",
      "metadata": {
        "id": "Um2U0pO3tmVk"
      },
      "source": [
        "### numpy array의 속성"
      ]
    },
    {
      "cell_type": "code",
      "metadata": {
        "id": "RxkiqQ5ftlQT"
      },
      "source": [
        "a.shape # 배열의 차원\n",
        "a.ndim # 배열의 차원의 수\n",
        "a.size # 배열의 크기\n",
        "a.dtype # 배열의 데이터타입\n",
        "a.reshape # 배열의 차원의 크기 변경"
      ],
      "execution_count": null,
      "outputs": []
    },
    {
      "cell_type": "markdown",
      "metadata": {
        "id": "9FGSZQBZvfCL"
      },
      "source": [
        "## 행렬연산 I\n",
        "\n",
        "- 요소별로 연산\n",
        "- elementwise operation"
      ]
    },
    {
      "cell_type": "code",
      "metadata": {
        "id": "CdKUpCXSsUJe"
      },
      "source": [
        "# 행렬연산\n",
        "# 벡터 생성\n",
        "# A = np.array([ [1,0], [0,1] ])\n",
        "# B = np.array([ [1,1], [1,1] ])\n",
        "\n",
        "# A + B \n",
        "# array([[2, 1],\n",
        "#       [1, 2]])"
      ],
      "execution_count": null,
      "outputs": []
    },
    {
      "cell_type": "markdown",
      "metadata": {
        "id": "-e_XMom2wihq"
      },
      "source": [
        "## 행벡터, 열벡터"
      ]
    },
    {
      "cell_type": "code",
      "metadata": {
        "id": "GNwZe6SawnOL"
      },
      "source": [
        "A[:, np.newaxis]   # 행벡터인 A를 열벡터로 변환\n",
        "# array([[1],\n",
        "#        [2],\n",
        "#        [3]])\n",
        "B[np.newaxis,:]   # 열벡터인 B를 행벡터로 변환\n",
        "# array([[4, 5, 6]])"
      ],
      "execution_count": null,
      "outputs": []
    },
    {
      "cell_type": "markdown",
      "metadata": {
        "id": "fFiCyCSZxHuZ"
      },
      "source": [
        "### [도전-DIY] reshape를 이용해서 벡터 A를 열벡터, 행벡터로 변환하시오."
      ]
    },
    {
      "cell_type": "code",
      "metadata": {
        "id": "terFFb5axIjg"
      },
      "source": [
        "# reshape를 이용해서 벡터 A를 열벡터, 행벡터로 변환\n",
        "A.reshape(3,1), A.reshape(1,3)\n",
        "# (array([[1],\n",
        "#         [2],\n",
        "#         [3]]), array([[1, 2, 3]]))"
      ],
      "execution_count": null,
      "outputs": []
    },
    {
      "cell_type": "markdown",
      "metadata": {
        "id": "UWVw98FExSAB"
      },
      "source": [
        "## 벡터 산술연산"
      ]
    },
    {
      "cell_type": "code",
      "metadata": {
        "id": "-O7yhBtWxWUh"
      },
      "source": [
        "print(\"A+B = \", A+B) # 벡터 A+B\n",
        "print(\"A-B = \", A-B) # 벡터 A-B\n",
        "print(\"A*B = \", A*B) # 벡터 A*B\n",
        "print(\"A/B = \", A/B) # 벡터 A/B\n",
        "print(\"A%B = \", A%B) # 벡터 A/B의 나머지값\n",
        "print(\"A**B = \", A**B) # 벡터 A의 B제곱"
      ],
      "execution_count": null,
      "outputs": []
    },
    {
      "cell_type": "markdown",
      "metadata": {
        "id": "WeoT3YuRx_za"
      },
      "source": [
        "#### 형 변환 (reshape)"
      ]
    },
    {
      "cell_type": "markdown",
      "metadata": {
        "id": "mWv4UjOPyGED"
      },
      "source": [
        "- **형 변환 (reshape)**\n",
        "\n",
        "\n",
        "> \n",
        "           예) D = (1 2 3)   D.reshape(3,2) = (1 2)\n",
        "                   (4 5 6)                    (3 4)\n",
        "                                              (5 6)\n",
        "                shape 2x3             shape 3x2\n",
        "\n",
        "전치행렬과는 다름!"
      ]
    },
    {
      "cell_type": "markdown",
      "metadata": {
        "id": "-nQQzDwjzIPy"
      },
      "source": [
        "#### 행렬 곱 (dot product)"
      ]
    },
    {
      "cell_type": "markdown",
      "metadata": {
        "id": "bKGpzQxYzObB"
      },
      "source": [
        "- **행렬 곱 (dot product)**\n",
        "\n",
        "\n",
        "> A 행렬과 B 행렬의 행렬 곱 (dot product)는 **np.dot**(A,B)로 나타내며, **행렬 A의 열벡터와 B 행렬의 행벡터의 요소 수가 같아야** 한다.\n",
        "\n",
        "\n",
        "> 만약 같지 않으면 **reshape 또는 전치행렬(transpose) 등을 사용하여 형 변환을 한 후에 행렬 곱을 실행**해야 한다.\n",
        "\n",
        "\n",
        "\n"
      ]
    },
    {
      "cell_type": "code",
      "metadata": {
        "id": "7gBY8EdWzxZK"
      },
      "source": [
        "np.dot(A,B) # A행렬 B행렬 곱"
      ],
      "execution_count": null,
      "outputs": []
    },
    {
      "cell_type": "markdown",
      "metadata": {
        "id": "lhD00wHU0Akw"
      },
      "source": [
        "### numpy broadcast (**브로드캐스트**)"
      ]
    },
    {
      "cell_type": "markdown",
      "metadata": {
        "id": "I7FmQjoV0BZP"
      },
      "source": [
        " -  **크기가 다른 두 행렬간에도 사칙연산(+,-,x,/)를 사용할 수 있는데 이를 브로드캐스트(broadcast)라고 지칭**"
      ]
    },
    {
      "cell_type": "code",
      "metadata": {
        "id": "Wf9wx2WJ0J1H"
      },
      "source": [
        "A = np.array([ [1,2], [3,4] ])\n",
        "b = 5\n",
        "\n",
        "print(A+b)\n",
        "=\n",
        "[[6 7]\n",
        " [8 9]]"
      ],
      "execution_count": null,
      "outputs": []
    },
    {
      "cell_type": "markdown",
      "metadata": {
        "id": "lRw9x1Kd0QLg"
      },
      "source": [
        "### numpy 전치행렬 (transpose)"
      ]
    },
    {
      "cell_type": "markdown",
      "metadata": {
        "id": "BHCKO1Gy0QmY"
      },
      "source": [
        "- 어떤 행렬의 전치행렬은 원본 행렬의 **열은 행으로, 행은 열로** 바꾼 것이다.\n",
        "- 원본 행렬을 A라고 하면 전치행렬은 **A.T** 로 나타낸다."
      ]
    },
    {
      "cell_type": "code",
      "metadata": {
        "id": "BJdKTjFP0UQf"
      },
      "source": [
        "A = np.array([ [1,2],[3,4],[5,6] ]) # 3x2행렬\n",
        "B = A.T  # A의 전치행렬, 2x3행렬\n",
        "[[1 3 5]\n",
        " [2 4 6]]"
      ],
      "execution_count": null,
      "outputs": []
    },
    {
      "cell_type": "markdown",
      "metadata": {
        "id": "9JXeF9-P1BhB"
      },
      "source": [
        "###  indexing & slicing"
      ]
    },
    {
      "cell_type": "code",
      "metadata": {
        "id": "47zz_B6s1JpQ"
      },
      "source": [
        "A = np.array([[10, 20],\n",
        "              [30, 40],\n",
        "              [50, 60]])\n",
        "A[0][0] = 10 # 인덱싱\n",
        "A[2][1] = 60 # 인덱싱\n",
        "A[0:2, 1:2] = array([[20], [40]]) # 슬라이싱\n",
        "print(\"A[ :, 0] ==\", A[:, 0]) = array([10, 30, 50]\n",
        "print(\"A[ 0, :] ==\", A[0, :]) = array([10, 20]\n",
        "print(\"A[ :, :] ==\", A[:, :]) = array([[10, 20],[30, 40],[50, 60]]))"
      ],
      "execution_count": null,
      "outputs": []
    },
    {
      "cell_type": "markdown",
      "metadata": {
        "id": "i_mgug-N2Cch"
      },
      "source": [
        "### iterator"
      ]
    },
    {
      "cell_type": "markdown",
      "metadata": {
        "id": "l5VT3emQ2XZS"
      },
      "source": [
        "- **행렬 원소 접근(ll)**\n",
        "\n",
        "\n",
        "> 명시적(explicit) 인덱싱 & 슬라이싱 이외에 **행렬 모든 원소를 access하는 경우에는 iterator** 사용이 가능하다."
      ]
    },
    {
      "cell_type": "markdown",
      "metadata": {
        "id": "RCNo4heG2Yyn"
      },
      "source": [
        "2x4 행렬인 경우,\n",
        "\n",
        "> (0,0) => (0,1) => (0,2) => (0,3) => (1,0) => (1,1) => (1,2) => (1,3)   순서대로 access\n",
        " \n"
      ]
    },
    {
      "cell_type": "markdown",
      "metadata": {
        "id": "_lpwWd7M3SAQ"
      },
      "source": [
        "## NumPy Array Operations By Row and Column\n",
        "- ### Axis=0 Column-Wise Operation (수직으로)\n",
        "- ### Axis=1 Row-Wise Operation (수평으로)"
      ]
    },
    {
      "cell_type": "markdown",
      "metadata": {
        "id": "gej8aKbA3dUQ"
      },
      "source": [
        "## [DIY: 도전하기]\n",
        "\n",
        "- 3차원 배열을 리스트로부터 만드시오.\n",
        "- [참고: numpy_sum_axis](http://taewan.kim/post/numpy_sum_axis/)"
      ]
    },
    {
      "cell_type": "code",
      "metadata": {
        "id": "C5HUahk03fsw"
      },
      "source": [
        "from numpy import asarray\n",
        "data = [[1,2,3], [4,5,6]],[[2,3,4], [5,6,7]],[[3,4,5], [6,7,8]]\n",
        "data = asarray(data)\n",
        "print(data)\n",
        "[[[1 2 3]\n",
        "  [4 5 6]]\n",
        "\n",
        " [[2 3 4]\n",
        "  [5 6 7]]\n",
        "\n",
        " [[3 4 5]\n",
        "  [6 7 8]]]"
      ],
      "execution_count": null,
      "outputs": []
    },
    {
      "cell_type": "markdown",
      "metadata": {
        "id": "FpiNX2yy38ge"
      },
      "source": [
        "## concatenate()를 이용한 배열 합치기\n"
      ]
    },
    {
      "cell_type": "markdown",
      "metadata": {
        "id": "CMwxJEw_395f"
      },
      "source": [
        "- concatenate(array1, array2, axis = 0)\n",
        "- concatenate(array1, array2, axis = 1)\n",
        "- concatenate(array1, array2, axis = None)"
      ]
    },
    {
      "cell_type": "code",
      "metadata": {
        "id": "AvxmO6RM4DVI"
      },
      "source": [
        "np.concatenate((ar1,ar1), axis=0)\n",
        "array([[1, 2],\n",
        "       [3, 4],\n",
        "       [1, 2],\n",
        "       [3, 4]])\n",
        "np.concatenate((ar1,ar1), axis=1)\n",
        "array([[1, 2, 1, 2],\n",
        "       [3, 4, 3, 4]])\n",
        "np.concatenate((ar1,ar1), axis=None)\n",
        "array([1, 2, 3, 4, 1, 2, 3, 4])"
      ],
      "execution_count": null,
      "outputs": []
    },
    {
      "cell_type": "markdown",
      "metadata": {
        "id": "pM0Lmkhu3YFW"
      },
      "source": [
        "## numpy statistics\n",
        "> [numpy: 기술 통계](https://datascienceschool.net/01%20python/03.04%20%EA%B8%B0%EC%88%A0%20%ED%86%B5%EA%B3%84.html)\n",
        "- min(), max()  #최소값, 최대값\n",
        "- mean(), median(), var(), std() # 평균값, 중간값, 분산, 표준편차"
      ]
    },
    {
      "cell_type": "markdown",
      "metadata": {
        "id": "7csuke7g400P"
      },
      "source": [
        "## [DIY: 도전과제]\n",
        "- axis = None, 1, 2 에 따른 평균을 구하시오."
      ]
    },
    {
      "cell_type": "code",
      "metadata": {
        "id": "lKTJfH_542hP"
      },
      "source": [
        "print(d2arr.mean(axis=None))\n",
        "print(d2arr.mean(axis=0))\n",
        "print(d2arr.mean(axis=1))\n",
        "5.0\n",
        "[4. 5. 6.]\n",
        "[2. 5. 8.]"
      ],
      "execution_count": null,
      "outputs": []
    },
    {
      "cell_type": "markdown",
      "metadata": {
        "id": "b9-w7lmZ5ATW"
      },
      "source": [
        "## 난수 생성\n",
        "> NumPy의 random 서브모듈은 난수를 생성하는 다양한 명령을 제공.\n",
        "\n",
        "- rand: 0부터 1사이의 균일 분포 (uniform distribution)\n",
        "- randn: 가우시안 표준 정규 분포 (normal distribution, Gaussian)\n",
        "- randint: 균일 분포의 정수 난수 (uniform int)\n",
        "\n",
        "> randn()은 평균 0, 표준편차 1 인 가우시안 정규분포를 생성."
      ]
    },
    {
      "cell_type": "markdown",
      "metadata": {
        "id": "T9W4Z6875YR3"
      },
      "source": [
        "## 난수 생성 seed 설정\n",
        "- seed를 고정하고 동일한 무작위수 생성"
      ]
    },
    {
      "cell_type": "code",
      "metadata": {
        "id": "tZiQll5E5g0G"
      },
      "source": [
        "np.random.seed(1234) # seed를 1234로 고정하고 무작위수 생성"
      ],
      "execution_count": null,
      "outputs": []
    },
    {
      "cell_type": "markdown",
      "metadata": {
        "id": "MLL-BgH55qom"
      },
      "source": [
        "### [도전 1.] 0부터 9까지의 마구잡이 정수를 1000개 만들고 각 수의 빈도를 구하시오. "
      ]
    },
    {
      "cell_type": "code",
      "metadata": {
        "id": "emqA2ITf5sYN"
      },
      "source": [
        "n1000 = np.random.randint(0,10,1000) # 최소값 0 최대값 9의 수 1000개 생성\n",
        "print(n1000)\n",
        "value, count= np.unique(n1000, return_counts=True)\n",
        "print(value, count) # 0~9의 숫자들의 빈도\n",
        "\n",
        "[0 1 2 3 4 5 6 7 8 9] [ 97  95  89 107  99  94 114 106 110  89]"
      ],
      "execution_count": null,
      "outputs": []
    },
    {
      "cell_type": "code",
      "metadata": {
        "id": "fWAsVW455y2O"
      },
      "source": [
        "np.unique(n1000)\n",
        "array([0, 1, 2, 3, 4, 5, 6, 7, 8, 9])"
      ],
      "execution_count": null,
      "outputs": []
    },
    {
      "cell_type": "code",
      "metadata": {
        "id": "J458tkg251Jd"
      },
      "source": [
        "# 각 수의 빈도\n",
        "np.bincount(n1000, minlength=10)\n",
        "array([109, 122,  87,  88, 104,  94, 113, 109,  93,  81])"
      ],
      "execution_count": null,
      "outputs": []
    },
    {
      "cell_type": "markdown",
      "metadata": {
        "id": "m5rC4kA054Xf"
      },
      "source": [
        "### [도전 2.] 0부터 9까지의 마구잡이 정수를 1000개 만들고 각 수가 처음 출현하는 인덱스를 구하시오.\n",
        "> 0이 처음 나타날 때의 인덱스, 1이 처음 나타날 때의 인덱스, ... "
      ]
    },
    {
      "cell_type": "code",
      "metadata": {
        "id": "oKgcxG-N6Z98"
      },
      "source": [
        "# 각 수가 처음 출현하는 인덱스\n",
        "i = 0\n",
        "while i <= 9:\n",
        "  a = np.min(np.where(n1000==i))\n",
        "  print(\"%d가 처음 출현한 인덱스 : %d\"%(i,a))\n",
        "  i = i + 1"
      ],
      "execution_count": null,
      "outputs": []
    },
    {
      "cell_type": "markdown",
      "metadata": {
        "id": "iDqNP7yI6dVt"
      },
      "source": [
        "### [도전 3.] seed를 1234로 고정하고, 위의 도전1,2를 다시 해보시오. "
      ]
    },
    {
      "cell_type": "code",
      "metadata": {
        "id": "bOOUhu5T6g-P"
      },
      "source": [
        "np.random.seed(1234)\n",
        "n1000 = np.random.randint(0,10,1000)\n",
        "value, count= np.unique(n1000, return_counts=True)\n",
        "print(value, count)\n",
        "\n",
        "i = 0\n",
        "while i <= 9:\n",
        "  b = np.min(np.where(n1000==i))\n",
        "  print(\"%d가 처음 출현한 인덱스 : %d\"%(i,b))\n",
        "  i = i + 1"
      ],
      "execution_count": null,
      "outputs": []
    },
    {
      "cell_type": "markdown",
      "metadata": {
        "id": "plkMTg8v6jUl"
      },
      "source": [
        "### [도전 4.] 0부터 999까지의 마구잡이 정수로 구성되는 28X28 이차원배열을 만드시오.\n",
        "- 시드를 고정 : np.random.seed(1234)\n",
        "1. 각 행의 최대값, 최소갑을 구하시오.\n",
        "2. 배열 전체의 최대값, 최소값을 구하시오.\n",
        "3. 배열전체의 최대값, 최소값의 index를 각각 찾으시오."
      ]
    },
    {
      "cell_type": "code",
      "metadata": {
        "id": "0fuBDfJx6lj9"
      },
      "source": [
        "import numpy as np\n",
        "np.random.seed(1234)\n",
        "a = np.random.randint(0,1000,784)\n",
        "ar = a.reshape(28,28)\n",
        "ar"
      ],
      "execution_count": null,
      "outputs": []
    },
    {
      "cell_type": "code",
      "metadata": {
        "id": "cswYMlh96mr3"
      },
      "source": [
        "min_value = [np.min(ar[i]) for i in range(0,28)]\n",
        "max_value= [np.max(ar[i]) for i in range(0,28)]\n",
        "min_value, max_value"
      ],
      "execution_count": null,
      "outputs": []
    },
    {
      "cell_type": "markdown",
      "metadata": {
        "id": "idVZAN3a6xYN"
      },
      "source": [
        "각 행의 최소값 : 30,  3,  41,  4,  103,  1,  46,  15,  12,  87,  32,  3,  1,  3,  144,  16,  85,  2,  10,  0,  15,  6,  3,  31,  3,  43,  144,  13\n",
        "각 행의 최대값 : 969,  961,  997,  996,  999,  996,\n",
        "  990,  953,  999,  955,  987,  840,  946,  991,  994,  944,  963,  943,  973,  922,  893,  936,  997,  988,  961,  998,  997,  994"
      ]
    },
    {
      "cell_type": "code",
      "metadata": {
        "id": "HnJYfrXi622G"
      },
      "source": [
        "b_min = np.min(min_value)\n",
        "b_max = np.max(max_value)\n",
        "b_min, b_max"
      ],
      "execution_count": null,
      "outputs": []
    },
    {
      "cell_type": "markdown",
      "metadata": {
        "id": "alDh2DxQ64Tw"
      },
      "source": [
        "배열 전체의 최소값 : 0, 배열 전체의 최대값 : 999"
      ]
    },
    {
      "cell_type": "code",
      "metadata": {
        "id": "zW324V0F68Em"
      },
      "source": [
        "c_a = np.where(ar==b_min)\n",
        "c_b = np.where(ar==b_max)\n",
        "c_a, c_b"
      ],
      "execution_count": null,
      "outputs": []
    },
    {
      "cell_type": "markdown",
      "metadata": {
        "id": "A-PsIu3W6-Ne"
      },
      "source": [
        "배열전체의 최소값 index : [19, 10], 배열 전체의 최대값 index : [4, 8], [25, 27]\n"
      ]
    }
  ]
}