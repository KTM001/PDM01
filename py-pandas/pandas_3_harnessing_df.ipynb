{
  "nbformat": 4,
  "nbformat_minor": 0,
  "metadata": {
    "kernelspec": {
      "name": "python3",
      "display_name": "Python 3"
    },
    "language_info": {
      "codemirror_mode": {
        "name": "ipython",
        "version": 3
      },
      "file_extension": ".py",
      "mimetype": "text/x-python",
      "name": "python",
      "nbconvert_exporter": "python",
      "pygments_lexer": "ipython3",
      "version": "3.6.6"
    },
    "colab": {
      "name": "pandas_3_harnessing_df.ipynb",
      "provenance": [],
      "collapsed_sections": [],
      "include_colab_link": true
    }
  },
  "cells": [
    {
      "cell_type": "markdown",
      "metadata": {
        "id": "view-in-github",
        "colab_type": "text"
      },
      "source": [
        "<a href=\"https://colab.research.google.com/github/KTM001/PDM01/blob/main/py-pandas/pandas_3_harnessing_df.ipynb\" target=\"_parent\"><img src=\"https://colab.research.google.com/assets/colab-badge.svg\" alt=\"Open In Colab\"/></a>"
      ]
    },
    {
      "cell_type": "markdown",
      "metadata": {
        "id": "-a_Ksvwdx5pf"
      },
      "source": [
        "### Python module 3. **pandas**"
      ]
    },
    {
      "cell_type": "markdown",
      "metadata": {
        "id": "P_F0RSPKx5pl"
      },
      "source": [
        "# Using pandas"
      ]
    },
    {
      "cell_type": "markdown",
      "metadata": {
        "id": "FfxMgWUFx5pm"
      },
      "source": [
        "* [10 Minutes to pandas](https://pandas.pydata.org/pandas-docs/stable/10min.html)\n",
        "* [Pandas tutorial with interactive exercises](https://www.kaggle.com/pistak/pandas-tutorial-with-interactive-exercises)"
      ]
    },
    {
      "cell_type": "code",
      "metadata": {
        "id": "2mpGSeRlx5po"
      },
      "source": [
        "import pandas as pd\n",
        "import numpy as np\n",
        "import matplotlib.pyplot as plt\n",
        "# %matplotlib inline  # work for Jupyter notebook or lab"
      ],
      "execution_count": 1,
      "outputs": []
    },
    {
      "cell_type": "code",
      "metadata": {
        "id": "w2eNkCfLx5p-",
        "colab": {
          "base_uri": "https://localhost:8080/"
        },
        "outputId": "e43dcb96-8519-43bd-86ae-550b4484d45a"
      },
      "source": [
        "# Creating a DataFrame by passing a NumPy array, with a datetime index and labeled columns:\n",
        "dates = pd.date_range('20210927', periods=6)\n",
        "dates"
      ],
      "execution_count": 2,
      "outputs": [
        {
          "output_type": "execute_result",
          "data": {
            "text/plain": [
              "DatetimeIndex(['2021-09-27', '2021-09-28', '2021-09-29', '2021-09-30',\n",
              "               '2021-10-01', '2021-10-02'],\n",
              "              dtype='datetime64[ns]', freq='D')"
            ]
          },
          "metadata": {},
          "execution_count": 2
        }
      ]
    },
    {
      "cell_type": "code",
      "metadata": {
        "id": "dHwUodTGx5qj",
        "colab": {
          "base_uri": "https://localhost:8080/",
          "height": 235
        },
        "outputId": "78f2efd5-e247-455b-b30f-5d7507326351"
      },
      "source": [
        "# dataframe\n",
        "np.random.seed(1234)\n",
        "df = pd.DataFrame(np.random.randn(6,4), index=dates, columns=list('ABCD'))\n",
        "df"
      ],
      "execution_count": 5,
      "outputs": [
        {
          "output_type": "execute_result",
          "data": {
            "text/html": [
              "<div>\n",
              "<style scoped>\n",
              "    .dataframe tbody tr th:only-of-type {\n",
              "        vertical-align: middle;\n",
              "    }\n",
              "\n",
              "    .dataframe tbody tr th {\n",
              "        vertical-align: top;\n",
              "    }\n",
              "\n",
              "    .dataframe thead th {\n",
              "        text-align: right;\n",
              "    }\n",
              "</style>\n",
              "<table border=\"1\" class=\"dataframe\">\n",
              "  <thead>\n",
              "    <tr style=\"text-align: right;\">\n",
              "      <th></th>\n",
              "      <th>A</th>\n",
              "      <th>B</th>\n",
              "      <th>C</th>\n",
              "      <th>D</th>\n",
              "    </tr>\n",
              "  </thead>\n",
              "  <tbody>\n",
              "    <tr>\n",
              "      <th>2021-09-27</th>\n",
              "      <td>0.471435</td>\n",
              "      <td>-1.190976</td>\n",
              "      <td>1.432707</td>\n",
              "      <td>-0.312652</td>\n",
              "    </tr>\n",
              "    <tr>\n",
              "      <th>2021-09-28</th>\n",
              "      <td>-0.720589</td>\n",
              "      <td>0.887163</td>\n",
              "      <td>0.859588</td>\n",
              "      <td>-0.636524</td>\n",
              "    </tr>\n",
              "    <tr>\n",
              "      <th>2021-09-29</th>\n",
              "      <td>0.015696</td>\n",
              "      <td>-2.242685</td>\n",
              "      <td>1.150036</td>\n",
              "      <td>0.991946</td>\n",
              "    </tr>\n",
              "    <tr>\n",
              "      <th>2021-09-30</th>\n",
              "      <td>0.953324</td>\n",
              "      <td>-2.021255</td>\n",
              "      <td>-0.334077</td>\n",
              "      <td>0.002118</td>\n",
              "    </tr>\n",
              "    <tr>\n",
              "      <th>2021-10-01</th>\n",
              "      <td>0.405453</td>\n",
              "      <td>0.289092</td>\n",
              "      <td>1.321158</td>\n",
              "      <td>-1.546906</td>\n",
              "    </tr>\n",
              "    <tr>\n",
              "      <th>2021-10-02</th>\n",
              "      <td>-0.202646</td>\n",
              "      <td>-0.655969</td>\n",
              "      <td>0.193421</td>\n",
              "      <td>0.553439</td>\n",
              "    </tr>\n",
              "  </tbody>\n",
              "</table>\n",
              "</div>"
            ],
            "text/plain": [
              "                   A         B         C         D\n",
              "2021-09-27  0.471435 -1.190976  1.432707 -0.312652\n",
              "2021-09-28 -0.720589  0.887163  0.859588 -0.636524\n",
              "2021-09-29  0.015696 -2.242685  1.150036  0.991946\n",
              "2021-09-30  0.953324 -2.021255 -0.334077  0.002118\n",
              "2021-10-01  0.405453  0.289092  1.321158 -1.546906\n",
              "2021-10-02 -0.202646 -0.655969  0.193421  0.553439"
            ]
          },
          "metadata": {},
          "execution_count": 5
        }
      ]
    },
    {
      "cell_type": "markdown",
      "metadata": {
        "id": "wq1nIp3F1fFB"
      },
      "source": [
        "\n",
        "\n",
        "---\n",
        "\n"
      ]
    },
    {
      "cell_type": "markdown",
      "metadata": {
        "id": "I1IgbN4Gx5s4"
      },
      "source": [
        "### 데이터 재구성(setting) 또는 확장"
      ]
    },
    {
      "cell_type": "code",
      "metadata": {
        "id": "sy6TR7lUx5s5",
        "colab": {
          "base_uri": "https://localhost:8080/"
        },
        "outputId": "ad22d6a6-d981-497f-a9a1-12fb56449ea5"
      },
      "source": [
        "# Setting a new column automatically aligns the data by the indexes.\n",
        "s1 = pd.Series([1,2,3,4,5,6], index=pd.date_range('20210927', periods=6))\n",
        "s1"
      ],
      "execution_count": 6,
      "outputs": [
        {
          "output_type": "execute_result",
          "data": {
            "text/plain": [
              "2021-09-27    1\n",
              "2021-09-28    2\n",
              "2021-09-29    3\n",
              "2021-09-30    4\n",
              "2021-10-01    5\n",
              "2021-10-02    6\n",
              "Freq: D, dtype: int64"
            ]
          },
          "metadata": {},
          "execution_count": 6
        }
      ]
    },
    {
      "cell_type": "code",
      "metadata": {
        "id": "XsEv8uSFx5tA"
      },
      "source": [
        "df['F'] = s1"
      ],
      "execution_count": 7,
      "outputs": []
    },
    {
      "cell_type": "code",
      "metadata": {
        "id": "TtstLrMRx5tE",
        "colab": {
          "base_uri": "https://localhost:8080/",
          "height": 235
        },
        "outputId": "c884743a-236a-4cf6-cf43-52813dc37f7e"
      },
      "source": [
        "df  # 기존 df의 구조에 맞춰서 확장, 재구성됨."
      ],
      "execution_count": 8,
      "outputs": [
        {
          "output_type": "execute_result",
          "data": {
            "text/html": [
              "<div>\n",
              "<style scoped>\n",
              "    .dataframe tbody tr th:only-of-type {\n",
              "        vertical-align: middle;\n",
              "    }\n",
              "\n",
              "    .dataframe tbody tr th {\n",
              "        vertical-align: top;\n",
              "    }\n",
              "\n",
              "    .dataframe thead th {\n",
              "        text-align: right;\n",
              "    }\n",
              "</style>\n",
              "<table border=\"1\" class=\"dataframe\">\n",
              "  <thead>\n",
              "    <tr style=\"text-align: right;\">\n",
              "      <th></th>\n",
              "      <th>A</th>\n",
              "      <th>B</th>\n",
              "      <th>C</th>\n",
              "      <th>D</th>\n",
              "      <th>F</th>\n",
              "    </tr>\n",
              "  </thead>\n",
              "  <tbody>\n",
              "    <tr>\n",
              "      <th>2021-09-27</th>\n",
              "      <td>0.471435</td>\n",
              "      <td>-1.190976</td>\n",
              "      <td>1.432707</td>\n",
              "      <td>-0.312652</td>\n",
              "      <td>1</td>\n",
              "    </tr>\n",
              "    <tr>\n",
              "      <th>2021-09-28</th>\n",
              "      <td>-0.720589</td>\n",
              "      <td>0.887163</td>\n",
              "      <td>0.859588</td>\n",
              "      <td>-0.636524</td>\n",
              "      <td>2</td>\n",
              "    </tr>\n",
              "    <tr>\n",
              "      <th>2021-09-29</th>\n",
              "      <td>0.015696</td>\n",
              "      <td>-2.242685</td>\n",
              "      <td>1.150036</td>\n",
              "      <td>0.991946</td>\n",
              "      <td>3</td>\n",
              "    </tr>\n",
              "    <tr>\n",
              "      <th>2021-09-30</th>\n",
              "      <td>0.953324</td>\n",
              "      <td>-2.021255</td>\n",
              "      <td>-0.334077</td>\n",
              "      <td>0.002118</td>\n",
              "      <td>4</td>\n",
              "    </tr>\n",
              "    <tr>\n",
              "      <th>2021-10-01</th>\n",
              "      <td>0.405453</td>\n",
              "      <td>0.289092</td>\n",
              "      <td>1.321158</td>\n",
              "      <td>-1.546906</td>\n",
              "      <td>5</td>\n",
              "    </tr>\n",
              "    <tr>\n",
              "      <th>2021-10-02</th>\n",
              "      <td>-0.202646</td>\n",
              "      <td>-0.655969</td>\n",
              "      <td>0.193421</td>\n",
              "      <td>0.553439</td>\n",
              "      <td>6</td>\n",
              "    </tr>\n",
              "  </tbody>\n",
              "</table>\n",
              "</div>"
            ],
            "text/plain": [
              "                   A         B         C         D  F\n",
              "2021-09-27  0.471435 -1.190976  1.432707 -0.312652  1\n",
              "2021-09-28 -0.720589  0.887163  0.859588 -0.636524  2\n",
              "2021-09-29  0.015696 -2.242685  1.150036  0.991946  3\n",
              "2021-09-30  0.953324 -2.021255 -0.334077  0.002118  4\n",
              "2021-10-01  0.405453  0.289092  1.321158 -1.546906  5\n",
              "2021-10-02 -0.202646 -0.655969  0.193421  0.553439  6"
            ]
          },
          "metadata": {},
          "execution_count": 8
        }
      ]
    },
    {
      "cell_type": "markdown",
      "metadata": {
        "id": "6i0kBRTJ9inS"
      },
      "source": [
        "#### Setting data by label & its index\n",
        "\n",
        "> **at, iat**\n",
        "\n",
        "- at : label을 이용하여 값 지정\n",
        "- iat: index를 이용하여 값 지정"
      ]
    },
    {
      "cell_type": "code",
      "metadata": {
        "colab": {
          "base_uri": "https://localhost:8080/"
        },
        "id": "DPz9ahg5-y53",
        "outputId": "b939e53e-51a1-4ca2-f38e-be8600d58e52"
      },
      "source": [
        "type(dates[0])"
      ],
      "execution_count": 9,
      "outputs": [
        {
          "output_type": "execute_result",
          "data": {
            "text/plain": [
              "pandas._libs.tslibs.timestamps.Timestamp"
            ]
          },
          "metadata": {},
          "execution_count": 9
        }
      ]
    },
    {
      "cell_type": "code",
      "metadata": {
        "id": "clG41EzNx5tI",
        "colab": {
          "base_uri": "https://localhost:8080/",
          "height": 235
        },
        "outputId": "16456a6c-1226-4e9f-f3ce-4eb943dfb16f"
      },
      "source": [
        "# Setting values by label:\n",
        "df.at[dates[0],'A'] = 0\n",
        "df"
      ],
      "execution_count": 10,
      "outputs": [
        {
          "output_type": "execute_result",
          "data": {
            "text/html": [
              "<div>\n",
              "<style scoped>\n",
              "    .dataframe tbody tr th:only-of-type {\n",
              "        vertical-align: middle;\n",
              "    }\n",
              "\n",
              "    .dataframe tbody tr th {\n",
              "        vertical-align: top;\n",
              "    }\n",
              "\n",
              "    .dataframe thead th {\n",
              "        text-align: right;\n",
              "    }\n",
              "</style>\n",
              "<table border=\"1\" class=\"dataframe\">\n",
              "  <thead>\n",
              "    <tr style=\"text-align: right;\">\n",
              "      <th></th>\n",
              "      <th>A</th>\n",
              "      <th>B</th>\n",
              "      <th>C</th>\n",
              "      <th>D</th>\n",
              "      <th>F</th>\n",
              "    </tr>\n",
              "  </thead>\n",
              "  <tbody>\n",
              "    <tr>\n",
              "      <th>2021-09-27</th>\n",
              "      <td>0.000000</td>\n",
              "      <td>-1.190976</td>\n",
              "      <td>1.432707</td>\n",
              "      <td>-0.312652</td>\n",
              "      <td>1</td>\n",
              "    </tr>\n",
              "    <tr>\n",
              "      <th>2021-09-28</th>\n",
              "      <td>-0.720589</td>\n",
              "      <td>0.887163</td>\n",
              "      <td>0.859588</td>\n",
              "      <td>-0.636524</td>\n",
              "      <td>2</td>\n",
              "    </tr>\n",
              "    <tr>\n",
              "      <th>2021-09-29</th>\n",
              "      <td>0.015696</td>\n",
              "      <td>-2.242685</td>\n",
              "      <td>1.150036</td>\n",
              "      <td>0.991946</td>\n",
              "      <td>3</td>\n",
              "    </tr>\n",
              "    <tr>\n",
              "      <th>2021-09-30</th>\n",
              "      <td>0.953324</td>\n",
              "      <td>-2.021255</td>\n",
              "      <td>-0.334077</td>\n",
              "      <td>0.002118</td>\n",
              "      <td>4</td>\n",
              "    </tr>\n",
              "    <tr>\n",
              "      <th>2021-10-01</th>\n",
              "      <td>0.405453</td>\n",
              "      <td>0.289092</td>\n",
              "      <td>1.321158</td>\n",
              "      <td>-1.546906</td>\n",
              "      <td>5</td>\n",
              "    </tr>\n",
              "    <tr>\n",
              "      <th>2021-10-02</th>\n",
              "      <td>-0.202646</td>\n",
              "      <td>-0.655969</td>\n",
              "      <td>0.193421</td>\n",
              "      <td>0.553439</td>\n",
              "      <td>6</td>\n",
              "    </tr>\n",
              "  </tbody>\n",
              "</table>\n",
              "</div>"
            ],
            "text/plain": [
              "                   A         B         C         D  F\n",
              "2021-09-27  0.000000 -1.190976  1.432707 -0.312652  1\n",
              "2021-09-28 -0.720589  0.887163  0.859588 -0.636524  2\n",
              "2021-09-29  0.015696 -2.242685  1.150036  0.991946  3\n",
              "2021-09-30  0.953324 -2.021255 -0.334077  0.002118  4\n",
              "2021-10-01  0.405453  0.289092  1.321158 -1.546906  5\n",
              "2021-10-02 -0.202646 -0.655969  0.193421  0.553439  6"
            ]
          },
          "metadata": {},
          "execution_count": 10
        }
      ]
    },
    {
      "cell_type": "code",
      "metadata": {
        "id": "JO26rUNSx5tL",
        "colab": {
          "base_uri": "https://localhost:8080/",
          "height": 235
        },
        "outputId": "989d6597-1636-4ff1-c466-4e647859c281"
      },
      "source": [
        "# Setting values by position (index):\n",
        "df.iat[0,1] = 0 #1행 2열 0으로 바꿈\n",
        "df"
      ],
      "execution_count": 12,
      "outputs": [
        {
          "output_type": "execute_result",
          "data": {
            "text/html": [
              "<div>\n",
              "<style scoped>\n",
              "    .dataframe tbody tr th:only-of-type {\n",
              "        vertical-align: middle;\n",
              "    }\n",
              "\n",
              "    .dataframe tbody tr th {\n",
              "        vertical-align: top;\n",
              "    }\n",
              "\n",
              "    .dataframe thead th {\n",
              "        text-align: right;\n",
              "    }\n",
              "</style>\n",
              "<table border=\"1\" class=\"dataframe\">\n",
              "  <thead>\n",
              "    <tr style=\"text-align: right;\">\n",
              "      <th></th>\n",
              "      <th>A</th>\n",
              "      <th>B</th>\n",
              "      <th>C</th>\n",
              "      <th>D</th>\n",
              "      <th>F</th>\n",
              "    </tr>\n",
              "  </thead>\n",
              "  <tbody>\n",
              "    <tr>\n",
              "      <th>2021-09-27</th>\n",
              "      <td>0.000000</td>\n",
              "      <td>0.000000</td>\n",
              "      <td>1.432707</td>\n",
              "      <td>-0.312652</td>\n",
              "      <td>1</td>\n",
              "    </tr>\n",
              "    <tr>\n",
              "      <th>2021-09-28</th>\n",
              "      <td>-0.720589</td>\n",
              "      <td>0.887163</td>\n",
              "      <td>0.859588</td>\n",
              "      <td>-0.636524</td>\n",
              "      <td>2</td>\n",
              "    </tr>\n",
              "    <tr>\n",
              "      <th>2021-09-29</th>\n",
              "      <td>0.015696</td>\n",
              "      <td>-2.242685</td>\n",
              "      <td>1.150036</td>\n",
              "      <td>0.991946</td>\n",
              "      <td>3</td>\n",
              "    </tr>\n",
              "    <tr>\n",
              "      <th>2021-09-30</th>\n",
              "      <td>0.953324</td>\n",
              "      <td>-2.021255</td>\n",
              "      <td>-0.334077</td>\n",
              "      <td>0.002118</td>\n",
              "      <td>4</td>\n",
              "    </tr>\n",
              "    <tr>\n",
              "      <th>2021-10-01</th>\n",
              "      <td>0.405453</td>\n",
              "      <td>0.289092</td>\n",
              "      <td>1.321158</td>\n",
              "      <td>-1.546906</td>\n",
              "      <td>5</td>\n",
              "    </tr>\n",
              "    <tr>\n",
              "      <th>2021-10-02</th>\n",
              "      <td>-0.202646</td>\n",
              "      <td>-0.655969</td>\n",
              "      <td>0.193421</td>\n",
              "      <td>0.553439</td>\n",
              "      <td>6</td>\n",
              "    </tr>\n",
              "  </tbody>\n",
              "</table>\n",
              "</div>"
            ],
            "text/plain": [
              "                   A         B         C         D  F\n",
              "2021-09-27  0.000000  0.000000  1.432707 -0.312652  1\n",
              "2021-09-28 -0.720589  0.887163  0.859588 -0.636524  2\n",
              "2021-09-29  0.015696 -2.242685  1.150036  0.991946  3\n",
              "2021-09-30  0.953324 -2.021255 -0.334077  0.002118  4\n",
              "2021-10-01  0.405453  0.289092  1.321158 -1.546906  5\n",
              "2021-10-02 -0.202646 -0.655969  0.193421  0.553439  6"
            ]
          },
          "metadata": {},
          "execution_count": 12
        }
      ]
    },
    {
      "cell_type": "code",
      "metadata": {
        "id": "4i3DL7n54ybq",
        "colab": {
          "base_uri": "https://localhost:8080/"
        },
        "outputId": "5882453e-adab-46ec-ee79-69c94065e59d"
      },
      "source": [
        "# Important properties of DataFrame\n",
        "len(df), df.shape, df.size"
      ],
      "execution_count": 13,
      "outputs": [
        {
          "output_type": "execute_result",
          "data": {
            "text/plain": [
              "(6, (6, 5), 30)"
            ]
          },
          "metadata": {},
          "execution_count": 13
        }
      ]
    },
    {
      "cell_type": "code",
      "metadata": {
        "id": "FzBfedfWx5tO",
        "colab": {
          "base_uri": "https://localhost:8080/",
          "height": 235
        },
        "outputId": "70df2615-4895-4aca-a39b-b673502ff2f1"
      },
      "source": [
        "# Setting by assigning with a NumPy array:\n",
        "df.loc[:,'D'] = np.array([5] * len(df))\n",
        "df"
      ],
      "execution_count": 15,
      "outputs": [
        {
          "output_type": "execute_result",
          "data": {
            "text/html": [
              "<div>\n",
              "<style scoped>\n",
              "    .dataframe tbody tr th:only-of-type {\n",
              "        vertical-align: middle;\n",
              "    }\n",
              "\n",
              "    .dataframe tbody tr th {\n",
              "        vertical-align: top;\n",
              "    }\n",
              "\n",
              "    .dataframe thead th {\n",
              "        text-align: right;\n",
              "    }\n",
              "</style>\n",
              "<table border=\"1\" class=\"dataframe\">\n",
              "  <thead>\n",
              "    <tr style=\"text-align: right;\">\n",
              "      <th></th>\n",
              "      <th>A</th>\n",
              "      <th>B</th>\n",
              "      <th>C</th>\n",
              "      <th>D</th>\n",
              "      <th>F</th>\n",
              "    </tr>\n",
              "  </thead>\n",
              "  <tbody>\n",
              "    <tr>\n",
              "      <th>2021-09-27</th>\n",
              "      <td>0.000000</td>\n",
              "      <td>0.000000</td>\n",
              "      <td>1.432707</td>\n",
              "      <td>5</td>\n",
              "      <td>1</td>\n",
              "    </tr>\n",
              "    <tr>\n",
              "      <th>2021-09-28</th>\n",
              "      <td>-0.720589</td>\n",
              "      <td>0.887163</td>\n",
              "      <td>0.859588</td>\n",
              "      <td>5</td>\n",
              "      <td>2</td>\n",
              "    </tr>\n",
              "    <tr>\n",
              "      <th>2021-09-29</th>\n",
              "      <td>0.015696</td>\n",
              "      <td>-2.242685</td>\n",
              "      <td>1.150036</td>\n",
              "      <td>5</td>\n",
              "      <td>3</td>\n",
              "    </tr>\n",
              "    <tr>\n",
              "      <th>2021-09-30</th>\n",
              "      <td>0.953324</td>\n",
              "      <td>-2.021255</td>\n",
              "      <td>-0.334077</td>\n",
              "      <td>5</td>\n",
              "      <td>4</td>\n",
              "    </tr>\n",
              "    <tr>\n",
              "      <th>2021-10-01</th>\n",
              "      <td>0.405453</td>\n",
              "      <td>0.289092</td>\n",
              "      <td>1.321158</td>\n",
              "      <td>5</td>\n",
              "      <td>5</td>\n",
              "    </tr>\n",
              "    <tr>\n",
              "      <th>2021-10-02</th>\n",
              "      <td>-0.202646</td>\n",
              "      <td>-0.655969</td>\n",
              "      <td>0.193421</td>\n",
              "      <td>5</td>\n",
              "      <td>6</td>\n",
              "    </tr>\n",
              "  </tbody>\n",
              "</table>\n",
              "</div>"
            ],
            "text/plain": [
              "                   A         B         C  D  F\n",
              "2021-09-27  0.000000  0.000000  1.432707  5  1\n",
              "2021-09-28 -0.720589  0.887163  0.859588  5  2\n",
              "2021-09-29  0.015696 -2.242685  1.150036  5  3\n",
              "2021-09-30  0.953324 -2.021255 -0.334077  5  4\n",
              "2021-10-01  0.405453  0.289092  1.321158  5  5\n",
              "2021-10-02 -0.202646 -0.655969  0.193421  5  6"
            ]
          },
          "metadata": {},
          "execution_count": 15
        }
      ]
    },
    {
      "cell_type": "markdown",
      "metadata": {
        "id": "mlglm6p4x5tR"
      },
      "source": [
        "### Missing data 처리\n",
        "> pandas primarily uses the value **np.nan** to represent missing data. \n",
        "- dropna()\n",
        "- fillna()\n",
        "- isna()"
      ]
    },
    {
      "cell_type": "code",
      "metadata": {
        "id": "9VkA1SVLUPkt",
        "colab": {
          "base_uri": "https://localhost:8080/",
          "height": 235
        },
        "outputId": "b9055a9a-ed5a-4ef8-afa7-c8acd0663d2f"
      },
      "source": [
        "df"
      ],
      "execution_count": 16,
      "outputs": [
        {
          "output_type": "execute_result",
          "data": {
            "text/html": [
              "<div>\n",
              "<style scoped>\n",
              "    .dataframe tbody tr th:only-of-type {\n",
              "        vertical-align: middle;\n",
              "    }\n",
              "\n",
              "    .dataframe tbody tr th {\n",
              "        vertical-align: top;\n",
              "    }\n",
              "\n",
              "    .dataframe thead th {\n",
              "        text-align: right;\n",
              "    }\n",
              "</style>\n",
              "<table border=\"1\" class=\"dataframe\">\n",
              "  <thead>\n",
              "    <tr style=\"text-align: right;\">\n",
              "      <th></th>\n",
              "      <th>A</th>\n",
              "      <th>B</th>\n",
              "      <th>C</th>\n",
              "      <th>D</th>\n",
              "      <th>F</th>\n",
              "    </tr>\n",
              "  </thead>\n",
              "  <tbody>\n",
              "    <tr>\n",
              "      <th>2021-09-27</th>\n",
              "      <td>0.000000</td>\n",
              "      <td>0.000000</td>\n",
              "      <td>1.432707</td>\n",
              "      <td>5</td>\n",
              "      <td>1</td>\n",
              "    </tr>\n",
              "    <tr>\n",
              "      <th>2021-09-28</th>\n",
              "      <td>-0.720589</td>\n",
              "      <td>0.887163</td>\n",
              "      <td>0.859588</td>\n",
              "      <td>5</td>\n",
              "      <td>2</td>\n",
              "    </tr>\n",
              "    <tr>\n",
              "      <th>2021-09-29</th>\n",
              "      <td>0.015696</td>\n",
              "      <td>-2.242685</td>\n",
              "      <td>1.150036</td>\n",
              "      <td>5</td>\n",
              "      <td>3</td>\n",
              "    </tr>\n",
              "    <tr>\n",
              "      <th>2021-09-30</th>\n",
              "      <td>0.953324</td>\n",
              "      <td>-2.021255</td>\n",
              "      <td>-0.334077</td>\n",
              "      <td>5</td>\n",
              "      <td>4</td>\n",
              "    </tr>\n",
              "    <tr>\n",
              "      <th>2021-10-01</th>\n",
              "      <td>0.405453</td>\n",
              "      <td>0.289092</td>\n",
              "      <td>1.321158</td>\n",
              "      <td>5</td>\n",
              "      <td>5</td>\n",
              "    </tr>\n",
              "    <tr>\n",
              "      <th>2021-10-02</th>\n",
              "      <td>-0.202646</td>\n",
              "      <td>-0.655969</td>\n",
              "      <td>0.193421</td>\n",
              "      <td>5</td>\n",
              "      <td>6</td>\n",
              "    </tr>\n",
              "  </tbody>\n",
              "</table>\n",
              "</div>"
            ],
            "text/plain": [
              "                   A         B         C  D  F\n",
              "2021-09-27  0.000000  0.000000  1.432707  5  1\n",
              "2021-09-28 -0.720589  0.887163  0.859588  5  2\n",
              "2021-09-29  0.015696 -2.242685  1.150036  5  3\n",
              "2021-09-30  0.953324 -2.021255 -0.334077  5  4\n",
              "2021-10-01  0.405453  0.289092  1.321158  5  5\n",
              "2021-10-02 -0.202646 -0.655969  0.193421  5  6"
            ]
          },
          "metadata": {},
          "execution_count": 16
        }
      ]
    },
    {
      "cell_type": "code",
      "metadata": {
        "id": "iF1aCeMDUXtX",
        "colab": {
          "base_uri": "https://localhost:8080/"
        },
        "outputId": "740c3a70-0542-4444-eaba-8d5a33fd6556"
      },
      "source": [
        "df.columns"
      ],
      "execution_count": 17,
      "outputs": [
        {
          "output_type": "execute_result",
          "data": {
            "text/plain": [
              "Index(['A', 'B', 'C', 'D', 'F'], dtype='object')"
            ]
          },
          "metadata": {},
          "execution_count": 17
        }
      ]
    },
    {
      "cell_type": "code",
      "metadata": {
        "id": "a__I8mi7x5tT",
        "colab": {
          "base_uri": "https://localhost:8080/",
          "height": 173
        },
        "outputId": "a93fd07d-945f-42fc-be38-b2e513e0e6b0"
      },
      "source": [
        "# Reindexing allows you to change/add/delete the index on a specified axis.\n",
        "df1 = df.reindex(index=dates[0:4], columns=list(df.columns) + ['E'])\n",
        "df1"
      ],
      "execution_count": 18,
      "outputs": [
        {
          "output_type": "execute_result",
          "data": {
            "text/html": [
              "<div>\n",
              "<style scoped>\n",
              "    .dataframe tbody tr th:only-of-type {\n",
              "        vertical-align: middle;\n",
              "    }\n",
              "\n",
              "    .dataframe tbody tr th {\n",
              "        vertical-align: top;\n",
              "    }\n",
              "\n",
              "    .dataframe thead th {\n",
              "        text-align: right;\n",
              "    }\n",
              "</style>\n",
              "<table border=\"1\" class=\"dataframe\">\n",
              "  <thead>\n",
              "    <tr style=\"text-align: right;\">\n",
              "      <th></th>\n",
              "      <th>A</th>\n",
              "      <th>B</th>\n",
              "      <th>C</th>\n",
              "      <th>D</th>\n",
              "      <th>F</th>\n",
              "      <th>E</th>\n",
              "    </tr>\n",
              "  </thead>\n",
              "  <tbody>\n",
              "    <tr>\n",
              "      <th>2021-09-27</th>\n",
              "      <td>0.000000</td>\n",
              "      <td>0.000000</td>\n",
              "      <td>1.432707</td>\n",
              "      <td>5</td>\n",
              "      <td>1</td>\n",
              "      <td>NaN</td>\n",
              "    </tr>\n",
              "    <tr>\n",
              "      <th>2021-09-28</th>\n",
              "      <td>-0.720589</td>\n",
              "      <td>0.887163</td>\n",
              "      <td>0.859588</td>\n",
              "      <td>5</td>\n",
              "      <td>2</td>\n",
              "      <td>NaN</td>\n",
              "    </tr>\n",
              "    <tr>\n",
              "      <th>2021-09-29</th>\n",
              "      <td>0.015696</td>\n",
              "      <td>-2.242685</td>\n",
              "      <td>1.150036</td>\n",
              "      <td>5</td>\n",
              "      <td>3</td>\n",
              "      <td>NaN</td>\n",
              "    </tr>\n",
              "    <tr>\n",
              "      <th>2021-09-30</th>\n",
              "      <td>0.953324</td>\n",
              "      <td>-2.021255</td>\n",
              "      <td>-0.334077</td>\n",
              "      <td>5</td>\n",
              "      <td>4</td>\n",
              "      <td>NaN</td>\n",
              "    </tr>\n",
              "  </tbody>\n",
              "</table>\n",
              "</div>"
            ],
            "text/plain": [
              "                   A         B         C  D  F   E\n",
              "2021-09-27  0.000000  0.000000  1.432707  5  1 NaN\n",
              "2021-09-28 -0.720589  0.887163  0.859588  5  2 NaN\n",
              "2021-09-29  0.015696 -2.242685  1.150036  5  3 NaN\n",
              "2021-09-30  0.953324 -2.021255 -0.334077  5  4 NaN"
            ]
          },
          "metadata": {},
          "execution_count": 18
        }
      ]
    },
    {
      "cell_type": "code",
      "metadata": {
        "id": "ndYxap_zx5tY",
        "colab": {
          "base_uri": "https://localhost:8080/",
          "height": 173
        },
        "outputId": "1cab65f1-ba26-4eca-a0b8-ac400d975666"
      },
      "source": [
        "df1.loc[dates[0]:dates[1],'E'] = 1\n",
        "df1"
      ],
      "execution_count": 19,
      "outputs": [
        {
          "output_type": "execute_result",
          "data": {
            "text/html": [
              "<div>\n",
              "<style scoped>\n",
              "    .dataframe tbody tr th:only-of-type {\n",
              "        vertical-align: middle;\n",
              "    }\n",
              "\n",
              "    .dataframe tbody tr th {\n",
              "        vertical-align: top;\n",
              "    }\n",
              "\n",
              "    .dataframe thead th {\n",
              "        text-align: right;\n",
              "    }\n",
              "</style>\n",
              "<table border=\"1\" class=\"dataframe\">\n",
              "  <thead>\n",
              "    <tr style=\"text-align: right;\">\n",
              "      <th></th>\n",
              "      <th>A</th>\n",
              "      <th>B</th>\n",
              "      <th>C</th>\n",
              "      <th>D</th>\n",
              "      <th>F</th>\n",
              "      <th>E</th>\n",
              "    </tr>\n",
              "  </thead>\n",
              "  <tbody>\n",
              "    <tr>\n",
              "      <th>2021-09-27</th>\n",
              "      <td>0.000000</td>\n",
              "      <td>0.000000</td>\n",
              "      <td>1.432707</td>\n",
              "      <td>5</td>\n",
              "      <td>1</td>\n",
              "      <td>1.0</td>\n",
              "    </tr>\n",
              "    <tr>\n",
              "      <th>2021-09-28</th>\n",
              "      <td>-0.720589</td>\n",
              "      <td>0.887163</td>\n",
              "      <td>0.859588</td>\n",
              "      <td>5</td>\n",
              "      <td>2</td>\n",
              "      <td>1.0</td>\n",
              "    </tr>\n",
              "    <tr>\n",
              "      <th>2021-09-29</th>\n",
              "      <td>0.015696</td>\n",
              "      <td>-2.242685</td>\n",
              "      <td>1.150036</td>\n",
              "      <td>5</td>\n",
              "      <td>3</td>\n",
              "      <td>NaN</td>\n",
              "    </tr>\n",
              "    <tr>\n",
              "      <th>2021-09-30</th>\n",
              "      <td>0.953324</td>\n",
              "      <td>-2.021255</td>\n",
              "      <td>-0.334077</td>\n",
              "      <td>5</td>\n",
              "      <td>4</td>\n",
              "      <td>NaN</td>\n",
              "    </tr>\n",
              "  </tbody>\n",
              "</table>\n",
              "</div>"
            ],
            "text/plain": [
              "                   A         B         C  D  F    E\n",
              "2021-09-27  0.000000  0.000000  1.432707  5  1  1.0\n",
              "2021-09-28 -0.720589  0.887163  0.859588  5  2  1.0\n",
              "2021-09-29  0.015696 -2.242685  1.150036  5  3  NaN\n",
              "2021-09-30  0.953324 -2.021255 -0.334077  5  4  NaN"
            ]
          },
          "metadata": {},
          "execution_count": 19
        }
      ]
    },
    {
      "cell_type": "code",
      "metadata": {
        "id": "jgEz6fkXh1mi",
        "colab": {
          "base_uri": "https://localhost:8080/"
        },
        "outputId": "30c78f71-5089-44a1-9a21-cc6dcdd5e9f7"
      },
      "source": [
        "df1.info()"
      ],
      "execution_count": 20,
      "outputs": [
        {
          "output_type": "stream",
          "name": "stdout",
          "text": [
            "<class 'pandas.core.frame.DataFrame'>\n",
            "DatetimeIndex: 4 entries, 2021-09-27 to 2021-09-30\n",
            "Freq: D\n",
            "Data columns (total 6 columns):\n",
            " #   Column  Non-Null Count  Dtype  \n",
            "---  ------  --------------  -----  \n",
            " 0   A       4 non-null      float64\n",
            " 1   B       4 non-null      float64\n",
            " 2   C       4 non-null      float64\n",
            " 3   D       4 non-null      int64  \n",
            " 4   F       4 non-null      int64  \n",
            " 5   E       2 non-null      float64\n",
            "dtypes: float64(4), int64(2)\n",
            "memory usage: 384.0 bytes\n"
          ]
        }
      ]
    },
    {
      "cell_type": "markdown",
      "metadata": {
        "id": "mNniCmjuiE7M"
      },
      "source": [
        "### Check 0 or NaN in dataframe\n",
        "- df.isnull().sum()\n",
        "- df.isna().sum()"
      ]
    },
    {
      "cell_type": "code",
      "metadata": {
        "id": "crI6XYQ0iggH",
        "colab": {
          "base_uri": "https://localhost:8080/"
        },
        "outputId": "079bd557-61f6-478d-9833-45f4be09df0e"
      },
      "source": [
        "df1.isnull().sum()"
      ],
      "execution_count": 21,
      "outputs": [
        {
          "output_type": "execute_result",
          "data": {
            "text/plain": [
              "A    0\n",
              "B    0\n",
              "C    0\n",
              "D    0\n",
              "F    0\n",
              "E    2\n",
              "dtype: int64"
            ]
          },
          "metadata": {},
          "execution_count": 21
        }
      ]
    },
    {
      "cell_type": "code",
      "metadata": {
        "id": "ekHDpHwdicbj",
        "colab": {
          "base_uri": "https://localhost:8080/"
        },
        "outputId": "d631b7f2-ff0b-47ab-ac75-7056d1be0624"
      },
      "source": [
        "df1.isna().sum()"
      ],
      "execution_count": 25,
      "outputs": [
        {
          "output_type": "execute_result",
          "data": {
            "text/plain": [
              "A    0\n",
              "B    0\n",
              "C    0\n",
              "D    0\n",
              "F    0\n",
              "E    2\n",
              "dtype: int64"
            ]
          },
          "metadata": {},
          "execution_count": 25
        }
      ]
    },
    {
      "cell_type": "code",
      "metadata": {
        "colab": {
          "base_uri": "https://localhost:8080/",
          "height": 235
        },
        "id": "5wtnvDgiEY2K",
        "outputId": "60888d36-d93e-4eca-e5d0-eec2e844ac32"
      },
      "source": [
        "df"
      ],
      "execution_count": 26,
      "outputs": [
        {
          "output_type": "execute_result",
          "data": {
            "text/html": [
              "<div>\n",
              "<style scoped>\n",
              "    .dataframe tbody tr th:only-of-type {\n",
              "        vertical-align: middle;\n",
              "    }\n",
              "\n",
              "    .dataframe tbody tr th {\n",
              "        vertical-align: top;\n",
              "    }\n",
              "\n",
              "    .dataframe thead th {\n",
              "        text-align: right;\n",
              "    }\n",
              "</style>\n",
              "<table border=\"1\" class=\"dataframe\">\n",
              "  <thead>\n",
              "    <tr style=\"text-align: right;\">\n",
              "      <th></th>\n",
              "      <th>A</th>\n",
              "      <th>B</th>\n",
              "      <th>C</th>\n",
              "      <th>D</th>\n",
              "      <th>F</th>\n",
              "    </tr>\n",
              "  </thead>\n",
              "  <tbody>\n",
              "    <tr>\n",
              "      <th>2021-09-27</th>\n",
              "      <td>0.000000</td>\n",
              "      <td>0.000000</td>\n",
              "      <td>1.432707</td>\n",
              "      <td>5</td>\n",
              "      <td>1</td>\n",
              "    </tr>\n",
              "    <tr>\n",
              "      <th>2021-09-28</th>\n",
              "      <td>-0.720589</td>\n",
              "      <td>0.887163</td>\n",
              "      <td>0.859588</td>\n",
              "      <td>5</td>\n",
              "      <td>2</td>\n",
              "    </tr>\n",
              "    <tr>\n",
              "      <th>2021-09-29</th>\n",
              "      <td>0.015696</td>\n",
              "      <td>-2.242685</td>\n",
              "      <td>1.150036</td>\n",
              "      <td>5</td>\n",
              "      <td>3</td>\n",
              "    </tr>\n",
              "    <tr>\n",
              "      <th>2021-09-30</th>\n",
              "      <td>0.953324</td>\n",
              "      <td>-2.021255</td>\n",
              "      <td>-0.334077</td>\n",
              "      <td>5</td>\n",
              "      <td>4</td>\n",
              "    </tr>\n",
              "    <tr>\n",
              "      <th>2021-10-01</th>\n",
              "      <td>0.405453</td>\n",
              "      <td>0.289092</td>\n",
              "      <td>1.321158</td>\n",
              "      <td>5</td>\n",
              "      <td>5</td>\n",
              "    </tr>\n",
              "    <tr>\n",
              "      <th>2021-10-02</th>\n",
              "      <td>-0.202646</td>\n",
              "      <td>-0.655969</td>\n",
              "      <td>0.193421</td>\n",
              "      <td>5</td>\n",
              "      <td>6</td>\n",
              "    </tr>\n",
              "  </tbody>\n",
              "</table>\n",
              "</div>"
            ],
            "text/plain": [
              "                   A         B         C  D  F\n",
              "2021-09-27  0.000000  0.000000  1.432707  5  1\n",
              "2021-09-28 -0.720589  0.887163  0.859588  5  2\n",
              "2021-09-29  0.015696 -2.242685  1.150036  5  3\n",
              "2021-09-30  0.953324 -2.021255 -0.334077  5  4\n",
              "2021-10-01  0.405453  0.289092  1.321158  5  5\n",
              "2021-10-02 -0.202646 -0.655969  0.193421  5  6"
            ]
          },
          "metadata": {},
          "execution_count": 26
        }
      ]
    },
    {
      "cell_type": "code",
      "metadata": {
        "colab": {
          "base_uri": "https://localhost:8080/"
        },
        "id": "mOqAlcQYEZyq",
        "outputId": "b90486ff-edac-411c-9208-a8bc37a764c6"
      },
      "source": [
        "df.isnull().sum()"
      ],
      "execution_count": 27,
      "outputs": [
        {
          "output_type": "execute_result",
          "data": {
            "text/plain": [
              "A    0\n",
              "B    0\n",
              "C    0\n",
              "D    0\n",
              "F    0\n",
              "dtype: int64"
            ]
          },
          "metadata": {},
          "execution_count": 27
        }
      ]
    },
    {
      "cell_type": "markdown",
      "metadata": {
        "id": "ALNJZqY3Unph"
      },
      "source": [
        "## Drop missing data from DataFrame"
      ]
    },
    {
      "cell_type": "code",
      "metadata": {
        "id": "AutSyiPmx5tc",
        "colab": {
          "base_uri": "https://localhost:8080/",
          "height": 111
        },
        "outputId": "76d42a2d-5a78-4153-a208-8ff7c1355b6e"
      },
      "source": [
        "# To drop any rows that have missing data.\n",
        "df1.dropna(how='any')"
      ],
      "execution_count": 28,
      "outputs": [
        {
          "output_type": "execute_result",
          "data": {
            "text/html": [
              "<div>\n",
              "<style scoped>\n",
              "    .dataframe tbody tr th:only-of-type {\n",
              "        vertical-align: middle;\n",
              "    }\n",
              "\n",
              "    .dataframe tbody tr th {\n",
              "        vertical-align: top;\n",
              "    }\n",
              "\n",
              "    .dataframe thead th {\n",
              "        text-align: right;\n",
              "    }\n",
              "</style>\n",
              "<table border=\"1\" class=\"dataframe\">\n",
              "  <thead>\n",
              "    <tr style=\"text-align: right;\">\n",
              "      <th></th>\n",
              "      <th>A</th>\n",
              "      <th>B</th>\n",
              "      <th>C</th>\n",
              "      <th>D</th>\n",
              "      <th>F</th>\n",
              "      <th>E</th>\n",
              "    </tr>\n",
              "  </thead>\n",
              "  <tbody>\n",
              "    <tr>\n",
              "      <th>2021-09-27</th>\n",
              "      <td>0.000000</td>\n",
              "      <td>0.000000</td>\n",
              "      <td>1.432707</td>\n",
              "      <td>5</td>\n",
              "      <td>1</td>\n",
              "      <td>1.0</td>\n",
              "    </tr>\n",
              "    <tr>\n",
              "      <th>2021-09-28</th>\n",
              "      <td>-0.720589</td>\n",
              "      <td>0.887163</td>\n",
              "      <td>0.859588</td>\n",
              "      <td>5</td>\n",
              "      <td>2</td>\n",
              "      <td>1.0</td>\n",
              "    </tr>\n",
              "  </tbody>\n",
              "</table>\n",
              "</div>"
            ],
            "text/plain": [
              "                   A         B         C  D  F    E\n",
              "2021-09-27  0.000000  0.000000  1.432707  5  1  1.0\n",
              "2021-09-28 -0.720589  0.887163  0.859588  5  2  1.0"
            ]
          },
          "metadata": {},
          "execution_count": 28
        }
      ]
    },
    {
      "cell_type": "code",
      "metadata": {
        "id": "dNKFCrRMx5tj",
        "colab": {
          "base_uri": "https://localhost:8080/",
          "height": 173
        },
        "outputId": "17f7f0d3-816d-42da-fcf2-4137b56e43d9"
      },
      "source": [
        "# Filling missing data.\n",
        "df1.fillna(value=5)"
      ],
      "execution_count": 29,
      "outputs": [
        {
          "output_type": "execute_result",
          "data": {
            "text/html": [
              "<div>\n",
              "<style scoped>\n",
              "    .dataframe tbody tr th:only-of-type {\n",
              "        vertical-align: middle;\n",
              "    }\n",
              "\n",
              "    .dataframe tbody tr th {\n",
              "        vertical-align: top;\n",
              "    }\n",
              "\n",
              "    .dataframe thead th {\n",
              "        text-align: right;\n",
              "    }\n",
              "</style>\n",
              "<table border=\"1\" class=\"dataframe\">\n",
              "  <thead>\n",
              "    <tr style=\"text-align: right;\">\n",
              "      <th></th>\n",
              "      <th>A</th>\n",
              "      <th>B</th>\n",
              "      <th>C</th>\n",
              "      <th>D</th>\n",
              "      <th>F</th>\n",
              "      <th>E</th>\n",
              "    </tr>\n",
              "  </thead>\n",
              "  <tbody>\n",
              "    <tr>\n",
              "      <th>2021-09-27</th>\n",
              "      <td>0.000000</td>\n",
              "      <td>0.000000</td>\n",
              "      <td>1.432707</td>\n",
              "      <td>5</td>\n",
              "      <td>1</td>\n",
              "      <td>1.0</td>\n",
              "    </tr>\n",
              "    <tr>\n",
              "      <th>2021-09-28</th>\n",
              "      <td>-0.720589</td>\n",
              "      <td>0.887163</td>\n",
              "      <td>0.859588</td>\n",
              "      <td>5</td>\n",
              "      <td>2</td>\n",
              "      <td>1.0</td>\n",
              "    </tr>\n",
              "    <tr>\n",
              "      <th>2021-09-29</th>\n",
              "      <td>0.015696</td>\n",
              "      <td>-2.242685</td>\n",
              "      <td>1.150036</td>\n",
              "      <td>5</td>\n",
              "      <td>3</td>\n",
              "      <td>5.0</td>\n",
              "    </tr>\n",
              "    <tr>\n",
              "      <th>2021-09-30</th>\n",
              "      <td>0.953324</td>\n",
              "      <td>-2.021255</td>\n",
              "      <td>-0.334077</td>\n",
              "      <td>5</td>\n",
              "      <td>4</td>\n",
              "      <td>5.0</td>\n",
              "    </tr>\n",
              "  </tbody>\n",
              "</table>\n",
              "</div>"
            ],
            "text/plain": [
              "                   A         B         C  D  F    E\n",
              "2021-09-27  0.000000  0.000000  1.432707  5  1  1.0\n",
              "2021-09-28 -0.720589  0.887163  0.859588  5  2  1.0\n",
              "2021-09-29  0.015696 -2.242685  1.150036  5  3  5.0\n",
              "2021-09-30  0.953324 -2.021255 -0.334077  5  4  5.0"
            ]
          },
          "metadata": {},
          "execution_count": 29
        }
      ]
    },
    {
      "cell_type": "code",
      "metadata": {
        "id": "tUNtkHnex5tn",
        "colab": {
          "base_uri": "https://localhost:8080/",
          "height": 173
        },
        "outputId": "9b760da2-209b-4327-d5bf-4c8cede446ce"
      },
      "source": [
        "# Get the boolean mask where values are nan.\n",
        "pd.isna(df1)"
      ],
      "execution_count": 30,
      "outputs": [
        {
          "output_type": "execute_result",
          "data": {
            "text/html": [
              "<div>\n",
              "<style scoped>\n",
              "    .dataframe tbody tr th:only-of-type {\n",
              "        vertical-align: middle;\n",
              "    }\n",
              "\n",
              "    .dataframe tbody tr th {\n",
              "        vertical-align: top;\n",
              "    }\n",
              "\n",
              "    .dataframe thead th {\n",
              "        text-align: right;\n",
              "    }\n",
              "</style>\n",
              "<table border=\"1\" class=\"dataframe\">\n",
              "  <thead>\n",
              "    <tr style=\"text-align: right;\">\n",
              "      <th></th>\n",
              "      <th>A</th>\n",
              "      <th>B</th>\n",
              "      <th>C</th>\n",
              "      <th>D</th>\n",
              "      <th>F</th>\n",
              "      <th>E</th>\n",
              "    </tr>\n",
              "  </thead>\n",
              "  <tbody>\n",
              "    <tr>\n",
              "      <th>2021-09-27</th>\n",
              "      <td>False</td>\n",
              "      <td>False</td>\n",
              "      <td>False</td>\n",
              "      <td>False</td>\n",
              "      <td>False</td>\n",
              "      <td>False</td>\n",
              "    </tr>\n",
              "    <tr>\n",
              "      <th>2021-09-28</th>\n",
              "      <td>False</td>\n",
              "      <td>False</td>\n",
              "      <td>False</td>\n",
              "      <td>False</td>\n",
              "      <td>False</td>\n",
              "      <td>False</td>\n",
              "    </tr>\n",
              "    <tr>\n",
              "      <th>2021-09-29</th>\n",
              "      <td>False</td>\n",
              "      <td>False</td>\n",
              "      <td>False</td>\n",
              "      <td>False</td>\n",
              "      <td>False</td>\n",
              "      <td>True</td>\n",
              "    </tr>\n",
              "    <tr>\n",
              "      <th>2021-09-30</th>\n",
              "      <td>False</td>\n",
              "      <td>False</td>\n",
              "      <td>False</td>\n",
              "      <td>False</td>\n",
              "      <td>False</td>\n",
              "      <td>True</td>\n",
              "    </tr>\n",
              "  </tbody>\n",
              "</table>\n",
              "</div>"
            ],
            "text/plain": [
              "                A      B      C      D      F      E\n",
              "2021-09-27  False  False  False  False  False  False\n",
              "2021-09-28  False  False  False  False  False  False\n",
              "2021-09-29  False  False  False  False  False   True\n",
              "2021-09-30  False  False  False  False  False   True"
            ]
          },
          "metadata": {},
          "execution_count": 30
        }
      ]
    },
    {
      "cell_type": "markdown",
      "metadata": {
        "id": "w2Unp3z_5hah"
      },
      "source": [
        "\n",
        "\n",
        "---\n",
        "\n"
      ]
    },
    {
      "cell_type": "markdown",
      "metadata": {
        "id": "j66hx2P0x5ts"
      },
      "source": [
        "### 데이터 통계 (Statistics)"
      ]
    },
    {
      "cell_type": "code",
      "metadata": {
        "id": "RmrvQ0VPx5tu",
        "colab": {
          "base_uri": "https://localhost:8080/",
          "height": 235
        },
        "outputId": "ca3fdb82-456e-4abc-8da8-562cb7416a39"
      },
      "source": [
        "df"
      ],
      "execution_count": 31,
      "outputs": [
        {
          "output_type": "execute_result",
          "data": {
            "text/html": [
              "<div>\n",
              "<style scoped>\n",
              "    .dataframe tbody tr th:only-of-type {\n",
              "        vertical-align: middle;\n",
              "    }\n",
              "\n",
              "    .dataframe tbody tr th {\n",
              "        vertical-align: top;\n",
              "    }\n",
              "\n",
              "    .dataframe thead th {\n",
              "        text-align: right;\n",
              "    }\n",
              "</style>\n",
              "<table border=\"1\" class=\"dataframe\">\n",
              "  <thead>\n",
              "    <tr style=\"text-align: right;\">\n",
              "      <th></th>\n",
              "      <th>A</th>\n",
              "      <th>B</th>\n",
              "      <th>C</th>\n",
              "      <th>D</th>\n",
              "      <th>F</th>\n",
              "    </tr>\n",
              "  </thead>\n",
              "  <tbody>\n",
              "    <tr>\n",
              "      <th>2021-09-27</th>\n",
              "      <td>0.000000</td>\n",
              "      <td>0.000000</td>\n",
              "      <td>1.432707</td>\n",
              "      <td>5</td>\n",
              "      <td>1</td>\n",
              "    </tr>\n",
              "    <tr>\n",
              "      <th>2021-09-28</th>\n",
              "      <td>-0.720589</td>\n",
              "      <td>0.887163</td>\n",
              "      <td>0.859588</td>\n",
              "      <td>5</td>\n",
              "      <td>2</td>\n",
              "    </tr>\n",
              "    <tr>\n",
              "      <th>2021-09-29</th>\n",
              "      <td>0.015696</td>\n",
              "      <td>-2.242685</td>\n",
              "      <td>1.150036</td>\n",
              "      <td>5</td>\n",
              "      <td>3</td>\n",
              "    </tr>\n",
              "    <tr>\n",
              "      <th>2021-09-30</th>\n",
              "      <td>0.953324</td>\n",
              "      <td>-2.021255</td>\n",
              "      <td>-0.334077</td>\n",
              "      <td>5</td>\n",
              "      <td>4</td>\n",
              "    </tr>\n",
              "    <tr>\n",
              "      <th>2021-10-01</th>\n",
              "      <td>0.405453</td>\n",
              "      <td>0.289092</td>\n",
              "      <td>1.321158</td>\n",
              "      <td>5</td>\n",
              "      <td>5</td>\n",
              "    </tr>\n",
              "    <tr>\n",
              "      <th>2021-10-02</th>\n",
              "      <td>-0.202646</td>\n",
              "      <td>-0.655969</td>\n",
              "      <td>0.193421</td>\n",
              "      <td>5</td>\n",
              "      <td>6</td>\n",
              "    </tr>\n",
              "  </tbody>\n",
              "</table>\n",
              "</div>"
            ],
            "text/plain": [
              "                   A         B         C  D  F\n",
              "2021-09-27  0.000000  0.000000  1.432707  5  1\n",
              "2021-09-28 -0.720589  0.887163  0.859588  5  2\n",
              "2021-09-29  0.015696 -2.242685  1.150036  5  3\n",
              "2021-09-30  0.953324 -2.021255 -0.334077  5  4\n",
              "2021-10-01  0.405453  0.289092  1.321158  5  5\n",
              "2021-10-02 -0.202646 -0.655969  0.193421  5  6"
            ]
          },
          "metadata": {},
          "execution_count": 31
        }
      ]
    },
    {
      "cell_type": "code",
      "metadata": {
        "id": "417gj6C9x5t3",
        "colab": {
          "base_uri": "https://localhost:8080/"
        },
        "outputId": "7dabeb50-c1df-43a1-ad69-c69beb8c60e3"
      },
      "source": [
        "df.mean()"
      ],
      "execution_count": 32,
      "outputs": [
        {
          "output_type": "execute_result",
          "data": {
            "text/plain": [
              "A    0.075206\n",
              "B   -0.623942\n",
              "C    0.770472\n",
              "D    5.000000\n",
              "F    3.500000\n",
              "dtype: float64"
            ]
          },
          "metadata": {},
          "execution_count": 32
        }
      ]
    },
    {
      "cell_type": "code",
      "metadata": {
        "id": "6aFj7FIix5t8",
        "colab": {
          "base_uri": "https://localhost:8080/"
        },
        "outputId": "e4452068-2497-4ea6-db53-98181be8fbad"
      },
      "source": [
        "df.mean(0) # axis = 0"
      ],
      "execution_count": 33,
      "outputs": [
        {
          "output_type": "execute_result",
          "data": {
            "text/plain": [
              "A    0.075206\n",
              "B   -0.623942\n",
              "C    0.770472\n",
              "D    5.000000\n",
              "F    3.500000\n",
              "dtype: float64"
            ]
          },
          "metadata": {},
          "execution_count": 33
        }
      ]
    },
    {
      "cell_type": "code",
      "metadata": {
        "id": "MUt62dGHx5uC",
        "colab": {
          "base_uri": "https://localhost:8080/"
        },
        "outputId": "ed1adf93-1c55-4feb-bdb0-710a5021c211"
      },
      "source": [
        "df.mean(1) # axis = 1"
      ],
      "execution_count": 35,
      "outputs": [
        {
          "output_type": "execute_result",
          "data": {
            "text/plain": [
              "2021-09-27    1.486541\n",
              "2021-09-28    1.605233\n",
              "2021-09-29    1.384609\n",
              "2021-09-30    1.519598\n",
              "2021-10-01    2.403141\n",
              "2021-10-02    2.066961\n",
              "Freq: D, dtype: float64"
            ]
          },
          "metadata": {},
          "execution_count": 35
        }
      ]
    },
    {
      "cell_type": "code",
      "metadata": {
        "id": "vS3NS0Ln6WCF",
        "colab": {
          "base_uri": "https://localhost:8080/"
        },
        "outputId": "cb0cb214-de12-477a-9cf0-90f1769e7560"
      },
      "source": [
        "df.std(0) #, df.std(1)"
      ],
      "execution_count": 38,
      "outputs": [
        {
          "output_type": "execute_result",
          "data": {
            "text/plain": [
              "A    0.565658\n",
              "B    1.271236\n",
              "C    0.699548\n",
              "D    0.000000\n",
              "F    1.870829\n",
              "dtype: float64"
            ]
          },
          "metadata": {},
          "execution_count": 38
        }
      ]
    },
    {
      "cell_type": "code",
      "metadata": {
        "colab": {
          "base_uri": "https://localhost:8080/"
        },
        "id": "uDbx8NmxFprA",
        "outputId": "7003be4e-7aa2-4098-8601-aea0e618796c"
      },
      "source": [
        "print(df.std(1))"
      ],
      "execution_count": 41,
      "outputs": [
        {
          "output_type": "stream",
          "name": "stdout",
          "text": [
            "2021-09-27    2.061772\n",
            "2021-09-28    2.130806\n",
            "2021-09-29    2.773389\n",
            "2021-09-30    2.939388\n",
            "2021-10-01    2.404059\n",
            "2021-10-02    3.168088\n",
            "Freq: D, dtype: float64\n"
          ]
        }
      ]
    },
    {
      "cell_type": "markdown",
      "metadata": {
        "id": "vaKGa-Yx6cvg"
      },
      "source": [
        "#### [DIY: 도전] 데이터프레임 df의 평균(mean(0))과 표준편차를 이용한 그래프\n",
        "- 평균에 대한 꺽은선그래프\n",
        "- 평균과 표준편차를 이용한 막대그래프\n",
        "> x-축은 A,B,C,D,E"
      ]
    },
    {
      "cell_type": "code",
      "metadata": {
        "id": "q6q2mxK5AdiC"
      },
      "source": [
        "import numpy as np\n",
        "import matplotlib.pyplot as plt\n",
        "# 노트북 셀 내에 그림 출력 (Jupyter notebook or lab)\n",
        "# %matplotlib inline"
      ],
      "execution_count": 42,
      "outputs": []
    },
    {
      "cell_type": "code",
      "metadata": {
        "id": "tAzAyew9_8zQ",
        "colab": {
          "base_uri": "https://localhost:8080/",
          "height": 265
        },
        "outputId": "a3f24486-d11c-4546-8821-2ad03492cb25"
      },
      "source": [
        "# 막대그래프(bar graph)를 그린다.\n",
        "means = [1, 2, 3]\n",
        "stddevs = [0.2, 0.4, 0.5]\n",
        "bar_labels = ['bar 1', 'bar 2', 'bar 3']\n",
        "\n",
        "# plot bars\n",
        "x_pos = list(range(1,len(bar_labels)+1))\n",
        "plt.bar(x_pos, means, yerr=stddevs)\n",
        "\n",
        "plt.show()"
      ],
      "execution_count": 46,
      "outputs": [
        {
          "output_type": "display_data",
          "data": {
            "image/png": "[encoded data removed]",
            "text/plain": [
              "<Figure size 432x288 with 1 Axes>"
            ]
          },
          "metadata": {
            "needs_background": "light"
          }
        }
      ]
    },
    {
      "cell_type": "code",
      "metadata": {
        "colab": {
          "base_uri": "https://localhost:8080/",
          "height": 235
        },
        "id": "5-N3TEi6Hc2j",
        "outputId": "17a02f4e-b249-478f-f6a9-1ddaed5e525b"
      },
      "source": [
        "df"
      ],
      "execution_count": 51,
      "outputs": [
        {
          "output_type": "execute_result",
          "data": {
            "text/html": [
              "<div>\n",
              "<style scoped>\n",
              "    .dataframe tbody tr th:only-of-type {\n",
              "        vertical-align: middle;\n",
              "    }\n",
              "\n",
              "    .dataframe tbody tr th {\n",
              "        vertical-align: top;\n",
              "    }\n",
              "\n",
              "    .dataframe thead th {\n",
              "        text-align: right;\n",
              "    }\n",
              "</style>\n",
              "<table border=\"1\" class=\"dataframe\">\n",
              "  <thead>\n",
              "    <tr style=\"text-align: right;\">\n",
              "      <th></th>\n",
              "      <th>A</th>\n",
              "      <th>B</th>\n",
              "      <th>C</th>\n",
              "      <th>D</th>\n",
              "      <th>F</th>\n",
              "    </tr>\n",
              "  </thead>\n",
              "  <tbody>\n",
              "    <tr>\n",
              "      <th>2021-09-27</th>\n",
              "      <td>0.000000</td>\n",
              "      <td>0.000000</td>\n",
              "      <td>1.432707</td>\n",
              "      <td>5</td>\n",
              "      <td>1</td>\n",
              "    </tr>\n",
              "    <tr>\n",
              "      <th>2021-09-28</th>\n",
              "      <td>-0.720589</td>\n",
              "      <td>0.887163</td>\n",
              "      <td>0.859588</td>\n",
              "      <td>5</td>\n",
              "      <td>2</td>\n",
              "    </tr>\n",
              "    <tr>\n",
              "      <th>2021-09-29</th>\n",
              "      <td>0.015696</td>\n",
              "      <td>-2.242685</td>\n",
              "      <td>1.150036</td>\n",
              "      <td>5</td>\n",
              "      <td>3</td>\n",
              "    </tr>\n",
              "    <tr>\n",
              "      <th>2021-09-30</th>\n",
              "      <td>0.953324</td>\n",
              "      <td>-2.021255</td>\n",
              "      <td>-0.334077</td>\n",
              "      <td>5</td>\n",
              "      <td>4</td>\n",
              "    </tr>\n",
              "    <tr>\n",
              "      <th>2021-10-01</th>\n",
              "      <td>0.405453</td>\n",
              "      <td>0.289092</td>\n",
              "      <td>1.321158</td>\n",
              "      <td>5</td>\n",
              "      <td>5</td>\n",
              "    </tr>\n",
              "    <tr>\n",
              "      <th>2021-10-02</th>\n",
              "      <td>-0.202646</td>\n",
              "      <td>-0.655969</td>\n",
              "      <td>0.193421</td>\n",
              "      <td>5</td>\n",
              "      <td>6</td>\n",
              "    </tr>\n",
              "  </tbody>\n",
              "</table>\n",
              "</div>"
            ],
            "text/plain": [
              "                   A         B         C  D  F\n",
              "2021-09-27  0.000000  0.000000  1.432707  5  1\n",
              "2021-09-28 -0.720589  0.887163  0.859588  5  2\n",
              "2021-09-29  0.015696 -2.242685  1.150036  5  3\n",
              "2021-09-30  0.953324 -2.021255 -0.334077  5  4\n",
              "2021-10-01  0.405453  0.289092  1.321158  5  5\n",
              "2021-10-02 -0.202646 -0.655969  0.193421  5  6"
            ]
          },
          "metadata": {},
          "execution_count": 51
        }
      ]
    },
    {
      "cell_type": "code",
      "metadata": {
        "id": "epE56yO5Apfp",
        "colab": {
          "base_uri": "https://localhost:8080/",
          "height": 283
        },
        "outputId": "9383af49-1225-4f21-96d5-2e6db31b92e3"
      },
      "source": [
        "plt.plot(df.mean(0), '-o', ms=10)"
      ],
      "execution_count": 52,
      "outputs": [
        {
          "output_type": "execute_result",
          "data": {
            "text/plain": [
              "[<matplotlib.lines.Line2D at 0x7fd9a075d450>]"
            ]
          },
          "metadata": {},
          "execution_count": 52
        },
        {
          "output_type": "display_data",
          "data": {
            "image/png": "[encoded data removed]",
            "text/plain": [
              "<Figure size 432x288 with 1 Axes>"
            ]
          },
          "metadata": {
            "needs_background": "light"
          }
        }
      ]
    },
    {
      "cell_type": "code",
      "metadata": {
        "id": "A2YtMydfBFUV",
        "colab": {
          "base_uri": "https://localhost:8080/",
          "height": 283
        },
        "outputId": "20a24263-fad3-4c6b-d5b0-4e4503753d54"
      },
      "source": [
        "# df의 평균(mean(0))과 표준편차를 이용한 막대그래프\n",
        "bar_labels = df.columns\n",
        "# plot bars\n",
        "plt.bar(bar_labels, df.mean(0), yerr=df.std(0)) #, color='rgbcy')"
      ],
      "execution_count": 53,
      "outputs": [
        {
          "output_type": "execute_result",
          "data": {
            "text/plain": [
              "<BarContainer object of 5 artists>"
            ]
          },
          "metadata": {},
          "execution_count": 53
        },
        {
          "output_type": "display_data",
          "data": {
            "image/png": "[encoded data removed]",
            "text/plain": [
              "<Figure size 432x288 with 1 Axes>"
            ]
          },
          "metadata": {
            "needs_background": "light"
          }
        }
      ]
    },
    {
      "cell_type": "code",
      "metadata": {
        "id": "3gPno8Shj0YQ",
        "colab": {
          "base_uri": "https://localhost:8080/",
          "height": 235
        },
        "outputId": "5dec280c-530a-495a-f4ef-caa39b42dea6"
      },
      "source": [
        "df"
      ],
      "execution_count": 49,
      "outputs": [
        {
          "output_type": "execute_result",
          "data": {
            "text/html": [
              "<div>\n",
              "<style scoped>\n",
              "    .dataframe tbody tr th:only-of-type {\n",
              "        vertical-align: middle;\n",
              "    }\n",
              "\n",
              "    .dataframe tbody tr th {\n",
              "        vertical-align: top;\n",
              "    }\n",
              "\n",
              "    .dataframe thead th {\n",
              "        text-align: right;\n",
              "    }\n",
              "</style>\n",
              "<table border=\"1\" class=\"dataframe\">\n",
              "  <thead>\n",
              "    <tr style=\"text-align: right;\">\n",
              "      <th></th>\n",
              "      <th>A</th>\n",
              "      <th>B</th>\n",
              "      <th>C</th>\n",
              "      <th>D</th>\n",
              "      <th>F</th>\n",
              "    </tr>\n",
              "  </thead>\n",
              "  <tbody>\n",
              "    <tr>\n",
              "      <th>2021-09-27</th>\n",
              "      <td>0.000000</td>\n",
              "      <td>0.000000</td>\n",
              "      <td>1.432707</td>\n",
              "      <td>5</td>\n",
              "      <td>1</td>\n",
              "    </tr>\n",
              "    <tr>\n",
              "      <th>2021-09-28</th>\n",
              "      <td>-0.720589</td>\n",
              "      <td>0.887163</td>\n",
              "      <td>0.859588</td>\n",
              "      <td>5</td>\n",
              "      <td>2</td>\n",
              "    </tr>\n",
              "    <tr>\n",
              "      <th>2021-09-29</th>\n",
              "      <td>0.015696</td>\n",
              "      <td>-2.242685</td>\n",
              "      <td>1.150036</td>\n",
              "      <td>5</td>\n",
              "      <td>3</td>\n",
              "    </tr>\n",
              "    <tr>\n",
              "      <th>2021-09-30</th>\n",
              "      <td>0.953324</td>\n",
              "      <td>-2.021255</td>\n",
              "      <td>-0.334077</td>\n",
              "      <td>5</td>\n",
              "      <td>4</td>\n",
              "    </tr>\n",
              "    <tr>\n",
              "      <th>2021-10-01</th>\n",
              "      <td>0.405453</td>\n",
              "      <td>0.289092</td>\n",
              "      <td>1.321158</td>\n",
              "      <td>5</td>\n",
              "      <td>5</td>\n",
              "    </tr>\n",
              "    <tr>\n",
              "      <th>2021-10-02</th>\n",
              "      <td>-0.202646</td>\n",
              "      <td>-0.655969</td>\n",
              "      <td>0.193421</td>\n",
              "      <td>5</td>\n",
              "      <td>6</td>\n",
              "    </tr>\n",
              "  </tbody>\n",
              "</table>\n",
              "</div>"
            ],
            "text/plain": [
              "                   A         B         C  D  F\n",
              "2021-09-27  0.000000  0.000000  1.432707  5  1\n",
              "2021-09-28 -0.720589  0.887163  0.859588  5  2\n",
              "2021-09-29  0.015696 -2.242685  1.150036  5  3\n",
              "2021-09-30  0.953324 -2.021255 -0.334077  5  4\n",
              "2021-10-01  0.405453  0.289092  1.321158  5  5\n",
              "2021-10-02 -0.202646 -0.655969  0.193421  5  6"
            ]
          },
          "metadata": {},
          "execution_count": 49
        }
      ]
    },
    {
      "cell_type": "code",
      "metadata": {
        "id": "qZVosChIji11"
      },
      "source": [
        "# [DIY] df의 날짜별 평균(mean(1))과 표준편차를 이용한 막대그래프\n",
        "# Your code\n",
        "# plt.plot(df.mean(1), '-o', ms=8)\n",
        "# plt.bar(bar_labels,df.mean(1), yerr=df.std(1)) #, color='rgbcy')"
      ],
      "execution_count": null,
      "outputs": []
    },
    {
      "cell_type": "code",
      "metadata": {
        "colab": {
          "base_uri": "https://localhost:8080/",
          "height": 283
        },
        "id": "7wkplfZPH1jO",
        "outputId": "46c03973-36f0-4a84-f4e7-15b5ee067c8f"
      },
      "source": [
        ""
      ],
      "execution_count": 54,
      "outputs": [
        {
          "output_type": "execute_result",
          "data": {
            "text/plain": [
              "[<matplotlib.lines.Line2D at 0x7fd9a064d990>]"
            ]
          },
          "metadata": {},
          "execution_count": 54
        },
        {
          "output_type": "display_data",
          "data": {
            "image/png": "[encoded data removed]",
            "text/plain": [
              "<Figure size 432x288 with 1 Axes>"
            ]
          },
          "metadata": {
            "needs_background": "light"
          }
        }
      ]
    },
    {
      "cell_type": "markdown",
      "metadata": {
        "id": "zl2_Xvcik7ol"
      },
      "source": [
        "---"
      ]
    }
  ]
}