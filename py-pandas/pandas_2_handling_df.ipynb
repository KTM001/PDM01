{
  "nbformat": 4,
  "nbformat_minor": 0,
  "metadata": {
    "kernelspec": {
      "name": "python3",
      "display_name": "Python 3"
    },
    "language_info": {
      "codemirror_mode": {
        "name": "ipython",
        "version": 3
      },
      "file_extension": ".py",
      "mimetype": "text/x-python",
      "name": "python",
      "nbconvert_exporter": "python",
      "pygments_lexer": "ipython3",
      "version": "3.6.6"
    },
    "colab": {
      "name": "pandas_2_handling_df.ipynb",
      "provenance": [],
      "collapsed_sections": [],
      "include_colab_link": true
    }
  },
  "cells": [
    {
      "cell_type": "markdown",
      "metadata": {
        "id": "view-in-github",
        "colab_type": "text"
      },
      "source": [
        "<a href=\"https://colab.research.google.com/github/KTM001/PDM01/blob/main/py-pandas/pandas_2_handling_df.ipynb\" target=\"_parent\"><img src=\"https://colab.research.google.com/assets/colab-badge.svg\" alt=\"Open In Colab\"/></a>"
      ]
    },
    {
      "cell_type": "markdown",
      "metadata": {
        "id": "-a_Ksvwdx5pf"
      },
      "source": [
        "### Python module 3. **pandas**"
      ]
    },
    {
      "cell_type": "markdown",
      "metadata": {
        "id": "P_F0RSPKx5pl"
      },
      "source": [
        "# Using pandas"
      ]
    },
    {
      "cell_type": "markdown",
      "metadata": {
        "id": "FfxMgWUFx5pm"
      },
      "source": [
        "* [10 Minutes to pandas](https://pandas.pydata.org/pandas-docs/stable/10min.html)\n",
        "* [Pandas tutorial with interactive exercises](https://www.kaggle.com/pistak/pandas-tutorial-with-interactive-exercises)"
      ]
    },
    {
      "cell_type": "code",
      "metadata": {
        "id": "2mpGSeRlx5po"
      },
      "source": [
        "import pandas as pd\n",
        "import numpy as np\n",
        "import matplotlib.pyplot as plt\n",
        "# %matplotlib inline  # work for Jupyter notebook or lab"
      ],
      "execution_count": 1,
      "outputs": []
    },
    {
      "cell_type": "markdown",
      "metadata": {
        "id": "wq1nIp3F1fFB"
      },
      "source": [
        "\n",
        "\n",
        "---\n",
        "\n"
      ]
    },
    {
      "cell_type": "markdown",
      "metadata": {
        "id": "D3zoFQ4bx5qh"
      },
      "source": [
        "## [2] Handling DataFrame\n",
        "- head()\n",
        "- tail()\n",
        "- describe()\n",
        "- info()"
      ]
    },
    {
      "cell_type": "code",
      "metadata": {
        "id": "w2eNkCfLx5p-",
        "colab": {
          "base_uri": "https://localhost:8080/"
        },
        "outputId": "6d3ca8ce-f986-4ea2-b0b9-8233e0c834ea"
      },
      "source": [
        "# Creating a DataFrame by passing a NumPy array, with a datetime index and labeled columns:\n",
        "dates = pd.date_range('20210927', periods=6)\n",
        "dates"
      ],
      "execution_count": 2,
      "outputs": [
        {
          "output_type": "execute_result",
          "data": {
            "text/plain": [
              "DatetimeIndex(['2021-09-27', '2021-09-28', '2021-09-29', '2021-09-30',\n",
              "               '2021-10-01', '2021-10-02'],\n",
              "              dtype='datetime64[ns]', freq='D')"
            ]
          },
          "metadata": {},
          "execution_count": 2
        }
      ]
    },
    {
      "cell_type": "code",
      "metadata": {
        "id": "dHwUodTGx5qj",
        "colab": {
          "base_uri": "https://localhost:8080/",
          "height": 235
        },
        "outputId": "36c5b1a1-6e1c-4b99-8d91-765178036c4d"
      },
      "source": [
        "# head()\n",
        "df = pd.DataFrame(np.random.randn(6,4), index=dates, columns=list('ABCD'))\n",
        "df.head(6)"
      ],
      "execution_count": 12,
      "outputs": [
        {
          "output_type": "execute_result",
          "data": {
            "text/html": [
              "<div>\n",
              "<style scoped>\n",
              "    .dataframe tbody tr th:only-of-type {\n",
              "        vertical-align: middle;\n",
              "    }\n",
              "\n",
              "    .dataframe tbody tr th {\n",
              "        vertical-align: top;\n",
              "    }\n",
              "\n",
              "    .dataframe thead th {\n",
              "        text-align: right;\n",
              "    }\n",
              "</style>\n",
              "<table border=\"1\" class=\"dataframe\">\n",
              "  <thead>\n",
              "    <tr style=\"text-align: right;\">\n",
              "      <th></th>\n",
              "      <th>A</th>\n",
              "      <th>B</th>\n",
              "      <th>C</th>\n",
              "      <th>D</th>\n",
              "    </tr>\n",
              "  </thead>\n",
              "  <tbody>\n",
              "    <tr>\n",
              "      <th>2021-09-27</th>\n",
              "      <td>0.553911</td>\n",
              "      <td>-0.640303</td>\n",
              "      <td>0.148136</td>\n",
              "      <td>-1.128304</td>\n",
              "    </tr>\n",
              "    <tr>\n",
              "      <th>2021-09-28</th>\n",
              "      <td>-0.570433</td>\n",
              "      <td>-0.006663</td>\n",
              "      <td>1.270593</td>\n",
              "      <td>-0.139677</td>\n",
              "    </tr>\n",
              "    <tr>\n",
              "      <th>2021-09-29</th>\n",
              "      <td>-0.208412</td>\n",
              "      <td>-0.945289</td>\n",
              "      <td>1.705770</td>\n",
              "      <td>0.228062</td>\n",
              "    </tr>\n",
              "    <tr>\n",
              "      <th>2021-09-30</th>\n",
              "      <td>-0.247594</td>\n",
              "      <td>2.580768</td>\n",
              "      <td>0.220771</td>\n",
              "      <td>0.749565</td>\n",
              "    </tr>\n",
              "    <tr>\n",
              "      <th>2021-10-01</th>\n",
              "      <td>0.280052</td>\n",
              "      <td>2.859679</td>\n",
              "      <td>-0.699500</td>\n",
              "      <td>0.096524</td>\n",
              "    </tr>\n",
              "    <tr>\n",
              "      <th>2021-10-02</th>\n",
              "      <td>-0.616031</td>\n",
              "      <td>-1.078464</td>\n",
              "      <td>1.159955</td>\n",
              "      <td>-0.506532</td>\n",
              "    </tr>\n",
              "  </tbody>\n",
              "</table>\n",
              "</div>"
            ],
            "text/plain": [
              "                   A         B         C         D\n",
              "2021-09-27  0.553911 -0.640303  0.148136 -1.128304\n",
              "2021-09-28 -0.570433 -0.006663  1.270593 -0.139677\n",
              "2021-09-29 -0.208412 -0.945289  1.705770  0.228062\n",
              "2021-09-30 -0.247594  2.580768  0.220771  0.749565\n",
              "2021-10-01  0.280052  2.859679 -0.699500  0.096524\n",
              "2021-10-02 -0.616031 -1.078464  1.159955 -0.506532"
            ]
          },
          "metadata": {},
          "execution_count": 12
        }
      ]
    },
    {
      "cell_type": "code",
      "metadata": {
        "id": "OvYDoBVE1og9",
        "colab": {
          "base_uri": "https://localhost:8080/",
          "height": 111
        },
        "outputId": "d623d1a1-c629-493d-98d6-d34ffc306c7a"
      },
      "source": [
        "df.head(2)"
      ],
      "execution_count": 5,
      "outputs": [
        {
          "output_type": "execute_result",
          "data": {
            "text/html": [
              "<div>\n",
              "<style scoped>\n",
              "    .dataframe tbody tr th:only-of-type {\n",
              "        vertical-align: middle;\n",
              "    }\n",
              "\n",
              "    .dataframe tbody tr th {\n",
              "        vertical-align: top;\n",
              "    }\n",
              "\n",
              "    .dataframe thead th {\n",
              "        text-align: right;\n",
              "    }\n",
              "</style>\n",
              "<table border=\"1\" class=\"dataframe\">\n",
              "  <thead>\n",
              "    <tr style=\"text-align: right;\">\n",
              "      <th></th>\n",
              "      <th>A</th>\n",
              "      <th>B</th>\n",
              "      <th>C</th>\n",
              "      <th>D</th>\n",
              "    </tr>\n",
              "  </thead>\n",
              "  <tbody>\n",
              "    <tr>\n",
              "      <th>2021-09-27</th>\n",
              "      <td>0.746370</td>\n",
              "      <td>-0.316511</td>\n",
              "      <td>0.095220</td>\n",
              "      <td>-0.669188</td>\n",
              "    </tr>\n",
              "    <tr>\n",
              "      <th>2021-09-28</th>\n",
              "      <td>1.181348</td>\n",
              "      <td>0.120550</td>\n",
              "      <td>-1.322995</td>\n",
              "      <td>0.380613</td>\n",
              "    </tr>\n",
              "  </tbody>\n",
              "</table>\n",
              "</div>"
            ],
            "text/plain": [
              "                   A         B         C         D\n",
              "2021-09-27  0.746370 -0.316511  0.095220 -0.669188\n",
              "2021-09-28  1.181348  0.120550 -1.322995  0.380613"
            ]
          },
          "metadata": {},
          "execution_count": 5
        }
      ]
    },
    {
      "cell_type": "code",
      "metadata": {
        "id": "LzWwuDWDx5qo",
        "colab": {
          "base_uri": "https://localhost:8080/",
          "height": 142
        },
        "outputId": "0c5807fd-dbb2-4e58-f3a6-b78d11857f11"
      },
      "source": [
        "df.tail(3)"
      ],
      "execution_count": 10,
      "outputs": [
        {
          "output_type": "execute_result",
          "data": {
            "text/html": [
              "<div>\n",
              "<style scoped>\n",
              "    .dataframe tbody tr th:only-of-type {\n",
              "        vertical-align: middle;\n",
              "    }\n",
              "\n",
              "    .dataframe tbody tr th {\n",
              "        vertical-align: top;\n",
              "    }\n",
              "\n",
              "    .dataframe thead th {\n",
              "        text-align: right;\n",
              "    }\n",
              "</style>\n",
              "<table border=\"1\" class=\"dataframe\">\n",
              "  <thead>\n",
              "    <tr style=\"text-align: right;\">\n",
              "      <th></th>\n",
              "      <th>A</th>\n",
              "      <th>B</th>\n",
              "      <th>C</th>\n",
              "      <th>D</th>\n",
              "    </tr>\n",
              "  </thead>\n",
              "  <tbody>\n",
              "    <tr>\n",
              "      <th>2021-09-30</th>\n",
              "      <td>0.660036</td>\n",
              "      <td>0.665383</td>\n",
              "      <td>-1.488970</td>\n",
              "      <td>-1.023081</td>\n",
              "    </tr>\n",
              "    <tr>\n",
              "      <th>2021-10-01</th>\n",
              "      <td>-1.265528</td>\n",
              "      <td>-0.203866</td>\n",
              "      <td>0.606394</td>\n",
              "      <td>0.471039</td>\n",
              "    </tr>\n",
              "    <tr>\n",
              "      <th>2021-10-02</th>\n",
              "      <td>0.222422</td>\n",
              "      <td>0.563114</td>\n",
              "      <td>-1.141267</td>\n",
              "      <td>-1.136049</td>\n",
              "    </tr>\n",
              "  </tbody>\n",
              "</table>\n",
              "</div>"
            ],
            "text/plain": [
              "                   A         B         C         D\n",
              "2021-09-30  0.660036  0.665383 -1.488970 -1.023081\n",
              "2021-10-01 -1.265528 -0.203866  0.606394  0.471039\n",
              "2021-10-02  0.222422  0.563114 -1.141267 -1.136049"
            ]
          },
          "metadata": {},
          "execution_count": 10
        }
      ]
    },
    {
      "cell_type": "code",
      "metadata": {
        "id": "rJLH024Zx5qs",
        "colab": {
          "base_uri": "https://localhost:8080/"
        },
        "outputId": "c5789f56-c80f-41e4-f05d-8f141edada76"
      },
      "source": [
        "# Display the index, columns, and the underlying NumPy data:\n",
        "df.index"
      ],
      "execution_count": 11,
      "outputs": [
        {
          "output_type": "execute_result",
          "data": {
            "text/plain": [
              "DatetimeIndex(['2021-09-27', '2021-09-28', '2021-09-29', '2021-09-30',\n",
              "               '2021-10-01', '2021-10-02'],\n",
              "              dtype='datetime64[ns]', freq='D')"
            ]
          },
          "metadata": {},
          "execution_count": 11
        }
      ]
    },
    {
      "cell_type": "code",
      "metadata": {
        "id": "edrGpQlLc0dt",
        "colab": {
          "base_uri": "https://localhost:8080/"
        },
        "outputId": "682b2e5b-dd43-479b-c54a-d36408816236"
      },
      "source": [
        "df.columns"
      ],
      "execution_count": 13,
      "outputs": [
        {
          "output_type": "execute_result",
          "data": {
            "text/plain": [
              "Index(['A', 'B', 'C', 'D'], dtype='object')"
            ]
          },
          "metadata": {},
          "execution_count": 13
        }
      ]
    },
    {
      "cell_type": "code",
      "metadata": {
        "id": "TB-CHW85x5rA",
        "colab": {
          "base_uri": "https://localhost:8080/"
        },
        "outputId": "b3db59aa-d065-495f-afd7-3f04ef3c9dff"
      },
      "source": [
        "df.info()"
      ],
      "execution_count": 14,
      "outputs": [
        {
          "output_type": "stream",
          "name": "stdout",
          "text": [
            "<class 'pandas.core.frame.DataFrame'>\n",
            "DatetimeIndex: 6 entries, 2021-09-27 to 2021-10-02\n",
            "Freq: D\n",
            "Data columns (total 4 columns):\n",
            " #   Column  Non-Null Count  Dtype  \n",
            "---  ------  --------------  -----  \n",
            " 0   A       6 non-null      float64\n",
            " 1   B       6 non-null      float64\n",
            " 2   C       6 non-null      float64\n",
            " 3   D       6 non-null      float64\n",
            "dtypes: float64(4)\n",
            "memory usage: 240.0 bytes\n"
          ]
        }
      ]
    },
    {
      "cell_type": "code",
      "metadata": {
        "id": "PEzVmjUAx5q7",
        "colab": {
          "base_uri": "https://localhost:8080/",
          "height": 297
        },
        "outputId": "7e11cb49-4d4c-486d-9d56-77c3144a6036"
      },
      "source": [
        "# describe() shows a quick statistic summary of your data:\n",
        "df.describe()"
      ],
      "execution_count": 15,
      "outputs": [
        {
          "output_type": "execute_result",
          "data": {
            "text/html": [
              "<div>\n",
              "<style scoped>\n",
              "    .dataframe tbody tr th:only-of-type {\n",
              "        vertical-align: middle;\n",
              "    }\n",
              "\n",
              "    .dataframe tbody tr th {\n",
              "        vertical-align: top;\n",
              "    }\n",
              "\n",
              "    .dataframe thead th {\n",
              "        text-align: right;\n",
              "    }\n",
              "</style>\n",
              "<table border=\"1\" class=\"dataframe\">\n",
              "  <thead>\n",
              "    <tr style=\"text-align: right;\">\n",
              "      <th></th>\n",
              "      <th>A</th>\n",
              "      <th>B</th>\n",
              "      <th>C</th>\n",
              "      <th>D</th>\n",
              "    </tr>\n",
              "  </thead>\n",
              "  <tbody>\n",
              "    <tr>\n",
              "      <th>count</th>\n",
              "      <td>6.000000</td>\n",
              "      <td>6.000000</td>\n",
              "      <td>6.000000</td>\n",
              "      <td>6.000000</td>\n",
              "    </tr>\n",
              "    <tr>\n",
              "      <th>mean</th>\n",
              "      <td>-0.134751</td>\n",
              "      <td>0.461621</td>\n",
              "      <td>0.634288</td>\n",
              "      <td>-0.116727</td>\n",
              "    </tr>\n",
              "    <tr>\n",
              "      <th>std</th>\n",
              "      <td>0.466031</td>\n",
              "      <td>1.790321</td>\n",
              "      <td>0.896171</td>\n",
              "      <td>0.646619</td>\n",
              "    </tr>\n",
              "    <tr>\n",
              "      <th>min</th>\n",
              "      <td>-0.616031</td>\n",
              "      <td>-1.078464</td>\n",
              "      <td>-0.699500</td>\n",
              "      <td>-1.128304</td>\n",
              "    </tr>\n",
              "    <tr>\n",
              "      <th>25%</th>\n",
              "      <td>-0.489723</td>\n",
              "      <td>-0.869043</td>\n",
              "      <td>0.166295</td>\n",
              "      <td>-0.414818</td>\n",
              "    </tr>\n",
              "    <tr>\n",
              "      <th>50%</th>\n",
              "      <td>-0.228003</td>\n",
              "      <td>-0.323483</td>\n",
              "      <td>0.690363</td>\n",
              "      <td>-0.021576</td>\n",
              "    </tr>\n",
              "    <tr>\n",
              "      <th>75%</th>\n",
              "      <td>0.157936</td>\n",
              "      <td>1.933910</td>\n",
              "      <td>1.242934</td>\n",
              "      <td>0.195178</td>\n",
              "    </tr>\n",
              "    <tr>\n",
              "      <th>max</th>\n",
              "      <td>0.553911</td>\n",
              "      <td>2.859679</td>\n",
              "      <td>1.705770</td>\n",
              "      <td>0.749565</td>\n",
              "    </tr>\n",
              "  </tbody>\n",
              "</table>\n",
              "</div>"
            ],
            "text/plain": [
              "              A         B         C         D\n",
              "count  6.000000  6.000000  6.000000  6.000000\n",
              "mean  -0.134751  0.461621  0.634288 -0.116727\n",
              "std    0.466031  1.790321  0.896171  0.646619\n",
              "min   -0.616031 -1.078464 -0.699500 -1.128304\n",
              "25%   -0.489723 -0.869043  0.166295 -0.414818\n",
              "50%   -0.228003 -0.323483  0.690363 -0.021576\n",
              "75%    0.157936  1.933910  1.242934  0.195178\n",
              "max    0.553911  2.859679  1.705770  0.749565"
            ]
          },
          "metadata": {},
          "execution_count": 15
        }
      ]
    },
    {
      "cell_type": "code",
      "metadata": {
        "id": "ExhpF6H8dDKo",
        "colab": {
          "base_uri": "https://localhost:8080/",
          "height": 173
        },
        "outputId": "2bc2c8b3-506d-4148-be93-a86073a0eaea"
      },
      "source": [
        "df.describe().T"
      ],
      "execution_count": 16,
      "outputs": [
        {
          "output_type": "execute_result",
          "data": {
            "text/html": [
              "<div>\n",
              "<style scoped>\n",
              "    .dataframe tbody tr th:only-of-type {\n",
              "        vertical-align: middle;\n",
              "    }\n",
              "\n",
              "    .dataframe tbody tr th {\n",
              "        vertical-align: top;\n",
              "    }\n",
              "\n",
              "    .dataframe thead th {\n",
              "        text-align: right;\n",
              "    }\n",
              "</style>\n",
              "<table border=\"1\" class=\"dataframe\">\n",
              "  <thead>\n",
              "    <tr style=\"text-align: right;\">\n",
              "      <th></th>\n",
              "      <th>count</th>\n",
              "      <th>mean</th>\n",
              "      <th>std</th>\n",
              "      <th>min</th>\n",
              "      <th>25%</th>\n",
              "      <th>50%</th>\n",
              "      <th>75%</th>\n",
              "      <th>max</th>\n",
              "    </tr>\n",
              "  </thead>\n",
              "  <tbody>\n",
              "    <tr>\n",
              "      <th>A</th>\n",
              "      <td>6.0</td>\n",
              "      <td>-0.134751</td>\n",
              "      <td>0.466031</td>\n",
              "      <td>-0.616031</td>\n",
              "      <td>-0.489723</td>\n",
              "      <td>-0.228003</td>\n",
              "      <td>0.157936</td>\n",
              "      <td>0.553911</td>\n",
              "    </tr>\n",
              "    <tr>\n",
              "      <th>B</th>\n",
              "      <td>6.0</td>\n",
              "      <td>0.461621</td>\n",
              "      <td>1.790321</td>\n",
              "      <td>-1.078464</td>\n",
              "      <td>-0.869043</td>\n",
              "      <td>-0.323483</td>\n",
              "      <td>1.933910</td>\n",
              "      <td>2.859679</td>\n",
              "    </tr>\n",
              "    <tr>\n",
              "      <th>C</th>\n",
              "      <td>6.0</td>\n",
              "      <td>0.634288</td>\n",
              "      <td>0.896171</td>\n",
              "      <td>-0.699500</td>\n",
              "      <td>0.166295</td>\n",
              "      <td>0.690363</td>\n",
              "      <td>1.242934</td>\n",
              "      <td>1.705770</td>\n",
              "    </tr>\n",
              "    <tr>\n",
              "      <th>D</th>\n",
              "      <td>6.0</td>\n",
              "      <td>-0.116727</td>\n",
              "      <td>0.646619</td>\n",
              "      <td>-1.128304</td>\n",
              "      <td>-0.414818</td>\n",
              "      <td>-0.021576</td>\n",
              "      <td>0.195178</td>\n",
              "      <td>0.749565</td>\n",
              "    </tr>\n",
              "  </tbody>\n",
              "</table>\n",
              "</div>"
            ],
            "text/plain": [
              "   count      mean       std       min       25%       50%       75%       max\n",
              "A    6.0 -0.134751  0.466031 -0.616031 -0.489723 -0.228003  0.157936  0.553911\n",
              "B    6.0  0.461621  1.790321 -1.078464 -0.869043 -0.323483  1.933910  2.859679\n",
              "C    6.0  0.634288  0.896171 -0.699500  0.166295  0.690363  1.242934  1.705770\n",
              "D    6.0 -0.116727  0.646619 -1.128304 -0.414818 -0.021576  0.195178  0.749565"
            ]
          },
          "metadata": {},
          "execution_count": 16
        }
      ]
    },
    {
      "cell_type": "code",
      "metadata": {
        "colab": {
          "base_uri": "https://localhost:8080/",
          "height": 235
        },
        "id": "6oTgYsVgzX-o",
        "outputId": "820b330f-3220-43bb-d6f8-244c14fbeb2e"
      },
      "source": [
        "df"
      ],
      "execution_count": 17,
      "outputs": [
        {
          "output_type": "execute_result",
          "data": {
            "text/html": [
              "<div>\n",
              "<style scoped>\n",
              "    .dataframe tbody tr th:only-of-type {\n",
              "        vertical-align: middle;\n",
              "    }\n",
              "\n",
              "    .dataframe tbody tr th {\n",
              "        vertical-align: top;\n",
              "    }\n",
              "\n",
              "    .dataframe thead th {\n",
              "        text-align: right;\n",
              "    }\n",
              "</style>\n",
              "<table border=\"1\" class=\"dataframe\">\n",
              "  <thead>\n",
              "    <tr style=\"text-align: right;\">\n",
              "      <th></th>\n",
              "      <th>A</th>\n",
              "      <th>B</th>\n",
              "      <th>C</th>\n",
              "      <th>D</th>\n",
              "    </tr>\n",
              "  </thead>\n",
              "  <tbody>\n",
              "    <tr>\n",
              "      <th>2021-09-27</th>\n",
              "      <td>0.553911</td>\n",
              "      <td>-0.640303</td>\n",
              "      <td>0.148136</td>\n",
              "      <td>-1.128304</td>\n",
              "    </tr>\n",
              "    <tr>\n",
              "      <th>2021-09-28</th>\n",
              "      <td>-0.570433</td>\n",
              "      <td>-0.006663</td>\n",
              "      <td>1.270593</td>\n",
              "      <td>-0.139677</td>\n",
              "    </tr>\n",
              "    <tr>\n",
              "      <th>2021-09-29</th>\n",
              "      <td>-0.208412</td>\n",
              "      <td>-0.945289</td>\n",
              "      <td>1.705770</td>\n",
              "      <td>0.228062</td>\n",
              "    </tr>\n",
              "    <tr>\n",
              "      <th>2021-09-30</th>\n",
              "      <td>-0.247594</td>\n",
              "      <td>2.580768</td>\n",
              "      <td>0.220771</td>\n",
              "      <td>0.749565</td>\n",
              "    </tr>\n",
              "    <tr>\n",
              "      <th>2021-10-01</th>\n",
              "      <td>0.280052</td>\n",
              "      <td>2.859679</td>\n",
              "      <td>-0.699500</td>\n",
              "      <td>0.096524</td>\n",
              "    </tr>\n",
              "    <tr>\n",
              "      <th>2021-10-02</th>\n",
              "      <td>-0.616031</td>\n",
              "      <td>-1.078464</td>\n",
              "      <td>1.159955</td>\n",
              "      <td>-0.506532</td>\n",
              "    </tr>\n",
              "  </tbody>\n",
              "</table>\n",
              "</div>"
            ],
            "text/plain": [
              "                   A         B         C         D\n",
              "2021-09-27  0.553911 -0.640303  0.148136 -1.128304\n",
              "2021-09-28 -0.570433 -0.006663  1.270593 -0.139677\n",
              "2021-09-29 -0.208412 -0.945289  1.705770  0.228062\n",
              "2021-09-30 -0.247594  2.580768  0.220771  0.749565\n",
              "2021-10-01  0.280052  2.859679 -0.699500  0.096524\n",
              "2021-10-02 -0.616031 -1.078464  1.159955 -0.506532"
            ]
          },
          "metadata": {},
          "execution_count": 17
        }
      ]
    },
    {
      "cell_type": "code",
      "metadata": {
        "id": "Br9VwFVex5rE",
        "colab": {
          "base_uri": "https://localhost:8080/",
          "height": 173
        },
        "outputId": "f7cd5cae-b9c1-40a8-b6ec-a1df37750fea"
      },
      "source": [
        "# Transposing your dataframe:\n",
        "df.T"
      ],
      "execution_count": 18,
      "outputs": [
        {
          "output_type": "execute_result",
          "data": {
            "text/html": [
              "<div>\n",
              "<style scoped>\n",
              "    .dataframe tbody tr th:only-of-type {\n",
              "        vertical-align: middle;\n",
              "    }\n",
              "\n",
              "    .dataframe tbody tr th {\n",
              "        vertical-align: top;\n",
              "    }\n",
              "\n",
              "    .dataframe thead th {\n",
              "        text-align: right;\n",
              "    }\n",
              "</style>\n",
              "<table border=\"1\" class=\"dataframe\">\n",
              "  <thead>\n",
              "    <tr style=\"text-align: right;\">\n",
              "      <th></th>\n",
              "      <th>2021-09-27</th>\n",
              "      <th>2021-09-28</th>\n",
              "      <th>2021-09-29</th>\n",
              "      <th>2021-09-30</th>\n",
              "      <th>2021-10-01</th>\n",
              "      <th>2021-10-02</th>\n",
              "    </tr>\n",
              "  </thead>\n",
              "  <tbody>\n",
              "    <tr>\n",
              "      <th>A</th>\n",
              "      <td>0.553911</td>\n",
              "      <td>-0.570433</td>\n",
              "      <td>-0.208412</td>\n",
              "      <td>-0.247594</td>\n",
              "      <td>0.280052</td>\n",
              "      <td>-0.616031</td>\n",
              "    </tr>\n",
              "    <tr>\n",
              "      <th>B</th>\n",
              "      <td>-0.640303</td>\n",
              "      <td>-0.006663</td>\n",
              "      <td>-0.945289</td>\n",
              "      <td>2.580768</td>\n",
              "      <td>2.859679</td>\n",
              "      <td>-1.078464</td>\n",
              "    </tr>\n",
              "    <tr>\n",
              "      <th>C</th>\n",
              "      <td>0.148136</td>\n",
              "      <td>1.270593</td>\n",
              "      <td>1.705770</td>\n",
              "      <td>0.220771</td>\n",
              "      <td>-0.699500</td>\n",
              "      <td>1.159955</td>\n",
              "    </tr>\n",
              "    <tr>\n",
              "      <th>D</th>\n",
              "      <td>-1.128304</td>\n",
              "      <td>-0.139677</td>\n",
              "      <td>0.228062</td>\n",
              "      <td>0.749565</td>\n",
              "      <td>0.096524</td>\n",
              "      <td>-0.506532</td>\n",
              "    </tr>\n",
              "  </tbody>\n",
              "</table>\n",
              "</div>"
            ],
            "text/plain": [
              "   2021-09-27  2021-09-28  2021-09-29  2021-09-30  2021-10-01  2021-10-02\n",
              "A    0.553911   -0.570433   -0.208412   -0.247594    0.280052   -0.616031\n",
              "B   -0.640303   -0.006663   -0.945289    2.580768    2.859679   -1.078464\n",
              "C    0.148136    1.270593    1.705770    0.220771   -0.699500    1.159955\n",
              "D   -1.128304   -0.139677    0.228062    0.749565    0.096524   -0.506532"
            ]
          },
          "metadata": {},
          "execution_count": 18
        }
      ]
    },
    {
      "cell_type": "code",
      "metadata": {
        "id": "vkg1gQUVLoy9",
        "colab": {
          "base_uri": "https://localhost:8080/"
        },
        "outputId": "bbe1c0b8-4e88-4b0d-d006-73948c4aea7a"
      },
      "source": [
        "df.T.index"
      ],
      "execution_count": 19,
      "outputs": [
        {
          "output_type": "execute_result",
          "data": {
            "text/plain": [
              "Index(['A', 'B', 'C', 'D'], dtype='object')"
            ]
          },
          "metadata": {},
          "execution_count": 19
        }
      ]
    },
    {
      "cell_type": "markdown",
      "metadata": {
        "id": "A4lHGd4px5rU"
      },
      "source": [
        "### Sorting"
      ]
    },
    {
      "cell_type": "markdown",
      "metadata": {
        "id": "jlXuIbzD6oUD"
      },
      "source": [
        "#### Sort by index\n",
        "- sort_index(axis=0, ascending=False)\n",
        "- sort_index(axis=1, ascending=False)\n",
        "\n",
        "> Axis=0 Column-Wise Operation (수직으로)\n",
        "\n",
        "> Axis=1 Row-Wise Operation (수평으로)"
      ]
    },
    {
      "cell_type": "code",
      "metadata": {
        "colab": {
          "base_uri": "https://localhost:8080/",
          "height": 235
        },
        "id": "B0kvJajU2HKR",
        "outputId": "b2a21971-b4d5-42fa-d07d-0ee3815dd88f"
      },
      "source": [
        "df"
      ],
      "execution_count": 20,
      "outputs": [
        {
          "output_type": "execute_result",
          "data": {
            "text/html": [
              "<div>\n",
              "<style scoped>\n",
              "    .dataframe tbody tr th:only-of-type {\n",
              "        vertical-align: middle;\n",
              "    }\n",
              "\n",
              "    .dataframe tbody tr th {\n",
              "        vertical-align: top;\n",
              "    }\n",
              "\n",
              "    .dataframe thead th {\n",
              "        text-align: right;\n",
              "    }\n",
              "</style>\n",
              "<table border=\"1\" class=\"dataframe\">\n",
              "  <thead>\n",
              "    <tr style=\"text-align: right;\">\n",
              "      <th></th>\n",
              "      <th>A</th>\n",
              "      <th>B</th>\n",
              "      <th>C</th>\n",
              "      <th>D</th>\n",
              "    </tr>\n",
              "  </thead>\n",
              "  <tbody>\n",
              "    <tr>\n",
              "      <th>2021-09-27</th>\n",
              "      <td>0.553911</td>\n",
              "      <td>-0.640303</td>\n",
              "      <td>0.148136</td>\n",
              "      <td>-1.128304</td>\n",
              "    </tr>\n",
              "    <tr>\n",
              "      <th>2021-09-28</th>\n",
              "      <td>-0.570433</td>\n",
              "      <td>-0.006663</td>\n",
              "      <td>1.270593</td>\n",
              "      <td>-0.139677</td>\n",
              "    </tr>\n",
              "    <tr>\n",
              "      <th>2021-09-29</th>\n",
              "      <td>-0.208412</td>\n",
              "      <td>-0.945289</td>\n",
              "      <td>1.705770</td>\n",
              "      <td>0.228062</td>\n",
              "    </tr>\n",
              "    <tr>\n",
              "      <th>2021-09-30</th>\n",
              "      <td>-0.247594</td>\n",
              "      <td>2.580768</td>\n",
              "      <td>0.220771</td>\n",
              "      <td>0.749565</td>\n",
              "    </tr>\n",
              "    <tr>\n",
              "      <th>2021-10-01</th>\n",
              "      <td>0.280052</td>\n",
              "      <td>2.859679</td>\n",
              "      <td>-0.699500</td>\n",
              "      <td>0.096524</td>\n",
              "    </tr>\n",
              "    <tr>\n",
              "      <th>2021-10-02</th>\n",
              "      <td>-0.616031</td>\n",
              "      <td>-1.078464</td>\n",
              "      <td>1.159955</td>\n",
              "      <td>-0.506532</td>\n",
              "    </tr>\n",
              "  </tbody>\n",
              "</table>\n",
              "</div>"
            ],
            "text/plain": [
              "                   A         B         C         D\n",
              "2021-09-27  0.553911 -0.640303  0.148136 -1.128304\n",
              "2021-09-28 -0.570433 -0.006663  1.270593 -0.139677\n",
              "2021-09-29 -0.208412 -0.945289  1.705770  0.228062\n",
              "2021-09-30 -0.247594  2.580768  0.220771  0.749565\n",
              "2021-10-01  0.280052  2.859679 -0.699500  0.096524\n",
              "2021-10-02 -0.616031 -1.078464  1.159955 -0.506532"
            ]
          },
          "metadata": {},
          "execution_count": 20
        }
      ]
    },
    {
      "cell_type": "code",
      "metadata": {
        "id": "RM9Rlk64x5rW",
        "colab": {
          "base_uri": "https://localhost:8080/"
        },
        "outputId": "4250b5cd-1c73-499e-e2ef-bbdbea8ac86f"
      },
      "source": [
        "# Sorting by an axis:\n",
        "df, df.sort_index(axis=0, ascending=False)"
      ],
      "execution_count": 22,
      "outputs": [
        {
          "output_type": "execute_result",
          "data": {
            "text/plain": [
              "(                   A         B         C         D\n",
              " 2021-09-27  0.553911 -0.640303  0.148136 -1.128304\n",
              " 2021-09-28 -0.570433 -0.006663  1.270593 -0.139677\n",
              " 2021-09-29 -0.208412 -0.945289  1.705770  0.228062\n",
              " 2021-09-30 -0.247594  2.580768  0.220771  0.749565\n",
              " 2021-10-01  0.280052  2.859679 -0.699500  0.096524\n",
              " 2021-10-02 -0.616031 -1.078464  1.159955 -0.506532,\n",
              "                    A         B         C         D\n",
              " 2021-10-02 -0.616031 -1.078464  1.159955 -0.506532\n",
              " 2021-10-01  0.280052  2.859679 -0.699500  0.096524\n",
              " 2021-09-30 -0.247594  2.580768  0.220771  0.749565\n",
              " 2021-09-29 -0.208412 -0.945289  1.705770  0.228062\n",
              " 2021-09-28 -0.570433 -0.006663  1.270593 -0.139677\n",
              " 2021-09-27  0.553911 -0.640303  0.148136 -1.128304)"
            ]
          },
          "metadata": {},
          "execution_count": 22
        }
      ]
    },
    {
      "cell_type": "code",
      "metadata": {
        "id": "w_7d__Hsx5rb",
        "colab": {
          "base_uri": "https://localhost:8080/"
        },
        "outputId": "de39c7b1-e80a-480e-92a0-cbcc4f25fb41"
      },
      "source": [
        "df,df.sort_index(axis=1, ascending=False)"
      ],
      "execution_count": 23,
      "outputs": [
        {
          "output_type": "execute_result",
          "data": {
            "text/plain": [
              "(                   A         B         C         D\n",
              " 2021-09-27  0.553911 -0.640303  0.148136 -1.128304\n",
              " 2021-09-28 -0.570433 -0.006663  1.270593 -0.139677\n",
              " 2021-09-29 -0.208412 -0.945289  1.705770  0.228062\n",
              " 2021-09-30 -0.247594  2.580768  0.220771  0.749565\n",
              " 2021-10-01  0.280052  2.859679 -0.699500  0.096524\n",
              " 2021-10-02 -0.616031 -1.078464  1.159955 -0.506532,\n",
              "                    D         C         B         A\n",
              " 2021-09-27 -1.128304  0.148136 -0.640303  0.553911\n",
              " 2021-09-28 -0.139677  1.270593 -0.006663 -0.570433\n",
              " 2021-09-29  0.228062  1.705770 -0.945289 -0.208412\n",
              " 2021-09-30  0.749565  0.220771  2.580768 -0.247594\n",
              " 2021-10-01  0.096524 -0.699500  2.859679  0.280052\n",
              " 2021-10-02 -0.506532  1.159955 -1.078464 -0.616031)"
            ]
          },
          "metadata": {},
          "execution_count": 23
        }
      ]
    },
    {
      "cell_type": "markdown",
      "metadata": {
        "id": "8J59I-KW6yNK"
      },
      "source": [
        "#### Sort by value\n",
        "- sort_values(by='column')"
      ]
    },
    {
      "cell_type": "code",
      "metadata": {
        "id": "VJw7_sTLx5rg",
        "colab": {
          "base_uri": "https://localhost:8080/"
        },
        "outputId": "55536f73-714f-47be-8827-77b46d22ef0c"
      },
      "source": [
        "# Sorting by values:\n",
        "df,df.sort_values(by='B', ascending=False)"
      ],
      "execution_count": 28,
      "outputs": [
        {
          "output_type": "execute_result",
          "data": {
            "text/plain": [
              "(                   A         B         C         D\n",
              " 2021-09-27  0.553911 -0.640303  0.148136 -1.128304\n",
              " 2021-09-28 -0.570433 -0.006663  1.270593 -0.139677\n",
              " 2021-09-29 -0.208412 -0.945289  1.705770  0.228062\n",
              " 2021-09-30 -0.247594  2.580768  0.220771  0.749565\n",
              " 2021-10-01  0.280052  2.859679 -0.699500  0.096524\n",
              " 2021-10-02 -0.616031 -1.078464  1.159955 -0.506532,\n",
              "                    A         B         C         D\n",
              " 2021-10-01  0.280052  2.859679 -0.699500  0.096524\n",
              " 2021-09-30 -0.247594  2.580768  0.220771  0.749565\n",
              " 2021-09-28 -0.570433 -0.006663  1.270593 -0.139677\n",
              " 2021-09-27  0.553911 -0.640303  0.148136 -1.128304\n",
              " 2021-09-29 -0.208412 -0.945289  1.705770  0.228062\n",
              " 2021-10-02 -0.616031 -1.078464  1.159955 -0.506532)"
            ]
          },
          "metadata": {},
          "execution_count": 28
        }
      ]
    },
    {
      "cell_type": "markdown",
      "metadata": {
        "id": "rBW0-saPPGbN"
      },
      "source": [
        "## indexing and slicing of DataFrame"
      ]
    },
    {
      "cell_type": "markdown",
      "metadata": {
        "id": "oH89Wa-ix5rq"
      },
      "source": [
        "#### Selecting data by indexing and slicing\n",
        "- indexing\n",
        "- slicing\n"
      ]
    },
    {
      "cell_type": "code",
      "metadata": {
        "id": "YufIBMYzx5ru",
        "colab": {
          "base_uri": "https://localhost:8080/"
        },
        "outputId": "21ae69f1-0d3d-4fed-fad1-04917c40d036"
      },
      "source": [
        "# Selecting a single column, which yields a Series\n",
        "df['A']"
      ],
      "execution_count": 29,
      "outputs": [
        {
          "output_type": "execute_result",
          "data": {
            "text/plain": [
              "2021-09-27    0.553911\n",
              "2021-09-28   -0.570433\n",
              "2021-09-29   -0.208412\n",
              "2021-09-30   -0.247594\n",
              "2021-10-01    0.280052\n",
              "2021-10-02   -0.616031\n",
              "Freq: D, Name: A, dtype: float64"
            ]
          },
          "metadata": {},
          "execution_count": 29
        }
      ]
    },
    {
      "cell_type": "code",
      "metadata": {
        "id": "ijxuNMS5x5r3",
        "colab": {
          "base_uri": "https://localhost:8080/",
          "height": 142
        },
        "outputId": "4de3c586-26d8-4f57-ab5e-3285d797877c"
      },
      "source": [
        "# Selecting via [], which slices the rows.\n",
        "df[0:3]"
      ],
      "execution_count": 30,
      "outputs": [
        {
          "output_type": "execute_result",
          "data": {
            "text/html": [
              "<div>\n",
              "<style scoped>\n",
              "    .dataframe tbody tr th:only-of-type {\n",
              "        vertical-align: middle;\n",
              "    }\n",
              "\n",
              "    .dataframe tbody tr th {\n",
              "        vertical-align: top;\n",
              "    }\n",
              "\n",
              "    .dataframe thead th {\n",
              "        text-align: right;\n",
              "    }\n",
              "</style>\n",
              "<table border=\"1\" class=\"dataframe\">\n",
              "  <thead>\n",
              "    <tr style=\"text-align: right;\">\n",
              "      <th></th>\n",
              "      <th>A</th>\n",
              "      <th>B</th>\n",
              "      <th>C</th>\n",
              "      <th>D</th>\n",
              "    </tr>\n",
              "  </thead>\n",
              "  <tbody>\n",
              "    <tr>\n",
              "      <th>2021-09-27</th>\n",
              "      <td>0.553911</td>\n",
              "      <td>-0.640303</td>\n",
              "      <td>0.148136</td>\n",
              "      <td>-1.128304</td>\n",
              "    </tr>\n",
              "    <tr>\n",
              "      <th>2021-09-28</th>\n",
              "      <td>-0.570433</td>\n",
              "      <td>-0.006663</td>\n",
              "      <td>1.270593</td>\n",
              "      <td>-0.139677</td>\n",
              "    </tr>\n",
              "    <tr>\n",
              "      <th>2021-09-29</th>\n",
              "      <td>-0.208412</td>\n",
              "      <td>-0.945289</td>\n",
              "      <td>1.705770</td>\n",
              "      <td>0.228062</td>\n",
              "    </tr>\n",
              "  </tbody>\n",
              "</table>\n",
              "</div>"
            ],
            "text/plain": [
              "                   A         B         C         D\n",
              "2021-09-27  0.553911 -0.640303  0.148136 -1.128304\n",
              "2021-09-28 -0.570433 -0.006663  1.270593 -0.139677\n",
              "2021-09-29 -0.208412 -0.945289  1.705770  0.228062"
            ]
          },
          "metadata": {},
          "execution_count": 30
        }
      ]
    },
    {
      "cell_type": "code",
      "metadata": {
        "id": "T8XP7m9nx5r9",
        "colab": {
          "base_uri": "https://localhost:8080/",
          "height": 204
        },
        "outputId": "9442bd16-ea89-45f4-9219-044b0eb93caa"
      },
      "source": [
        "df['20210927':'20211001'] # 인덱스가 아닌 값인 경우는 지정된 범위가 다 선택된다."
      ],
      "execution_count": 35,
      "outputs": [
        {
          "output_type": "execute_result",
          "data": {
            "text/html": [
              "<div>\n",
              "<style scoped>\n",
              "    .dataframe tbody tr th:only-of-type {\n",
              "        vertical-align: middle;\n",
              "    }\n",
              "\n",
              "    .dataframe tbody tr th {\n",
              "        vertical-align: top;\n",
              "    }\n",
              "\n",
              "    .dataframe thead th {\n",
              "        text-align: right;\n",
              "    }\n",
              "</style>\n",
              "<table border=\"1\" class=\"dataframe\">\n",
              "  <thead>\n",
              "    <tr style=\"text-align: right;\">\n",
              "      <th></th>\n",
              "      <th>A</th>\n",
              "      <th>B</th>\n",
              "      <th>C</th>\n",
              "      <th>D</th>\n",
              "    </tr>\n",
              "  </thead>\n",
              "  <tbody>\n",
              "    <tr>\n",
              "      <th>2021-09-27</th>\n",
              "      <td>0.553911</td>\n",
              "      <td>-0.640303</td>\n",
              "      <td>0.148136</td>\n",
              "      <td>-1.128304</td>\n",
              "    </tr>\n",
              "    <tr>\n",
              "      <th>2021-09-28</th>\n",
              "      <td>-0.570433</td>\n",
              "      <td>-0.006663</td>\n",
              "      <td>1.270593</td>\n",
              "      <td>-0.139677</td>\n",
              "    </tr>\n",
              "    <tr>\n",
              "      <th>2021-09-29</th>\n",
              "      <td>-0.208412</td>\n",
              "      <td>-0.945289</td>\n",
              "      <td>1.705770</td>\n",
              "      <td>0.228062</td>\n",
              "    </tr>\n",
              "    <tr>\n",
              "      <th>2021-09-30</th>\n",
              "      <td>-0.247594</td>\n",
              "      <td>2.580768</td>\n",
              "      <td>0.220771</td>\n",
              "      <td>0.749565</td>\n",
              "    </tr>\n",
              "    <tr>\n",
              "      <th>2021-10-01</th>\n",
              "      <td>0.280052</td>\n",
              "      <td>2.859679</td>\n",
              "      <td>-0.699500</td>\n",
              "      <td>0.096524</td>\n",
              "    </tr>\n",
              "  </tbody>\n",
              "</table>\n",
              "</div>"
            ],
            "text/plain": [
              "                   A         B         C         D\n",
              "2021-09-27  0.553911 -0.640303  0.148136 -1.128304\n",
              "2021-09-28 -0.570433 -0.006663  1.270593 -0.139677\n",
              "2021-09-29 -0.208412 -0.945289  1.705770  0.228062\n",
              "2021-09-30 -0.247594  2.580768  0.220771  0.749565\n",
              "2021-10-01  0.280052  2.859679 -0.699500  0.096524"
            ]
          },
          "metadata": {},
          "execution_count": 35
        }
      ]
    },
    {
      "cell_type": "markdown",
      "metadata": {
        "id": "E7-V96t9x5sB"
      },
      "source": [
        "#### Selecting data by label [중요!!]\n",
        "\n",
        "> **loc, iloc**\n"
      ]
    },
    {
      "cell_type": "code",
      "metadata": {
        "id": "TV4dnwU-x5sC",
        "colab": {
          "base_uri": "https://localhost:8080/",
          "height": 235
        },
        "outputId": "ce770909-e414-4bba-8bd5-aa7d7f6bef8d"
      },
      "source": [
        "df"
      ],
      "execution_count": 36,
      "outputs": [
        {
          "output_type": "execute_result",
          "data": {
            "text/html": [
              "<div>\n",
              "<style scoped>\n",
              "    .dataframe tbody tr th:only-of-type {\n",
              "        vertical-align: middle;\n",
              "    }\n",
              "\n",
              "    .dataframe tbody tr th {\n",
              "        vertical-align: top;\n",
              "    }\n",
              "\n",
              "    .dataframe thead th {\n",
              "        text-align: right;\n",
              "    }\n",
              "</style>\n",
              "<table border=\"1\" class=\"dataframe\">\n",
              "  <thead>\n",
              "    <tr style=\"text-align: right;\">\n",
              "      <th></th>\n",
              "      <th>A</th>\n",
              "      <th>B</th>\n",
              "      <th>C</th>\n",
              "      <th>D</th>\n",
              "    </tr>\n",
              "  </thead>\n",
              "  <tbody>\n",
              "    <tr>\n",
              "      <th>2021-09-27</th>\n",
              "      <td>0.553911</td>\n",
              "      <td>-0.640303</td>\n",
              "      <td>0.148136</td>\n",
              "      <td>-1.128304</td>\n",
              "    </tr>\n",
              "    <tr>\n",
              "      <th>2021-09-28</th>\n",
              "      <td>-0.570433</td>\n",
              "      <td>-0.006663</td>\n",
              "      <td>1.270593</td>\n",
              "      <td>-0.139677</td>\n",
              "    </tr>\n",
              "    <tr>\n",
              "      <th>2021-09-29</th>\n",
              "      <td>-0.208412</td>\n",
              "      <td>-0.945289</td>\n",
              "      <td>1.705770</td>\n",
              "      <td>0.228062</td>\n",
              "    </tr>\n",
              "    <tr>\n",
              "      <th>2021-09-30</th>\n",
              "      <td>-0.247594</td>\n",
              "      <td>2.580768</td>\n",
              "      <td>0.220771</td>\n",
              "      <td>0.749565</td>\n",
              "    </tr>\n",
              "    <tr>\n",
              "      <th>2021-10-01</th>\n",
              "      <td>0.280052</td>\n",
              "      <td>2.859679</td>\n",
              "      <td>-0.699500</td>\n",
              "      <td>0.096524</td>\n",
              "    </tr>\n",
              "    <tr>\n",
              "      <th>2021-10-02</th>\n",
              "      <td>-0.616031</td>\n",
              "      <td>-1.078464</td>\n",
              "      <td>1.159955</td>\n",
              "      <td>-0.506532</td>\n",
              "    </tr>\n",
              "  </tbody>\n",
              "</table>\n",
              "</div>"
            ],
            "text/plain": [
              "                   A         B         C         D\n",
              "2021-09-27  0.553911 -0.640303  0.148136 -1.128304\n",
              "2021-09-28 -0.570433 -0.006663  1.270593 -0.139677\n",
              "2021-09-29 -0.208412 -0.945289  1.705770  0.228062\n",
              "2021-09-30 -0.247594  2.580768  0.220771  0.749565\n",
              "2021-10-01  0.280052  2.859679 -0.699500  0.096524\n",
              "2021-10-02 -0.616031 -1.078464  1.159955 -0.506532"
            ]
          },
          "metadata": {},
          "execution_count": 36
        }
      ]
    },
    {
      "cell_type": "code",
      "metadata": {
        "colab": {
          "base_uri": "https://localhost:8080/"
        },
        "id": "k2kl4YBM3_xH",
        "outputId": "51f1ef43-b9da-4688-dd45-d6d2e031a65f"
      },
      "source": [
        "dates[0]"
      ],
      "execution_count": 37,
      "outputs": [
        {
          "output_type": "execute_result",
          "data": {
            "text/plain": [
              "Timestamp('2021-09-27 00:00:00', freq='D')"
            ]
          },
          "metadata": {},
          "execution_count": 37
        }
      ]
    },
    {
      "cell_type": "code",
      "metadata": {
        "id": "iPZE3U5cx5sG",
        "colab": {
          "base_uri": "https://localhost:8080/"
        },
        "outputId": "46ff4ce6-98e8-468e-c52e-d58ee392bb27"
      },
      "source": [
        "df.loc[dates[0]]   # loc() "
      ],
      "execution_count": 38,
      "outputs": [
        {
          "output_type": "execute_result",
          "data": {
            "text/plain": [
              "A    0.553911\n",
              "B   -0.640303\n",
              "C    0.148136\n",
              "D   -1.128304\n",
              "Name: 2021-09-27 00:00:00, dtype: float64"
            ]
          },
          "metadata": {},
          "execution_count": 38
        }
      ]
    },
    {
      "cell_type": "code",
      "metadata": {
        "id": "jteYZDQnx5sL",
        "colab": {
          "base_uri": "https://localhost:8080/",
          "height": 235
        },
        "outputId": "ef827631-6093-4760-928a-2147dcb5ab6f"
      },
      "source": [
        "# Selecting on a multi-axis by label:\n",
        "df.loc[:,['A','B']]"
      ],
      "execution_count": 39,
      "outputs": [
        {
          "output_type": "execute_result",
          "data": {
            "text/html": [
              "<div>\n",
              "<style scoped>\n",
              "    .dataframe tbody tr th:only-of-type {\n",
              "        vertical-align: middle;\n",
              "    }\n",
              "\n",
              "    .dataframe tbody tr th {\n",
              "        vertical-align: top;\n",
              "    }\n",
              "\n",
              "    .dataframe thead th {\n",
              "        text-align: right;\n",
              "    }\n",
              "</style>\n",
              "<table border=\"1\" class=\"dataframe\">\n",
              "  <thead>\n",
              "    <tr style=\"text-align: right;\">\n",
              "      <th></th>\n",
              "      <th>A</th>\n",
              "      <th>B</th>\n",
              "    </tr>\n",
              "  </thead>\n",
              "  <tbody>\n",
              "    <tr>\n",
              "      <th>2021-09-27</th>\n",
              "      <td>0.553911</td>\n",
              "      <td>-0.640303</td>\n",
              "    </tr>\n",
              "    <tr>\n",
              "      <th>2021-09-28</th>\n",
              "      <td>-0.570433</td>\n",
              "      <td>-0.006663</td>\n",
              "    </tr>\n",
              "    <tr>\n",
              "      <th>2021-09-29</th>\n",
              "      <td>-0.208412</td>\n",
              "      <td>-0.945289</td>\n",
              "    </tr>\n",
              "    <tr>\n",
              "      <th>2021-09-30</th>\n",
              "      <td>-0.247594</td>\n",
              "      <td>2.580768</td>\n",
              "    </tr>\n",
              "    <tr>\n",
              "      <th>2021-10-01</th>\n",
              "      <td>0.280052</td>\n",
              "      <td>2.859679</td>\n",
              "    </tr>\n",
              "    <tr>\n",
              "      <th>2021-10-02</th>\n",
              "      <td>-0.616031</td>\n",
              "      <td>-1.078464</td>\n",
              "    </tr>\n",
              "  </tbody>\n",
              "</table>\n",
              "</div>"
            ],
            "text/plain": [
              "                   A         B\n",
              "2021-09-27  0.553911 -0.640303\n",
              "2021-09-28 -0.570433 -0.006663\n",
              "2021-09-29 -0.208412 -0.945289\n",
              "2021-09-30 -0.247594  2.580768\n",
              "2021-10-01  0.280052  2.859679\n",
              "2021-10-02 -0.616031 -1.078464"
            ]
          },
          "metadata": {},
          "execution_count": 39
        }
      ]
    },
    {
      "cell_type": "markdown",
      "metadata": {
        "id": "QqYJvRLnx5sP"
      },
      "source": [
        "#### [DIY: 도전코딩]\n",
        "\n",
        "> Select data for first two days AND column 3,4 from df using loc[]."
      ]
    },
    {
      "cell_type": "code",
      "metadata": {
        "id": "jSUlF4icx5sQ",
        "colab": {
          "base_uri": "https://localhost:8080/",
          "height": 111
        },
        "outputId": "03b178e7-49d7-4bf1-bf43-05bd4b2e1d47"
      },
      "source": [
        "# df.loc[0:2,['C','D']] # loc 함수는 인덱싱을 할 때 정수를 쓸 수 없다, \n",
        "# df.loc['20210928':'20210930',['C','D']] # 날짜 함수는 적은 날자 포함해서 나옴 (3개)\n",
        "df.loc[dates[:2],['C','D']] # 첫번째, 두번째 나옴"
      ],
      "execution_count": 46,
      "outputs": [
        {
          "output_type": "execute_result",
          "data": {
            "text/html": [
              "<div>\n",
              "<style scoped>\n",
              "    .dataframe tbody tr th:only-of-type {\n",
              "        vertical-align: middle;\n",
              "    }\n",
              "\n",
              "    .dataframe tbody tr th {\n",
              "        vertical-align: top;\n",
              "    }\n",
              "\n",
              "    .dataframe thead th {\n",
              "        text-align: right;\n",
              "    }\n",
              "</style>\n",
              "<table border=\"1\" class=\"dataframe\">\n",
              "  <thead>\n",
              "    <tr style=\"text-align: right;\">\n",
              "      <th></th>\n",
              "      <th>C</th>\n",
              "      <th>D</th>\n",
              "    </tr>\n",
              "  </thead>\n",
              "  <tbody>\n",
              "    <tr>\n",
              "      <th>2021-09-27</th>\n",
              "      <td>0.148136</td>\n",
              "      <td>-1.128304</td>\n",
              "    </tr>\n",
              "    <tr>\n",
              "      <th>2021-09-28</th>\n",
              "      <td>1.270593</td>\n",
              "      <td>-0.139677</td>\n",
              "    </tr>\n",
              "  </tbody>\n",
              "</table>\n",
              "</div>"
            ],
            "text/plain": [
              "                   C         D\n",
              "2021-09-27  0.148136 -1.128304\n",
              "2021-09-28  1.270593 -0.139677"
            ]
          },
          "metadata": {},
          "execution_count": 46
        }
      ]
    },
    {
      "cell_type": "markdown",
      "metadata": {
        "id": "-BGWuIwpx5sV"
      },
      "source": [
        "#### Selecting data by position (iloc())\n",
        "- index 사용"
      ]
    },
    {
      "cell_type": "code",
      "metadata": {
        "id": "gYtgID9rx5sW",
        "colab": {
          "base_uri": "https://localhost:8080/",
          "height": 235
        },
        "outputId": "6601ff6e-8b0c-4cf4-badd-1f49df1027cf"
      },
      "source": [
        "df"
      ],
      "execution_count": 47,
      "outputs": [
        {
          "output_type": "execute_result",
          "data": {
            "text/html": [
              "<div>\n",
              "<style scoped>\n",
              "    .dataframe tbody tr th:only-of-type {\n",
              "        vertical-align: middle;\n",
              "    }\n",
              "\n",
              "    .dataframe tbody tr th {\n",
              "        vertical-align: top;\n",
              "    }\n",
              "\n",
              "    .dataframe thead th {\n",
              "        text-align: right;\n",
              "    }\n",
              "</style>\n",
              "<table border=\"1\" class=\"dataframe\">\n",
              "  <thead>\n",
              "    <tr style=\"text-align: right;\">\n",
              "      <th></th>\n",
              "      <th>A</th>\n",
              "      <th>B</th>\n",
              "      <th>C</th>\n",
              "      <th>D</th>\n",
              "    </tr>\n",
              "  </thead>\n",
              "  <tbody>\n",
              "    <tr>\n",
              "      <th>2021-09-27</th>\n",
              "      <td>0.553911</td>\n",
              "      <td>-0.640303</td>\n",
              "      <td>0.148136</td>\n",
              "      <td>-1.128304</td>\n",
              "    </tr>\n",
              "    <tr>\n",
              "      <th>2021-09-28</th>\n",
              "      <td>-0.570433</td>\n",
              "      <td>-0.006663</td>\n",
              "      <td>1.270593</td>\n",
              "      <td>-0.139677</td>\n",
              "    </tr>\n",
              "    <tr>\n",
              "      <th>2021-09-29</th>\n",
              "      <td>-0.208412</td>\n",
              "      <td>-0.945289</td>\n",
              "      <td>1.705770</td>\n",
              "      <td>0.228062</td>\n",
              "    </tr>\n",
              "    <tr>\n",
              "      <th>2021-09-30</th>\n",
              "      <td>-0.247594</td>\n",
              "      <td>2.580768</td>\n",
              "      <td>0.220771</td>\n",
              "      <td>0.749565</td>\n",
              "    </tr>\n",
              "    <tr>\n",
              "      <th>2021-10-01</th>\n",
              "      <td>0.280052</td>\n",
              "      <td>2.859679</td>\n",
              "      <td>-0.699500</td>\n",
              "      <td>0.096524</td>\n",
              "    </tr>\n",
              "    <tr>\n",
              "      <th>2021-10-02</th>\n",
              "      <td>-0.616031</td>\n",
              "      <td>-1.078464</td>\n",
              "      <td>1.159955</td>\n",
              "      <td>-0.506532</td>\n",
              "    </tr>\n",
              "  </tbody>\n",
              "</table>\n",
              "</div>"
            ],
            "text/plain": [
              "                   A         B         C         D\n",
              "2021-09-27  0.553911 -0.640303  0.148136 -1.128304\n",
              "2021-09-28 -0.570433 -0.006663  1.270593 -0.139677\n",
              "2021-09-29 -0.208412 -0.945289  1.705770  0.228062\n",
              "2021-09-30 -0.247594  2.580768  0.220771  0.749565\n",
              "2021-10-01  0.280052  2.859679 -0.699500  0.096524\n",
              "2021-10-02 -0.616031 -1.078464  1.159955 -0.506532"
            ]
          },
          "metadata": {},
          "execution_count": 47
        }
      ]
    },
    {
      "cell_type": "code",
      "metadata": {
        "id": "PNgZ3u8-x5sa",
        "colab": {
          "base_uri": "https://localhost:8080/"
        },
        "outputId": "abde77dd-cb82-4f9d-b7ae-97126a0a3b12"
      },
      "source": [
        "df.iloc[3]  # 결과는 차원축소형으로 표현됨. 4번째행"
      ],
      "execution_count": 48,
      "outputs": [
        {
          "output_type": "execute_result",
          "data": {
            "text/plain": [
              "A   -0.247594\n",
              "B    2.580768\n",
              "C    0.220771\n",
              "D    0.749565\n",
              "Name: 2021-09-30 00:00:00, dtype: float64"
            ]
          },
          "metadata": {},
          "execution_count": 48
        }
      ]
    },
    {
      "cell_type": "code",
      "metadata": {
        "id": "12eWuxQ_x5sh",
        "colab": {
          "base_uri": "https://localhost:8080/",
          "height": 111
        },
        "outputId": "b053aa05-36bb-453a-a07d-e97e066b233b"
      },
      "source": [
        "# [다시 도전]\n",
        "# Select data for first two days AND comumn 3,4 from df.\n",
        "# Use iloc\n",
        "df.iloc[:2,2:4]"
      ],
      "execution_count": 51,
      "outputs": [
        {
          "output_type": "execute_result",
          "data": {
            "text/html": [
              "<div>\n",
              "<style scoped>\n",
              "    .dataframe tbody tr th:only-of-type {\n",
              "        vertical-align: middle;\n",
              "    }\n",
              "\n",
              "    .dataframe tbody tr th {\n",
              "        vertical-align: top;\n",
              "    }\n",
              "\n",
              "    .dataframe thead th {\n",
              "        text-align: right;\n",
              "    }\n",
              "</style>\n",
              "<table border=\"1\" class=\"dataframe\">\n",
              "  <thead>\n",
              "    <tr style=\"text-align: right;\">\n",
              "      <th></th>\n",
              "      <th>C</th>\n",
              "      <th>D</th>\n",
              "    </tr>\n",
              "  </thead>\n",
              "  <tbody>\n",
              "    <tr>\n",
              "      <th>2021-09-27</th>\n",
              "      <td>0.148136</td>\n",
              "      <td>-1.128304</td>\n",
              "    </tr>\n",
              "    <tr>\n",
              "      <th>2021-09-28</th>\n",
              "      <td>1.270593</td>\n",
              "      <td>-0.139677</td>\n",
              "    </tr>\n",
              "  </tbody>\n",
              "</table>\n",
              "</div>"
            ],
            "text/plain": [
              "                   C         D\n",
              "2021-09-27  0.148136 -1.128304\n",
              "2021-09-28  1.270593 -0.139677"
            ]
          },
          "metadata": {},
          "execution_count": 51
        }
      ]
    },
    {
      "cell_type": "code",
      "metadata": {
        "id": "_S-omW3hx5sn",
        "colab": {
          "base_uri": "https://localhost:8080/"
        },
        "outputId": "ec474c93-2387-4c90-e920-913860aa6bea"
      },
      "source": [
        "# Select one item\n",
        "df.iloc[1,1]"
      ],
      "execution_count": 52,
      "outputs": [
        {
          "output_type": "execute_result",
          "data": {
            "text/plain": [
              "-0.006663243369590019"
            ]
          },
          "metadata": {},
          "execution_count": 52
        }
      ]
    },
    {
      "cell_type": "code",
      "metadata": {
        "id": "fjAsIAidfVUQ",
        "colab": {
          "base_uri": "https://localhost:8080/",
          "height": 142
        },
        "outputId": "a65944cd-6945-4f93-bdf0-9583aeac47ac"
      },
      "source": [
        "# [DIY: 다시 도전]\n",
        "# Select data for first three days from df\n",
        "# Your code\n",
        "df.iloc[:3,:]"
      ],
      "execution_count": 54,
      "outputs": [
        {
          "output_type": "execute_result",
          "data": {
            "text/html": [
              "<div>\n",
              "<style scoped>\n",
              "    .dataframe tbody tr th:only-of-type {\n",
              "        vertical-align: middle;\n",
              "    }\n",
              "\n",
              "    .dataframe tbody tr th {\n",
              "        vertical-align: top;\n",
              "    }\n",
              "\n",
              "    .dataframe thead th {\n",
              "        text-align: right;\n",
              "    }\n",
              "</style>\n",
              "<table border=\"1\" class=\"dataframe\">\n",
              "  <thead>\n",
              "    <tr style=\"text-align: right;\">\n",
              "      <th></th>\n",
              "      <th>A</th>\n",
              "      <th>B</th>\n",
              "      <th>C</th>\n",
              "      <th>D</th>\n",
              "    </tr>\n",
              "  </thead>\n",
              "  <tbody>\n",
              "    <tr>\n",
              "      <th>2021-09-27</th>\n",
              "      <td>0.553911</td>\n",
              "      <td>-0.640303</td>\n",
              "      <td>0.148136</td>\n",
              "      <td>-1.128304</td>\n",
              "    </tr>\n",
              "    <tr>\n",
              "      <th>2021-09-28</th>\n",
              "      <td>-0.570433</td>\n",
              "      <td>-0.006663</td>\n",
              "      <td>1.270593</td>\n",
              "      <td>-0.139677</td>\n",
              "    </tr>\n",
              "    <tr>\n",
              "      <th>2021-09-29</th>\n",
              "      <td>-0.208412</td>\n",
              "      <td>-0.945289</td>\n",
              "      <td>1.705770</td>\n",
              "      <td>0.228062</td>\n",
              "    </tr>\n",
              "  </tbody>\n",
              "</table>\n",
              "</div>"
            ],
            "text/plain": [
              "                   A         B         C         D\n",
              "2021-09-27  0.553911 -0.640303  0.148136 -1.128304\n",
              "2021-09-28 -0.570433 -0.006663  1.270593 -0.139677\n",
              "2021-09-29 -0.208412 -0.945289  1.705770  0.228062"
            ]
          },
          "metadata": {},
          "execution_count": 54
        }
      ]
    },
    {
      "cell_type": "markdown",
      "metadata": {
        "id": "fDoWVVGHx5su"
      },
      "source": [
        "#### Selecting data by Boolean indexing"
      ]
    },
    {
      "cell_type": "code",
      "metadata": {
        "id": "CG7LipUrx5sv",
        "colab": {
          "base_uri": "https://localhost:8080/",
          "height": 235
        },
        "outputId": "6af79762-0ce9-47aa-bc60-dc1c1b4737ae"
      },
      "source": [
        "df"
      ],
      "execution_count": 58,
      "outputs": [
        {
          "output_type": "execute_result",
          "data": {
            "text/html": [
              "<div>\n",
              "<style scoped>\n",
              "    .dataframe tbody tr th:only-of-type {\n",
              "        vertical-align: middle;\n",
              "    }\n",
              "\n",
              "    .dataframe tbody tr th {\n",
              "        vertical-align: top;\n",
              "    }\n",
              "\n",
              "    .dataframe thead th {\n",
              "        text-align: right;\n",
              "    }\n",
              "</style>\n",
              "<table border=\"1\" class=\"dataframe\">\n",
              "  <thead>\n",
              "    <tr style=\"text-align: right;\">\n",
              "      <th></th>\n",
              "      <th>A</th>\n",
              "      <th>B</th>\n",
              "      <th>C</th>\n",
              "      <th>D</th>\n",
              "    </tr>\n",
              "  </thead>\n",
              "  <tbody>\n",
              "    <tr>\n",
              "      <th>2021-09-27</th>\n",
              "      <td>0.553911</td>\n",
              "      <td>-0.640303</td>\n",
              "      <td>0.148136</td>\n",
              "      <td>-1.128304</td>\n",
              "    </tr>\n",
              "    <tr>\n",
              "      <th>2021-09-28</th>\n",
              "      <td>-0.570433</td>\n",
              "      <td>-0.006663</td>\n",
              "      <td>1.270593</td>\n",
              "      <td>-0.139677</td>\n",
              "    </tr>\n",
              "    <tr>\n",
              "      <th>2021-09-29</th>\n",
              "      <td>-0.208412</td>\n",
              "      <td>-0.945289</td>\n",
              "      <td>1.705770</td>\n",
              "      <td>0.228062</td>\n",
              "    </tr>\n",
              "    <tr>\n",
              "      <th>2021-09-30</th>\n",
              "      <td>-0.247594</td>\n",
              "      <td>2.580768</td>\n",
              "      <td>0.220771</td>\n",
              "      <td>0.749565</td>\n",
              "    </tr>\n",
              "    <tr>\n",
              "      <th>2021-10-01</th>\n",
              "      <td>0.280052</td>\n",
              "      <td>2.859679</td>\n",
              "      <td>-0.699500</td>\n",
              "      <td>0.096524</td>\n",
              "    </tr>\n",
              "    <tr>\n",
              "      <th>2021-10-02</th>\n",
              "      <td>-0.616031</td>\n",
              "      <td>-1.078464</td>\n",
              "      <td>1.159955</td>\n",
              "      <td>-0.506532</td>\n",
              "    </tr>\n",
              "  </tbody>\n",
              "</table>\n",
              "</div>"
            ],
            "text/plain": [
              "                   A         B         C         D\n",
              "2021-09-27  0.553911 -0.640303  0.148136 -1.128304\n",
              "2021-09-28 -0.570433 -0.006663  1.270593 -0.139677\n",
              "2021-09-29 -0.208412 -0.945289  1.705770  0.228062\n",
              "2021-09-30 -0.247594  2.580768  0.220771  0.749565\n",
              "2021-10-01  0.280052  2.859679 -0.699500  0.096524\n",
              "2021-10-02 -0.616031 -1.078464  1.159955 -0.506532"
            ]
          },
          "metadata": {},
          "execution_count": 58
        }
      ]
    },
    {
      "cell_type": "code",
      "metadata": {
        "colab": {
          "base_uri": "https://localhost:8080/"
        },
        "id": "HWOLetz37Ww9",
        "outputId": "4aaf54dc-6562-4f9c-aff0-215e3d92a9eb"
      },
      "source": [
        "df.A"
      ],
      "execution_count": 61,
      "outputs": [
        {
          "output_type": "execute_result",
          "data": {
            "text/plain": [
              "2021-09-27    0.553911\n",
              "2021-09-28   -0.570433\n",
              "2021-09-29   -0.208412\n",
              "2021-09-30   -0.247594\n",
              "2021-10-01    0.280052\n",
              "2021-10-02   -0.616031\n",
              "Freq: D, Name: A, dtype: float64"
            ]
          },
          "metadata": {},
          "execution_count": 61
        }
      ]
    },
    {
      "cell_type": "code",
      "metadata": {
        "id": "U5If1VEYx5sy",
        "colab": {
          "base_uri": "https://localhost:8080/",
          "height": 111
        },
        "outputId": "0ad201b7-4de0-4050-d747-c09503ea2839"
      },
      "source": [
        "df[df.A > 0]"
      ],
      "execution_count": 59,
      "outputs": [
        {
          "output_type": "execute_result",
          "data": {
            "text/html": [
              "<div>\n",
              "<style scoped>\n",
              "    .dataframe tbody tr th:only-of-type {\n",
              "        vertical-align: middle;\n",
              "    }\n",
              "\n",
              "    .dataframe tbody tr th {\n",
              "        vertical-align: top;\n",
              "    }\n",
              "\n",
              "    .dataframe thead th {\n",
              "        text-align: right;\n",
              "    }\n",
              "</style>\n",
              "<table border=\"1\" class=\"dataframe\">\n",
              "  <thead>\n",
              "    <tr style=\"text-align: right;\">\n",
              "      <th></th>\n",
              "      <th>A</th>\n",
              "      <th>B</th>\n",
              "      <th>C</th>\n",
              "      <th>D</th>\n",
              "    </tr>\n",
              "  </thead>\n",
              "  <tbody>\n",
              "    <tr>\n",
              "      <th>2021-09-27</th>\n",
              "      <td>0.553911</td>\n",
              "      <td>-0.640303</td>\n",
              "      <td>0.148136</td>\n",
              "      <td>-1.128304</td>\n",
              "    </tr>\n",
              "    <tr>\n",
              "      <th>2021-10-01</th>\n",
              "      <td>0.280052</td>\n",
              "      <td>2.859679</td>\n",
              "      <td>-0.699500</td>\n",
              "      <td>0.096524</td>\n",
              "    </tr>\n",
              "  </tbody>\n",
              "</table>\n",
              "</div>"
            ],
            "text/plain": [
              "                   A         B         C         D\n",
              "2021-09-27  0.553911 -0.640303  0.148136 -1.128304\n",
              "2021-10-01  0.280052  2.859679 -0.699500  0.096524"
            ]
          },
          "metadata": {},
          "execution_count": 59
        }
      ]
    },
    {
      "cell_type": "code",
      "metadata": {
        "id": "8WkB7Q5rx5s1",
        "colab": {
          "base_uri": "https://localhost:8080/",
          "height": 235
        },
        "outputId": "f71db398-fb0f-484d-fccf-134941f96d2a"
      },
      "source": [
        "df[df > 0]"
      ],
      "execution_count": 60,
      "outputs": [
        {
          "output_type": "execute_result",
          "data": {
            "text/html": [
              "<div>\n",
              "<style scoped>\n",
              "    .dataframe tbody tr th:only-of-type {\n",
              "        vertical-align: middle;\n",
              "    }\n",
              "\n",
              "    .dataframe tbody tr th {\n",
              "        vertical-align: top;\n",
              "    }\n",
              "\n",
              "    .dataframe thead th {\n",
              "        text-align: right;\n",
              "    }\n",
              "</style>\n",
              "<table border=\"1\" class=\"dataframe\">\n",
              "  <thead>\n",
              "    <tr style=\"text-align: right;\">\n",
              "      <th></th>\n",
              "      <th>A</th>\n",
              "      <th>B</th>\n",
              "      <th>C</th>\n",
              "      <th>D</th>\n",
              "    </tr>\n",
              "  </thead>\n",
              "  <tbody>\n",
              "    <tr>\n",
              "      <th>2021-09-27</th>\n",
              "      <td>0.553911</td>\n",
              "      <td>NaN</td>\n",
              "      <td>0.148136</td>\n",
              "      <td>NaN</td>\n",
              "    </tr>\n",
              "    <tr>\n",
              "      <th>2021-09-28</th>\n",
              "      <td>NaN</td>\n",
              "      <td>NaN</td>\n",
              "      <td>1.270593</td>\n",
              "      <td>NaN</td>\n",
              "    </tr>\n",
              "    <tr>\n",
              "      <th>2021-09-29</th>\n",
              "      <td>NaN</td>\n",
              "      <td>NaN</td>\n",
              "      <td>1.705770</td>\n",
              "      <td>0.228062</td>\n",
              "    </tr>\n",
              "    <tr>\n",
              "      <th>2021-09-30</th>\n",
              "      <td>NaN</td>\n",
              "      <td>2.580768</td>\n",
              "      <td>0.220771</td>\n",
              "      <td>0.749565</td>\n",
              "    </tr>\n",
              "    <tr>\n",
              "      <th>2021-10-01</th>\n",
              "      <td>0.280052</td>\n",
              "      <td>2.859679</td>\n",
              "      <td>NaN</td>\n",
              "      <td>0.096524</td>\n",
              "    </tr>\n",
              "    <tr>\n",
              "      <th>2021-10-02</th>\n",
              "      <td>NaN</td>\n",
              "      <td>NaN</td>\n",
              "      <td>1.159955</td>\n",
              "      <td>NaN</td>\n",
              "    </tr>\n",
              "  </tbody>\n",
              "</table>\n",
              "</div>"
            ],
            "text/plain": [
              "                   A         B         C         D\n",
              "2021-09-27  0.553911       NaN  0.148136       NaN\n",
              "2021-09-28       NaN       NaN  1.270593       NaN\n",
              "2021-09-29       NaN       NaN  1.705770  0.228062\n",
              "2021-09-30       NaN  2.580768  0.220771  0.749565\n",
              "2021-10-01  0.280052  2.859679       NaN  0.096524\n",
              "2021-10-02       NaN       NaN  1.159955       NaN"
            ]
          },
          "metadata": {},
          "execution_count": 60
        }
      ]
    },
    {
      "cell_type": "code",
      "metadata": {
        "id": "av3fZ3e87RaZ"
      },
      "source": [
        ""
      ],
      "execution_count": null,
      "outputs": []
    }
  ]
}