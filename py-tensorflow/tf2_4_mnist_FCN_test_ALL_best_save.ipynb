{
  "nbformat": 4,
  "nbformat_minor": 0,
  "metadata": {
    "colab": {
      "name": "tf2_4_mnist_FCN_test_ALL_best_save.ipynb",
      "provenance": [],
      "collapsed_sections": [],
      "include_colab_link": true
    },
    "kernelspec": {
      "name": "python3",
      "display_name": "Python 3"
    },
    "accelerator": "GPU"
  },
  "cells": [
    {
      "cell_type": "markdown",
      "metadata": {
        "id": "view-in-github",
        "colab_type": "text"
      },
      "source": [
        "<a href=\"https://colab.research.google.com/github/KTM001/PDM01/blob/main/py-tensorflow/tf2_4_mnist_FCN_test_ALL_best_save.ipynb\" target=\"_parent\"><img src=\"https://colab.research.google.com/assets/colab-badge.svg\" alt=\"Open In Colab\"/></a>"
      ]
    },
    {
      "cell_type": "markdown",
      "metadata": {
        "id": "eKScslg0Bk1E"
      },
      "source": [
        "## DNN (Deep Neural Networks) 구현 방법\n",
        "> - **Sequential model**\n",
        "> - Functional model\n",
        "> - Subclassing model"
      ]
    },
    {
      "cell_type": "markdown",
      "metadata": {
        "id": "rswfCVLZ-QW0"
      },
      "source": [
        "# **Test of mnist FCN model**\n",
        "## Sequential model\n",
        "- FCN3\n",
        "\n",
        "***\n",
        "\n",
        "![mnist_NN_2_layers](https://raw.githubusercontent.com/Redwoods/Py/master/pdm2020/my-note/py-tensorflow/images/mnist_NN_2_layers.png)"
      ]
    },
    {
      "cell_type": "code",
      "metadata": {
        "id": "8GgGzPXPVyfa",
        "colab": {
          "base_uri": "https://localhost:8080/"
        },
        "outputId": "7cd8694c-f889-4ff4-cf5e-a1ec3d4485e3"
      },
      "source": [
        "import numpy as np\n",
        "import tensorflow as tf\n",
        "from tensorflow import keras\n",
        "import pandas as pd\n",
        "import matplotlib.pyplot as plt\n",
        "# %matplotlib inline\n",
        "\n",
        "print(tf.__version__)"
      ],
      "execution_count": 1,
      "outputs": [
        {
          "output_type": "stream",
          "name": "stdout",
          "text": [
            "2.6.0\n"
          ]
        }
      ]
    },
    {
      "cell_type": "markdown",
      "metadata": {
        "id": "-0IOOUM14Jk1"
      },
      "source": [
        "## **데이터 로딩, 정규화**"
      ]
    },
    {
      "cell_type": "code",
      "metadata": {
        "id": "N1ogJ7I64Fz-",
        "colab": {
          "base_uri": "https://localhost:8080/"
        },
        "outputId": "c134af4e-afb5-4ed0-c030-dfe1e5f7cefd"
      },
      "source": [
        "from keras.datasets import mnist\n",
        "\n",
        "(X_train, y_train), (X_test, y_test) = mnist.load_data()\n",
        "X_train, X_test = X_train/255.0, X_test/255.0 # 정규화\n",
        "\n",
        "print(\"X_train={0}\".format(X_train.shape))\n",
        "print(\"y_train={0}\".format(y_train.shape)) \n",
        "print(\"X_test={0}\".format(X_test.shape))\n",
        "print(\"y_test={0}\".format(y_test.shape))"
      ],
      "execution_count": 2,
      "outputs": [
        {
          "output_type": "stream",
          "name": "stdout",
          "text": [
            "Downloading data from https://storage.googleapis.com/tensorflow/tf-keras-datasets/mnist.npz\n",
            "11493376/11490434 [==============================] - 0s 0us/step\n",
            "11501568/11490434 [==============================] - 0s 0us/step\n",
            "X_train=(60000, 28, 28)\n",
            "y_train=(60000,)\n",
            "X_test=(10000, 28, 28)\n",
            "y_test=(10000,)\n"
          ]
        }
      ]
    },
    {
      "cell_type": "code",
      "metadata": {
        "id": "F46-QZqJHiQ6"
      },
      "source": [
        "# One-Hot-Encoding\n",
        "# Use function to_categorical() to do One-Hot-Encoding\n",
        "# tf.keras.utils.to_categorical\n",
        "from tensorflow.keras.utils import to_categorical\n",
        "\n",
        "y_train = to_categorical(y_train, 10)\n",
        "y_test = to_categorical(y_test, 10)"
      ],
      "execution_count": 3,
      "outputs": []
    },
    {
      "cell_type": "markdown",
      "metadata": {
        "id": "zYsilPV-d68h"
      },
      "source": [
        "## **FCN3**"
      ]
    },
    {
      "cell_type": "markdown",
      "metadata": {
        "id": "8cihsjLOK9-P"
      },
      "source": [
        "### Control of training process\n",
        "- EarlyStopping\n",
        "    - patience\n",
        "- ModelCheckpoint\n",
        "    > Save best model during training"
      ]
    },
    {
      "cell_type": "code",
      "metadata": {
        "id": "GheJZ2V_Krq6"
      },
      "source": [
        "from tensorflow.keras import callbacks\n",
        "# from callbacks import ModelCheckpoint, EarlyStopping"
      ],
      "execution_count": 4,
      "outputs": []
    },
    {
      "cell_type": "code",
      "metadata": {
        "id": "RX59mbX4LmHY"
      },
      "source": [
        "mc_callback = callbacks.ModelCheckpoint(filepath=\"./mnist_fcn3_best_weights.{epoch:03d}-{val_accuracy:.3f}.hdf5\", \n",
        "                              monitor='val_accuracy', verbose=0, save_best_only=True)\n",
        "es_callback = callbacks.EarlyStopping(monitor='val_accuracy', \n",
        "                            mode='max', verbose=1, patience=20) "
      ],
      "execution_count": 5,
      "outputs": []
    },
    {
      "cell_type": "code",
      "metadata": {
        "id": "ru3C9Fdb5MJ9"
      },
      "source": [
        "# set random number seed\n",
        "np.random.seed(1234)\n",
        "tf.random.set_seed(1234)\n",
        "\n",
        "fcn3 = tf.keras.models.Sequential([ \n",
        "    tf.keras.layers.Flatten(input_shape=(28, 28)),\n",
        "    tf.keras.layers.Dense(256, activation='relu'),  \n",
        "    tf.keras.layers.Dropout(0.25),\n",
        "    tf.keras.layers.Dense(128, activation='relu'),  \n",
        "    tf.keras.layers.Dropout(0.25), \n",
        "    tf.keras.layers.Dense(10, activation='softmax')\n",
        "])\n",
        "\n",
        "fcn3.compile(optimizer='adam',\n",
        "              loss='categorical_crossentropy',\n",
        "              metrics=['accuracy']) \n"
      ],
      "execution_count": 6,
      "outputs": []
    },
    {
      "cell_type": "code",
      "metadata": {
        "id": "WUKcSnnc5XcD",
        "colab": {
          "base_uri": "https://localhost:8080/"
        },
        "outputId": "dffb241a-1dcd-4bbc-c9ed-92507c87e428"
      },
      "source": [
        "fcn3.summary()"
      ],
      "execution_count": 7,
      "outputs": [
        {
          "output_type": "stream",
          "name": "stdout",
          "text": [
            "Model: \"sequential\"\n",
            "_________________________________________________________________\n",
            "Layer (type)                 Output Shape              Param #   \n",
            "=================================================================\n",
            "flatten (Flatten)            (None, 784)               0         \n",
            "_________________________________________________________________\n",
            "dense (Dense)                (None, 256)               200960    \n",
            "_________________________________________________________________\n",
            "dropout (Dropout)            (None, 256)               0         \n",
            "_________________________________________________________________\n",
            "dense_1 (Dense)              (None, 128)               32896     \n",
            "_________________________________________________________________\n",
            "dropout_1 (Dropout)          (None, 128)               0         \n",
            "_________________________________________________________________\n",
            "dense_2 (Dense)              (None, 10)                1290      \n",
            "=================================================================\n",
            "Total params: 235,146\n",
            "Trainable params: 235,146\n",
            "Non-trainable params: 0\n",
            "_________________________________________________________________\n"
          ]
        }
      ]
    },
    {
      "cell_type": "code",
      "metadata": {
        "id": "WHnUbwan5Zq7",
        "colab": {
          "base_uri": "https://localhost:8080/"
        },
        "outputId": "42ed7c8d-7aab-485c-f0b7-01c547809c09"
      },
      "source": [
        "# Training with callbacks\n",
        "hist = fcn3.fit(X_train,y_train, \n",
        "                epochs= 100 , \n",
        "                batch_size =100,\n",
        "                validation_data=(X_test,y_test),\n",
        "                callbacks=[mc_callback, es_callback])"
      ],
      "execution_count": 8,
      "outputs": [
        {
          "output_type": "stream",
          "name": "stdout",
          "text": [
            "Epoch 1/100\n",
            "600/600 [==============================] - 5s 4ms/step - loss: 0.3509 - accuracy: 0.8951 - val_loss: 0.1301 - val_accuracy: 0.9595\n",
            "Epoch 2/100\n",
            "600/600 [==============================] - 2s 4ms/step - loss: 0.1503 - accuracy: 0.9548 - val_loss: 0.0966 - val_accuracy: 0.9689\n",
            "Epoch 3/100\n",
            "600/600 [==============================] - 2s 4ms/step - loss: 0.1117 - accuracy: 0.9667 - val_loss: 0.0759 - val_accuracy: 0.9768\n",
            "Epoch 4/100\n",
            "600/600 [==============================] - 2s 4ms/step - loss: 0.0881 - accuracy: 0.9735 - val_loss: 0.0746 - val_accuracy: 0.9762\n",
            "Epoch 5/100\n",
            "600/600 [==============================] - 2s 4ms/step - loss: 0.0760 - accuracy: 0.9759 - val_loss: 0.0723 - val_accuracy: 0.9764\n",
            "Epoch 6/100\n",
            "600/600 [==============================] - 2s 4ms/step - loss: 0.0678 - accuracy: 0.9784 - val_loss: 0.0628 - val_accuracy: 0.9793\n",
            "Epoch 7/100\n",
            "600/600 [==============================] - 2s 4ms/step - loss: 0.0590 - accuracy: 0.9811 - val_loss: 0.0662 - val_accuracy: 0.9794\n",
            "Epoch 8/100\n",
            "600/600 [==============================] - 2s 4ms/step - loss: 0.0531 - accuracy: 0.9829 - val_loss: 0.0655 - val_accuracy: 0.9817\n",
            "Epoch 9/100\n",
            "600/600 [==============================] - 2s 4ms/step - loss: 0.0486 - accuracy: 0.9840 - val_loss: 0.0623 - val_accuracy: 0.9814\n",
            "Epoch 10/100\n",
            "600/600 [==============================] - 2s 4ms/step - loss: 0.0434 - accuracy: 0.9861 - val_loss: 0.0667 - val_accuracy: 0.9810\n",
            "Epoch 11/100\n",
            "600/600 [==============================] - 2s 4ms/step - loss: 0.0411 - accuracy: 0.9863 - val_loss: 0.0682 - val_accuracy: 0.9814\n",
            "Epoch 12/100\n",
            "600/600 [==============================] - 2s 4ms/step - loss: 0.0373 - accuracy: 0.9881 - val_loss: 0.0675 - val_accuracy: 0.9819\n",
            "Epoch 13/100\n",
            "600/600 [==============================] - 2s 4ms/step - loss: 0.0362 - accuracy: 0.9878 - val_loss: 0.0645 - val_accuracy: 0.9829\n",
            "Epoch 14/100\n",
            "600/600 [==============================] - 2s 4ms/step - loss: 0.0355 - accuracy: 0.9880 - val_loss: 0.0719 - val_accuracy: 0.9811\n",
            "Epoch 15/100\n",
            "600/600 [==============================] - 2s 4ms/step - loss: 0.0335 - accuracy: 0.9890 - val_loss: 0.0692 - val_accuracy: 0.9837\n",
            "Epoch 16/100\n",
            "600/600 [==============================] - 2s 4ms/step - loss: 0.0321 - accuracy: 0.9892 - val_loss: 0.0639 - val_accuracy: 0.9835\n",
            "Epoch 17/100\n",
            "600/600 [==============================] - 2s 4ms/step - loss: 0.0276 - accuracy: 0.9909 - val_loss: 0.0693 - val_accuracy: 0.9842\n",
            "Epoch 18/100\n",
            "600/600 [==============================] - 2s 4ms/step - loss: 0.0282 - accuracy: 0.9906 - val_loss: 0.0740 - val_accuracy: 0.9815\n",
            "Epoch 19/100\n",
            "600/600 [==============================] - 2s 4ms/step - loss: 0.0297 - accuracy: 0.9904 - val_loss: 0.0703 - val_accuracy: 0.9821\n",
            "Epoch 20/100\n",
            "600/600 [==============================] - 2s 4ms/step - loss: 0.0254 - accuracy: 0.9911 - val_loss: 0.0647 - val_accuracy: 0.9839\n",
            "Epoch 21/100\n",
            "600/600 [==============================] - 3s 4ms/step - loss: 0.0244 - accuracy: 0.9916 - val_loss: 0.0745 - val_accuracy: 0.9826\n",
            "Epoch 22/100\n",
            "600/600 [==============================] - 2s 4ms/step - loss: 0.0249 - accuracy: 0.9916 - val_loss: 0.0716 - val_accuracy: 0.9836\n",
            "Epoch 23/100\n",
            "600/600 [==============================] - 2s 4ms/step - loss: 0.0222 - accuracy: 0.9924 - val_loss: 0.0749 - val_accuracy: 0.9830\n",
            "Epoch 24/100\n",
            "600/600 [==============================] - 2s 4ms/step - loss: 0.0227 - accuracy: 0.9924 - val_loss: 0.0785 - val_accuracy: 0.9810\n",
            "Epoch 25/100\n",
            "600/600 [==============================] - 2s 4ms/step - loss: 0.0227 - accuracy: 0.9925 - val_loss: 0.0733 - val_accuracy: 0.9830\n",
            "Epoch 26/100\n",
            "600/600 [==============================] - 2s 4ms/step - loss: 0.0207 - accuracy: 0.9931 - val_loss: 0.0749 - val_accuracy: 0.9838\n",
            "Epoch 27/100\n",
            "600/600 [==============================] - 2s 4ms/step - loss: 0.0207 - accuracy: 0.9932 - val_loss: 0.0732 - val_accuracy: 0.9825\n",
            "Epoch 28/100\n",
            "600/600 [==============================] - 2s 4ms/step - loss: 0.0187 - accuracy: 0.9937 - val_loss: 0.0741 - val_accuracy: 0.9832\n",
            "Epoch 29/100\n",
            "600/600 [==============================] - 2s 4ms/step - loss: 0.0195 - accuracy: 0.9935 - val_loss: 0.0886 - val_accuracy: 0.9823\n",
            "Epoch 30/100\n",
            "600/600 [==============================] - 2s 4ms/step - loss: 0.0216 - accuracy: 0.9929 - val_loss: 0.0715 - val_accuracy: 0.9837\n",
            "Epoch 31/100\n",
            "600/600 [==============================] - 2s 4ms/step - loss: 0.0168 - accuracy: 0.9941 - val_loss: 0.0796 - val_accuracy: 0.9837\n",
            "Epoch 32/100\n",
            "600/600 [==============================] - 2s 4ms/step - loss: 0.0165 - accuracy: 0.9941 - val_loss: 0.0838 - val_accuracy: 0.9832\n",
            "Epoch 33/100\n",
            "600/600 [==============================] - 2s 4ms/step - loss: 0.0209 - accuracy: 0.9935 - val_loss: 0.0874 - val_accuracy: 0.9825\n",
            "Epoch 34/100\n",
            "600/600 [==============================] - 2s 4ms/step - loss: 0.0179 - accuracy: 0.9944 - val_loss: 0.0876 - val_accuracy: 0.9820\n",
            "Epoch 35/100\n",
            "600/600 [==============================] - 2s 4ms/step - loss: 0.0213 - accuracy: 0.9934 - val_loss: 0.0820 - val_accuracy: 0.9834\n",
            "Epoch 36/100\n",
            "600/600 [==============================] - 2s 4ms/step - loss: 0.0196 - accuracy: 0.9936 - val_loss: 0.0836 - val_accuracy: 0.9828\n",
            "Epoch 37/100\n",
            "600/600 [==============================] - 2s 4ms/step - loss: 0.0171 - accuracy: 0.9945 - val_loss: 0.0793 - val_accuracy: 0.9835\n",
            "Epoch 00037: early stopping\n"
          ]
        }
      ]
    },
    {
      "cell_type": "code",
      "metadata": {
        "id": "kTaGJMFG7FbH",
        "colab": {
          "base_uri": "https://localhost:8080/"
        },
        "outputId": "cacaa390-784b-4e3d-a413-b76a6e379e9c"
      },
      "source": [
        "fcn3.evaluate(X_test, y_test, batch_size= 100)"
      ],
      "execution_count": 10,
      "outputs": [
        {
          "output_type": "stream",
          "name": "stdout",
          "text": [
            "100/100 [==============================] - 0s 3ms/step - loss: 0.0793 - accuracy: 0.9835\n"
          ]
        },
        {
          "output_type": "execute_result",
          "data": {
            "text/plain": [
              "[0.07932817935943604, 0.9835000038146973]"
            ]
          },
          "metadata": {},
          "execution_count": 10
        }
      ]
    },
    {
      "cell_type": "code",
      "metadata": {
        "id": "cfm87VmlM7Pr",
        "colab": {
          "base_uri": "https://localhost:8080/",
          "height": 295
        },
        "outputId": "42ec882e-5448-47e4-ca07-393556706848"
      },
      "source": [
        "# 훈련 데이터와 검증 데이터에 대한 loss 시각화.\n",
        "epochs = range(1, len(hist.history['loss']) + 1)\n",
        "\n",
        "loss_list = hist.history['loss'] #[100 * i for i in history.history['loss']]\n",
        "vloss_list = hist.history['val_loss'] #[100 * i for i in history.history['val_loss']]\n",
        "\n",
        "plt.plot(epochs,loss_list)  \n",
        "plt.plot(epochs,vloss_list)\n",
        "\n",
        "plt.plot(np.argmin(np.array(vloss_list))+1,vloss_list[np.argmin(np.array(vloss_list))], 'r*')\n",
        "plt.title('mnist: NN(FCN) model - val_loss, min:' + str(np.round(vloss_list[np.argmin(np.array(vloss_list))],2)))\n",
        "plt.ylabel('val-Loss (%)')\n",
        "plt.xlabel('Epoch')\n",
        "plt.legend(['loss','val_loss','best'], loc='best')\n",
        "plt.show()"
      ],
      "execution_count": 11,
      "outputs": [
        {
          "output_type": "display_data",
          "data": {
            "image/png": "[encoded data removed]",
            "text/plain": [
              "<Figure size 432x288 with 1 Axes>"
            ]
          },
          "metadata": {
            "needs_background": "light"
          }
        }
      ]
    },
    {
      "cell_type": "code",
      "metadata": {
        "id": "lH4NQknvNBsE",
        "colab": {
          "base_uri": "https://localhost:8080/",
          "height": 295
        },
        "outputId": "e4d45145-5a0f-41ff-f974-e8789c02ec7f"
      },
      "source": [
        "# 훈련 데이터와 검증 데이터에 대한 accuracy 시각화.\n",
        "epochs = range(1, len(hist.history['accuracy']) + 1)\n",
        "\n",
        "acc_list = [100 * i for i in hist.history['accuracy']]\n",
        "vacc_list = [100 * i for i in hist.history['val_accuracy']]\n",
        "\n",
        "plt.plot(epochs,acc_list)  \n",
        "plt.plot(epochs,vacc_list)\n",
        "\n",
        "plt.plot(np.argmax(np.array(vacc_list))+1,vacc_list[np.argmax(np.array(vacc_list))], 'r*')\n",
        "plt.title('mnist: NN(FCN) model - val_accuracy, max:' + str(np.round(vacc_list[np.argmax(np.array(vacc_list))],2)))\n",
        "plt.ylabel('val-Accuracy (%)')\n",
        "plt.xlabel('Epoch')\n",
        "plt.legend(['accuracy','val_accuracy','best'], loc='best')\n",
        "plt.show()"
      ],
      "execution_count": 12,
      "outputs": [
        {
          "output_type": "display_data",
          "data": {
            "image/png": "[encoded data removed]",
            "text/plain": [
              "<Figure size 432x288 with 1 Axes>"
            ]
          },
          "metadata": {
            "needs_background": "light"
          }
        }
      ]
    },
    {
      "cell_type": "markdown",
      "metadata": {
        "id": "gBPKMI4y3fsa"
      },
      "source": [
        "## 모형의 재사용\n",
        "\n",
        "- 트레이닝 중 hdf5 형식으로 best model이 저장됨.\n",
        "- load 명령으로 불러 사용\n",
        "> best model: mnist_fcn3_best_weights.020-0.986.hdf5 \n",
        "\n",
        ">> mnist_fcn3_best_weights.044-0.985.hdf5\n",
        "\n",
        ">>mnist_fcn3_best_weights.017-0.984.hdf5"
      ]
    },
    {
      "cell_type": "code",
      "metadata": {
        "id": "b7-ysIVy3fse",
        "colab": {
          "base_uri": "https://localhost:8080/"
        },
        "outputId": "f21699ae-5404-4d8a-c432-57481faee913"
      },
      "source": [
        "from keras.models import load_model\n",
        "\n",
        "best_model = load_model('mnist_fcn3_best_weights.017-0.984.hdf5')\n",
        "best_model.evaluate(X_test, y_test, batch_size=100)"
      ],
      "execution_count": 13,
      "outputs": [
        {
          "output_type": "stream",
          "name": "stdout",
          "text": [
            "100/100 [==============================] - 0s 3ms/step - loss: 0.0693 - accuracy: 0.9842\n"
          ]
        },
        {
          "output_type": "execute_result",
          "data": {
            "text/plain": [
              "[0.06925126165151596, 0.9842000007629395]"
            ]
          },
          "metadata": {},
          "execution_count": 13
        }
      ]
    },
    {
      "cell_type": "markdown",
      "metadata": {
        "id": "o6YQKW13EBhB"
      },
      "source": [
        "---"
      ]
    },
    {
      "cell_type": "markdown",
      "metadata": {
        "id": "mHPhgk3FmmPB"
      },
      "source": [
        "## Visualization of the best model\n",
        "---\n",
        "![mnist_fcn_best](https://raw.githubusercontent.com/Redwoods/Py/master/pdm2020/my-note/py-streamlit-21/app/mnist_fcn.png)"
      ]
    },
    {
      "cell_type": "code",
      "metadata": {
        "id": "-uYuq66xmsrG"
      },
      "source": [
        "def plot_pred(i, pred_y, true_y, img):\n",
        "    \n",
        "    plt.grid(False)\n",
        "    plt.title(class_names[np.argmax(true_y)])\n",
        "    plt.xticks([])\n",
        "    plt.yticks([])\n",
        "\n",
        "    plt.imshow(img)\n",
        "\n",
        "    predicted_label = np.argmax(pred_y)\n",
        "    if predicted_label == np.argmax(true_y):   # np.argmax(true_label)\n",
        "        plt.suptitle(\"Test image-%d: Classified correctly\" % i)\n",
        "    else:\n",
        "        plt.suptitle(\"Test image-%d: Wrong classification\" % i)\n",
        "\n",
        "\n",
        "def plot_bar(pred_y, true_y):\n",
        "    \n",
        "    plt.grid(False)\n",
        "    plt.yticks([])\n",
        "    plt.xticks(np.arange(10), class_names, rotation=0)\n",
        "\n",
        "    thisplot = plt.bar(range(10), pred_y, color='grey')\n",
        "    plt.ylim([0, 1])\n",
        "    predicted_label = np.argmax(pred_y)\n",
        "\n",
        "    if predicted_label == np.argmax(true_y):  \n",
        "        color = 'green'\n",
        "    else:\n",
        "        color = 'red'\n",
        "\n",
        "    thisplot[predicted_label].set_color(color)\n"
      ],
      "execution_count": 14,
      "outputs": []
    },
    {
      "cell_type": "code",
      "metadata": {
        "id": "j-ebekW5qNAe",
        "colab": {
          "base_uri": "https://localhost:8080/"
        },
        "outputId": "37a898ad-b31e-4581-cce5-c403869a232e"
      },
      "source": [
        "X_test.shape,y_test.shape"
      ],
      "execution_count": 15,
      "outputs": [
        {
          "output_type": "execute_result",
          "data": {
            "text/plain": [
              "((10000, 28, 28), (10000, 10))"
            ]
          },
          "metadata": {},
          "execution_count": 15
        }
      ]
    },
    {
      "cell_type": "code",
      "metadata": {
        "id": "vdavbni-nWyB",
        "colab": {
          "base_uri": "https://localhost:8080/"
        },
        "outputId": "afc1cff9-4aa6-4b38-91c2-2f3a4c6172a6"
      },
      "source": [
        "num = np.random.randint(0, len(y_test))\n",
        "y_pred0 = best_model.predict(X_test[num:num+1], verbose=1)"
      ],
      "execution_count": 16,
      "outputs": [
        {
          "output_type": "stream",
          "name": "stdout",
          "text": [
            "1/1 [==============================] - 0s 85ms/step\n"
          ]
        }
      ]
    },
    {
      "cell_type": "code",
      "metadata": {
        "id": "cFLEuELxqXDg",
        "colab": {
          "base_uri": "https://localhost:8080/"
        },
        "outputId": "16b14c72-46d6-4578-c7aa-f4074a7d70fb"
      },
      "source": [
        "y_pred0"
      ],
      "execution_count": 17,
      "outputs": [
        {
          "output_type": "execute_result",
          "data": {
            "text/plain": [
              "array([[4.2787726e-16, 5.2236224e-14, 1.0000000e+00, 5.2036625e-11,\n",
              "        3.0897051e-13, 4.7105430e-18, 1.4091936e-15, 2.2790228e-13,\n",
              "        3.1845817e-12, 2.3326452e-17]], dtype=float32)"
            ]
          },
          "metadata": {},
          "execution_count": 17
        }
      ]
    },
    {
      "cell_type": "code",
      "metadata": {
        "id": "0FXr4jTzrAH3",
        "colab": {
          "base_uri": "https://localhost:8080/"
        },
        "outputId": "af9ca70b-d251-45b5-b1fc-4747d298d40f"
      },
      "source": [
        "y_test0=y_test[num:num+1]\n",
        "y_test0"
      ],
      "execution_count": 18,
      "outputs": [
        {
          "output_type": "execute_result",
          "data": {
            "text/plain": [
              "array([[0., 0., 1., 0., 0., 0., 0., 0., 0., 0.]], dtype=float32)"
            ]
          },
          "metadata": {},
          "execution_count": 18
        }
      ]
    },
    {
      "cell_type": "code",
      "metadata": {
        "id": "QYC5cGWcrumm"
      },
      "source": [
        "X_test0 = X_test[num]"
      ],
      "execution_count": 19,
      "outputs": []
    },
    {
      "cell_type": "code",
      "metadata": {
        "id": "fstDlYF9rTxI"
      },
      "source": [
        "class_names = [\"0\",\"1\",\"2\",\"3\",\"4\",\"5\",\"6\",\"7\",\"8\",\"9\"]"
      ],
      "execution_count": 20,
      "outputs": []
    },
    {
      "cell_type": "code",
      "metadata": {
        "id": "AB2zf02bndrm",
        "colab": {
          "base_uri": "https://localhost:8080/",
          "height": 540
        },
        "outputId": "f84bfbf5-7efd-43c4-a246-d2f5bf83d5ba"
      },
      "source": [
        "plt.figure(figsize=(10,8))\n",
        "plt.subplot(2,1,1)\n",
        "plot_pred(num, y_pred0[0], y_test0[0], X_test0)\n",
        "plt.subplot(2,1,2)\n",
        "plot_bar(y_pred0[0],  y_test0[0])\n",
        "plt.title(\"Green: True, Red: False\")\n",
        "plt.show()"
      ],
      "execution_count": 21,
      "outputs": [
        {
          "output_type": "display_data",
          "data": {
            "image/png": "[encoded data removed]",
            "text/plain": [
              "<Figure size 720x576 with 2 Axes>"
            ]
          },
          "metadata": {
            "needs_background": "light"
          }
        }
      ]
    },
    {
      "cell_type": "markdown",
      "metadata": {
        "id": "qlnZWcmyv56p"
      },
      "source": [
        "---"
      ]
    },
    {
      "cell_type": "code",
      "metadata": {
        "id": "uwcUIZX_v8YL",
        "colab": {
          "base_uri": "https://localhost:8080/",
          "height": 558
        },
        "outputId": "b43033a5-6176-4e13-e97f-9e8ac663cca1"
      },
      "source": [
        "# Random test\n",
        "num = np.random.randint(0, len(y_test))\n",
        "y_pred0 = best_model.predict(X_test[num:num+1], verbose=1)\n",
        "y_test0=y_test[num:num+1]\n",
        "X_test0 = X_test[num]\n",
        "\n",
        "class_names = [\"0\",\"1\",\"2\",\"3\",\"4\",\"5\",\"6\",\"7\",\"8\",\"9\"]\n",
        "\n",
        "plt.figure(figsize=(10,8))\n",
        "plt.subplot(2,1,1)\n",
        "plot_pred(num, y_pred0[0], y_test0[0], X_test0)\n",
        "plt.subplot(2,1,2)\n",
        "plot_bar(y_pred0[0],  y_test0[0])\n",
        "plt.title(\"Green: True, Red: False\")\n",
        "plt.show()"
      ],
      "execution_count": 41,
      "outputs": [
        {
          "output_type": "stream",
          "name": "stdout",
          "text": [
            "1/1 [==============================] - 0s 16ms/step\n"
          ]
        },
        {
          "output_type": "display_data",
          "data": {
            "image/png": "[encoded data removed]",
            "text/plain": [
              "<Figure size 720x576 with 2 Axes>"
            ]
          },
          "metadata": {
            "needs_background": "light"
          }
        }
      ]
    }
  ]
}