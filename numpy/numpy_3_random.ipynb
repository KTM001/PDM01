{
  "nbformat": 4,
  "nbformat_minor": 0,
  "metadata": {
    "colab": {
      "name": "numpy_3_random.ipynb",
      "provenance": [],
      "collapsed_sections": [],
      "include_colab_link": true
    },
    "kernelspec": {
      "name": "python3",
      "display_name": "Python 3"
    }
  },
  "cells": [
    {
      "cell_type": "markdown",
      "metadata": {
        "id": "view-in-github",
        "colab_type": "text"
      },
      "source": [
        "<a href=\"https://colab.research.google.com/github/KTM001/PDM01/blob/main/numpy/numpy_3_random.ipynb\" target=\"_parent\"><img src=\"https://colab.research.google.com/assets/colab-badge.svg\" alt=\"Open In Colab\"/></a>"
      ]
    },
    {
      "cell_type": "markdown",
      "metadata": {
        "id": "_zrirXHfgmyY"
      },
      "source": [
        "# numpy\n",
        "## random 서브모듈\n",
        "> [데이터싸이언스 스쿨:난수발생](https://datascienceschool.net/01%20python/03.05%20%EB%82%9C%EC%88%98%20%EB%B0%9C%EC%83%9D%EA%B3%BC%20%EC%B9%B4%EC%9A%B4%ED%8C%85.html)"
      ]
    },
    {
      "cell_type": "code",
      "metadata": {
        "id": "kQbzzSMZG2PX"
      },
      "source": [
        "import numpy as np"
      ],
      "execution_count": 1,
      "outputs": []
    },
    {
      "cell_type": "markdown",
      "metadata": {
        "id": "1Ry0YHkNFis5"
      },
      "source": [
        "## 난수 생성\n",
        "> NumPy의 random 서브모듈은 난수를 생성하는 다양한 명령을 제공.\n",
        "\n",
        "- rand: 0부터 1사이의 균일 분포 (uniform distribution)\n",
        "- randn: 가우시안 표준 정규 분포 (normal distribution, Gaussian)\n",
        "- randint: 균일 분포의 정수 난수 (uniform int)\n",
        "\n",
        "> randn()은 평균 0, 표준편차 1 인 가우시안 정규분포를 생성."
      ]
    },
    {
      "cell_type": "markdown",
      "metadata": {
        "id": "CtO1VxvurziR"
      },
      "source": [
        "### rand: 0부터 1사이의 균일 분포 (uniform distribution)"
      ]
    },
    {
      "cell_type": "code",
      "metadata": {
        "id": "LA1oF6aEG7kJ",
        "colab": {
          "base_uri": "https://localhost:8080/"
        },
        "outputId": "eef09fa5-773d-42c1-ba52-fe36b933417b"
      },
      "source": [
        "np.random.rand(5)"
      ],
      "execution_count": null,
      "outputs": [
        {
          "output_type": "execute_result",
          "data": {
            "text/plain": [
              "array([0.01280102, 0.80984889, 0.1687786 , 0.93683274, 0.56684771])"
            ]
          },
          "metadata": {},
          "execution_count": 2
        }
      ]
    },
    {
      "cell_type": "code",
      "metadata": {
        "id": "H6f4ix3NHCyR",
        "colab": {
          "base_uri": "https://localhost:8080/"
        },
        "outputId": "f78f6255-09b3-4e44-c378-90c26875e04a"
      },
      "source": [
        "np.random.rand(5)"
      ],
      "execution_count": null,
      "outputs": [
        {
          "output_type": "execute_result",
          "data": {
            "text/plain": [
              "array([0.92953458, 0.25152642, 0.37039148, 0.36433265, 0.12108362])"
            ]
          },
          "metadata": {},
          "execution_count": 3
        }
      ]
    },
    {
      "cell_type": "markdown",
      "metadata": {
        "id": "c88F6gf8r4K2"
      },
      "source": [
        "### randn: 가우시안 표준 정규 분포 (normal distribution, Gaussian)"
      ]
    },
    {
      "cell_type": "code",
      "metadata": {
        "id": "rtVfCL-uP2Tw",
        "colab": {
          "base_uri": "https://localhost:8080/"
        },
        "outputId": "58017841-5d40-40c9-f6d7-11c2ea8ba834"
      },
      "source": [
        "np.random.randn(5)"
      ],
      "execution_count": null,
      "outputs": [
        {
          "output_type": "execute_result",
          "data": {
            "text/plain": [
              "array([-1.4379349 ,  0.30328742,  0.82205197, -0.14315042,  0.39259571])"
            ]
          },
          "metadata": {},
          "execution_count": 4
        }
      ]
    },
    {
      "cell_type": "code",
      "metadata": {
        "colab": {
          "base_uri": "https://localhost:8080/"
        },
        "id": "A9zGCgCW1cnJ",
        "outputId": "606fc701-45ea-4335-f1df-f134cb17299d"
      },
      "source": [
        "np.random.randn(5)"
      ],
      "execution_count": null,
      "outputs": [
        {
          "output_type": "execute_result",
          "data": {
            "text/plain": [
              "array([ 1.69591889,  0.70753045, -1.3006377 ,  1.51362498,  1.70507788])"
            ]
          },
          "metadata": {},
          "execution_count": 5
        }
      ]
    },
    {
      "cell_type": "markdown",
      "metadata": {
        "id": "wsvTzTFSsBSJ"
      },
      "source": [
        "### randint: 균일 분포의 정수 난수 (uniform int)\n",
        "- numpy.random.randint(low, high=None, size=None, dtype='l')"
      ]
    },
    {
      "cell_type": "code",
      "metadata": {
        "id": "WSvAH8uVs2Vb",
        "colab": {
          "base_uri": "https://localhost:8080/"
        },
        "outputId": "fa3678bb-3031-48a9-e77f-12a021ba32bd"
      },
      "source": [
        "np.random.randint(5) #5미만"
      ],
      "execution_count": null,
      "outputs": [
        {
          "output_type": "execute_result",
          "data": {
            "text/plain": [
              "0"
            ]
          },
          "metadata": {},
          "execution_count": 13
        }
      ]
    },
    {
      "cell_type": "code",
      "metadata": {
        "colab": {
          "base_uri": "https://localhost:8080/"
        },
        "id": "m2K1CreN2CiH",
        "outputId": "9cc3eddb-427a-4214-a3e9-1acbed3c9427"
      },
      "source": [
        "#die number\n",
        "np.random.randint(1,7)"
      ],
      "execution_count": null,
      "outputs": [
        {
          "output_type": "execute_result",
          "data": {
            "text/plain": [
              "4"
            ]
          },
          "metadata": {},
          "execution_count": 12
        }
      ]
    },
    {
      "cell_type": "code",
      "metadata": {
        "id": "McWHW15uQDPr",
        "colab": {
          "base_uri": "https://localhost:8080/"
        },
        "outputId": "1e7f3d97-1664-469e-bd5b-99e2b8e1bc86"
      },
      "source": [
        "np.random.randint(5,9) "
      ],
      "execution_count": null,
      "outputs": [
        {
          "output_type": "execute_result",
          "data": {
            "text/plain": [
              "8"
            ]
          },
          "metadata": {},
          "execution_count": 9
        }
      ]
    },
    {
      "cell_type": "code",
      "metadata": {
        "id": "oBsWu9FmQQSC",
        "colab": {
          "base_uri": "https://localhost:8080/"
        },
        "outputId": "88f5b32a-7127-49b1-e3be-0a31ea75d1b7"
      },
      "source": [
        "np.random.randint(0,10,5)"
      ],
      "execution_count": null,
      "outputs": [
        {
          "output_type": "execute_result",
          "data": {
            "text/plain": [
              "array([9, 5, 1, 9, 4])"
            ]
          },
          "metadata": {},
          "execution_count": 14
        }
      ]
    },
    {
      "cell_type": "code",
      "metadata": {
        "id": "0kNuJxjaQYEu",
        "colab": {
          "base_uri": "https://localhost:8080/"
        },
        "outputId": "785f9f13-21fc-4e40-a7ad-84d3f81b7e96"
      },
      "source": [
        "np.random.randint(0,10,5)"
      ],
      "execution_count": null,
      "outputs": [
        {
          "output_type": "execute_result",
          "data": {
            "text/plain": [
              "array([4, 6, 8, 8, 4])"
            ]
          },
          "metadata": {},
          "execution_count": 15
        }
      ]
    },
    {
      "cell_type": "markdown",
      "metadata": {
        "id": "K58DiNYUmANL"
      },
      "source": [
        "---"
      ]
    },
    {
      "cell_type": "markdown",
      "metadata": {
        "id": "xU5NWjQ3F_ld"
      },
      "source": [
        "## 난수 생성 seed 설정\n",
        "- numpy.random.seed(seed=None)\n",
        "- np.random.seed(number)"
      ]
    },
    {
      "cell_type": "code",
      "metadata": {
        "id": "AxUeYmQSQawG"
      },
      "source": [
        "np.random.seed()"
      ],
      "execution_count": null,
      "outputs": []
    },
    {
      "cell_type": "code",
      "metadata": {
        "id": "C33YjKqvRJ33",
        "colab": {
          "base_uri": "https://localhost:8080/"
        },
        "outputId": "d2725bbf-c6d5-4f00-91c1-c008d5fbb0a9"
      },
      "source": [
        "np.random.rand(5)"
      ],
      "execution_count": null,
      "outputs": [
        {
          "output_type": "execute_result",
          "data": {
            "text/plain": [
              "array([0.30540109, 0.433285  , 0.89317816, 0.09699856, 0.26267577])"
            ]
          },
          "metadata": {},
          "execution_count": 17
        }
      ]
    },
    {
      "cell_type": "code",
      "metadata": {
        "id": "Ne8rIyN9RO81",
        "colab": {
          "base_uri": "https://localhost:8080/"
        },
        "outputId": "826deb34-45bb-4c31-a112-144d626f03df"
      },
      "source": [
        "np.random.rand(5)"
      ],
      "execution_count": null,
      "outputs": [
        {
          "output_type": "execute_result",
          "data": {
            "text/plain": [
              "array([0.45737545, 0.61758702, 0.12591797, 0.00833744, 0.79105166])"
            ]
          },
          "metadata": {},
          "execution_count": 18
        }
      ]
    },
    {
      "cell_type": "markdown",
      "metadata": {
        "id": "wnQ4gFoltu81"
      },
      "source": [
        "### 동일한 무작위수 생성\n",
        "- seed를 고정하고 무작위수 생성"
      ]
    },
    {
      "cell_type": "code",
      "metadata": {
        "id": "LGPOJGfgRSWx"
      },
      "source": [
        "np.random.seed(1234)"
      ],
      "execution_count": null,
      "outputs": []
    },
    {
      "cell_type": "code",
      "metadata": {
        "id": "t2PNRUpfRXZk",
        "colab": {
          "base_uri": "https://localhost:8080/"
        },
        "outputId": "b0a3a352-5017-4466-e598-8cab230267b1"
      },
      "source": [
        "np.random.rand(5)"
      ],
      "execution_count": null,
      "outputs": [
        {
          "output_type": "execute_result",
          "data": {
            "text/plain": [
              "array([0.19151945, 0.62210877, 0.43772774, 0.78535858, 0.77997581])"
            ]
          },
          "metadata": {},
          "execution_count": 20
        }
      ]
    },
    {
      "cell_type": "code",
      "metadata": {
        "id": "x8yKednV8CZy",
        "colab": {
          "base_uri": "https://localhost:8080/"
        },
        "outputId": "0a39259f-c7db-49e9-ed4d-c1075e958220"
      },
      "source": [
        "np.random.rand(5)"
      ],
      "execution_count": null,
      "outputs": [
        {
          "output_type": "execute_result",
          "data": {
            "text/plain": [
              "array([0.27259261, 0.27646426, 0.80187218, 0.95813935, 0.87593263])"
            ]
          },
          "metadata": {},
          "execution_count": 21
        }
      ]
    },
    {
      "cell_type": "code",
      "metadata": {
        "id": "bo2A_ntYRcKw"
      },
      "source": [
        "np.random.seed(1234)"
      ],
      "execution_count": null,
      "outputs": []
    },
    {
      "cell_type": "code",
      "metadata": {
        "id": "U5qXdwYQRYeT",
        "colab": {
          "base_uri": "https://localhost:8080/"
        },
        "outputId": "a5919f74-a1bd-4986-f063-2cbe33222f8f"
      },
      "source": [
        "np.random.rand(5)"
      ],
      "execution_count": null,
      "outputs": [
        {
          "output_type": "execute_result",
          "data": {
            "text/plain": [
              "array([0.19151945, 0.62210877, 0.43772774, 0.78535858, 0.77997581])"
            ]
          },
          "metadata": {},
          "execution_count": 23
        }
      ]
    },
    {
      "cell_type": "markdown",
      "metadata": {
        "id": "pwMXGAwmRhpW"
      },
      "source": [
        "### seed 고정 후에 randint(5)"
      ]
    },
    {
      "cell_type": "code",
      "metadata": {
        "id": "tqmTOMMVRhGW",
        "colab": {
          "base_uri": "https://localhost:8080/"
        },
        "outputId": "4e777299-3696-453b-c82c-a76d05b88fb5"
      },
      "source": [
        "np.random.seed(5678)\n",
        "np.random.randint(1,10,5)"
      ],
      "execution_count": null,
      "outputs": [
        {
          "output_type": "execute_result",
          "data": {
            "text/plain": [
              "array([5, 8, 3, 5, 4])"
            ]
          },
          "metadata": {},
          "execution_count": 24
        }
      ]
    },
    {
      "cell_type": "code",
      "metadata": {
        "id": "YxQYjcOLSA-Z",
        "colab": {
          "base_uri": "https://localhost:8080/"
        },
        "outputId": "cb2c2621-2431-42fe-f752-98cf3ffb8bc0"
      },
      "source": [
        "np.random.randint(1,10,5)"
      ],
      "execution_count": null,
      "outputs": [
        {
          "output_type": "execute_result",
          "data": {
            "text/plain": [
              "array([6, 3, 7, 4, 1])"
            ]
          },
          "metadata": {},
          "execution_count": 25
        }
      ]
    },
    {
      "cell_type": "code",
      "metadata": {
        "id": "aQYF5QpGSD6p",
        "colab": {
          "base_uri": "https://localhost:8080/"
        },
        "outputId": "3c61d9dc-d4f6-497c-b93f-813a6fa01b5d"
      },
      "source": [
        "np.random.seed(5678)\n",
        "np.random.randint(1,10,5)"
      ],
      "execution_count": null,
      "outputs": [
        {
          "output_type": "execute_result",
          "data": {
            "text/plain": [
              "array([5, 8, 3, 5, 4])"
            ]
          },
          "metadata": {},
          "execution_count": 26
        }
      ]
    },
    {
      "cell_type": "code",
      "metadata": {
        "id": "cfIhMEcVSGKa",
        "colab": {
          "base_uri": "https://localhost:8080/"
        },
        "outputId": "717acbc4-48d6-478c-d288-c1889904d353"
      },
      "source": [
        "np.random.seed(5678)\n",
        "np.random.randint(1,10,5)"
      ],
      "execution_count": null,
      "outputs": [
        {
          "output_type": "execute_result",
          "data": {
            "text/plain": [
              "array([5, 8, 3, 5, 4])"
            ]
          },
          "metadata": {},
          "execution_count": 27
        }
      ]
    },
    {
      "cell_type": "code",
      "metadata": {
        "id": "Ik9a-QkcfLwy",
        "colab": {
          "base_uri": "https://localhost:8080/"
        },
        "outputId": "f48e7b89-f91d-4fc0-b6e3-8ccfe1965ab5"
      },
      "source": [
        "# seed 변경\n",
        "np.random.seed(0)\n",
        "np.random.randint(1,10,5)"
      ],
      "execution_count": null,
      "outputs": [
        {
          "output_type": "execute_result",
          "data": {
            "text/plain": [
              "array([6, 1, 4, 4, 8])"
            ]
          },
          "metadata": {},
          "execution_count": 28
        }
      ]
    },
    {
      "cell_type": "markdown",
      "metadata": {
        "id": "Zg3g31drmDMI"
      },
      "source": [
        "---\n",
        "---"
      ]
    },
    {
      "cell_type": "markdown",
      "metadata": {
        "id": "YNVh_pbhfROq"
      },
      "source": [
        "## DIY: 도전 코딩 - numpy 정리 과제\n",
        "- 생성된 마구잡이수를 조사하고 사용하기 \n",
        "- 9월19일 자정 마감."
      ]
    },
    {
      "cell_type": "markdown",
      "metadata": {
        "id": "vxNHFDSIgMmC"
      },
      "source": [
        "### [도전 1.] 0부터 9까지의 마구잡이 정수를 1000개 만들고 각 수의 빈도를 구하시오. "
      ]
    },
    {
      "cell_type": "code",
      "metadata": {
        "id": "qkDfXH1xgjBz",
        "colab": {
          "base_uri": "https://localhost:8080/"
        },
        "outputId": "2776862d-eb57-4cd7-927e-6ae9a9715fd1"
      },
      "source": [
        "# n1000=\n",
        "n1000 = np.random.randint(0,10,1000)\n",
        "print(n1000)\n",
        "value, count= np.unique(n1000, return_counts=True)\n",
        "print(value, count)"
      ],
      "execution_count": 3,
      "outputs": [
        {
          "output_type": "stream",
          "name": "stdout",
          "text": [
            "[8 9 1 8 0 6 9 6 0 1 7 7 2 0 1 6 6 1 5 6 4 3 5 4 6 9 8 9 5 0 8 0 8 8 1 6 0\n",
            " 4 7 3 2 6 3 7 3 9 6 6 3 7 4 8 6 3 2 8 6 5 7 0 8 2 0 5 7 9 3 6 9 3 0 5 1 6\n",
            " 2 2 7 4 6 8 8 6 3 2 7 4 5 9 0 9 2 9 9 3 7 0 7 9 1 1 8 5 7 1 9 7 1 1 4 6 5\n",
            " 6 5 1 3 6 3 4 3 2 1 7 2 1 2 6 1 8 7 9 6 2 2 2 7 2 0 4 2 4 3 6 0 5 1 0 6 9\n",
            " 8 4 7 2 3 3 8 1 8 2 9 3 3 2 7 1 5 3 5 6 9 3 1 9 5 4 6 3 4 0 9 9 1 8 6 3 5\n",
            " 9 8 4 5 7 3 6 4 6 2 5 6 7 7 5 4 2 8 0 9 0 8 4 7 3 6 4 2 0 7 7 9 7 8 8 6 2\n",
            " 1 2 8 0 9 5 4 5 7 1 3 5 8 7 2 8 4 6 9 7 0 0 6 8 7 3 5 6 7 5 4 0 0 4 3 8 4\n",
            " 4 2 7 6 1 3 0 5 6 5 9 1 8 7 0 5 5 1 6 5 1 1 3 7 7 9 5 3 6 0 8 8 0 2 1 7 5\n",
            " 5 3 3 5 1 5 7 8 4 6 7 2 9 2 0 7 1 1 3 2 1 3 3 8 4 2 1 6 1 3 2 1 4 7 5 4 3\n",
            " 5 1 1 9 3 6 1 0 8 4 3 0 1 9 4 7 2 1 5 9 9 8 3 4 2 6 0 3 7 1 7 1 2 0 4 0 7\n",
            " 7 7 0 3 2 2 0 5 7 4 0 4 2 5 2 7 3 9 3 4 1 5 3 3 3 8 6 4 0 3 9 6 2 2 9 3 7\n",
            " 0 7 2 2 7 8 0 5 6 4 3 8 4 7 9 8 3 6 1 9 4 2 4 8 9 3 6 4 3 6 3 9 5 1 3 2 0\n",
            " 3 1 9 4 0 9 3 1 9 9 1 7 7 3 5 2 2 1 8 8 2 9 3 7 7 7 5 3 4 0 9 8 7 4 6 3 7\n",
            " 7 6 6 1 9 2 9 2 7 9 8 2 3 4 7 8 5 6 8 8 7 0 8 0 5 0 8 1 4 9 7 5 4 6 5 8 0\n",
            " 4 3 5 7 3 6 2 4 7 0 7 6 1 3 2 2 5 8 2 1 2 8 2 1 5 5 6 6 0 0 6 5 5 9 5 5 6\n",
            " 5 2 4 8 4 1 0 5 5 7 0 2 4 3 0 6 8 7 8 2 9 4 4 3 4 1 0 1 2 9 6 0 0 2 8 6 0\n",
            " 0 8 7 0 3 7 1 4 1 4 8 8 8 8 1 5 3 1 0 6 5 7 6 6 5 8 0 2 6 0 2 4 7 9 5 1 6\n",
            " 2 0 8 1 0 8 7 3 5 6 7 4 3 8 5 0 8 9 5 3 5 6 5 2 8 5 1 5 5 1 3 5 3 6 8 2 1\n",
            " 8 7 3 3 2 8 8 9 9 9 7 5 8 9 0 6 4 1 7 8 1 8 7 1 4 0 1 8 8 8 6 2 6 9 0 4 4\n",
            " 8 6 3 1 4 3 0 4 3 3 9 6 6 1 0 3 2 6 2 3 6 8 1 1 3 2 8 0 5 2 6 0 1 6 0 8 6\n",
            " 4 6 9 9 8 6 7 6 4 9 4 9 2 7 9 9 7 7 8 3 5 7 5 9 4 4 8 7 7 0 7 0 4 4 4 9 2\n",
            " 8 6 7 3 9 8 8 8 7 1 6 9 8 9 9 8 3 3 8 7 2 4 4 6 0 1 8 4 5 5 9 0 1 2 6 5 4\n",
            " 6 0 9 1 6 7 3 3 2 4 4 1 2 8 1 3 6 2 4 1 0 3 0 5 6 6 0 6 5 4 5 0 7 9 0 3 5\n",
            " 4 6 2 6 9 7 2 8 7 8 4 5 4 1 6 9 4 7 4 8 4 7 2 3 3 9 0 0 9 1 4 1 1 0 7 1 6\n",
            " 6 9 1 3 7 5 8 0 5 6 0 3 8 9 4 5 2 1 6 0 7 9 7 2 6 0 9 8 6 0 2 5 8 1 8 4 7\n",
            " 7 0 3 6 4 5 4 7 3 4 7 3 6 8 0 6 8 2 2 6 0 9 4 3 4 8 6 7 3 6 1 0 1 6 8 9 5\n",
            " 8 6 7 8 2 7 4 8 3 6 9 5 9 4 0 9 3 5 5 3 1 9 3 4 3 3 5 5 1 0 4 0 6 6 1 8 8\n",
            " 8]\n",
            "[0 1 2 3 4 5 6 7 8 9] [ 97  95  89 107  99  94 114 106 110  89]\n"
          ]
        }
      ]
    },
    {
      "cell_type": "code",
      "metadata": {
        "id": "9_6nzbQD3FZi",
        "colab": {
          "base_uri": "https://localhost:8080/"
        },
        "outputId": "324f53b3-cdce-4ece-c1b3-0042924a969a"
      },
      "source": [
        "np.unique(n1000)"
      ],
      "execution_count": null,
      "outputs": [
        {
          "output_type": "execute_result",
          "data": {
            "text/plain": [
              "array([0, 1, 2, 3, 4, 5, 6, 7, 8, 9])"
            ]
          },
          "metadata": {},
          "execution_count": 31
        }
      ]
    },
    {
      "cell_type": "code",
      "metadata": {
        "id": "eiw9R1243Rzp",
        "colab": {
          "base_uri": "https://localhost:8080/"
        },
        "outputId": "fe039086-d332-4534-974a-6d6dafb2b381"
      },
      "source": [
        "# 각 수의 빈도\n",
        "np.bincount(n1000, minlength=10)"
      ],
      "execution_count": null,
      "outputs": [
        {
          "output_type": "execute_result",
          "data": {
            "text/plain": [
              "array([109, 122,  87,  88, 104,  94, 113, 109,  93,  81])"
            ]
          },
          "metadata": {},
          "execution_count": 10
        }
      ]
    },
    {
      "cell_type": "markdown",
      "metadata": {
        "id": "cIhlY6-GghMN"
      },
      "source": [
        "### [도전 2.] 0부터 9까지의 마구잡이 정수를 1000개 만들고 각 수가 처음 출현하는 인덱스를 구하시오.\n",
        "> 0이 처음 나타날 때의 인덱스, 1이 처음 나타날 때의 인덱스, ... "
      ]
    },
    {
      "cell_type": "code",
      "metadata": {
        "colab": {
          "base_uri": "https://localhost:8080/"
        },
        "id": "zDMuBk7U4-ji",
        "outputId": "b8d659fc-a016-4187-9fac-f568f254206e"
      },
      "source": [
        "n1000[800]"
      ],
      "execution_count": null,
      "outputs": [
        {
          "output_type": "execute_result",
          "data": {
            "text/plain": [
              "2"
            ]
          },
          "metadata": {},
          "execution_count": 21
        }
      ]
    },
    {
      "cell_type": "code",
      "metadata": {
        "id": "oA1ec_RjgL3X",
        "colab": {
          "base_uri": "https://localhost:8080/"
        },
        "outputId": "9fd69d17-39b6-44ca-f611-8781ba1a1a8d"
      },
      "source": [
        "# 각 수가 처음 출현하는 인덱스\n",
        "i = 0\n",
        "while i <= 9:\n",
        "  a = np.min(np.where(n1000==i))\n",
        "  print(\"%d가 처음 출현한 인덱스 : %d\"%(i,a))\n",
        "  i = i + 1"
      ],
      "execution_count": 34,
      "outputs": [
        {
          "output_type": "stream",
          "name": "stdout",
          "text": [
            "0가 처음 출현한 인덱스 : 4\n",
            "1가 처음 출현한 인덱스 : 2\n",
            "2가 처음 출현한 인덱스 : 12\n",
            "3가 처음 출현한 인덱스 : 21\n",
            "4가 처음 출현한 인덱스 : 20\n",
            "5가 처음 출현한 인덱스 : 18\n",
            "6가 처음 출현한 인덱스 : 5\n",
            "7가 처음 출현한 인덱스 : 10\n",
            "8가 처음 출현한 인덱스 : 0\n",
            "9가 처음 출현한 인덱스 : 1\n"
          ]
        }
      ]
    },
    {
      "cell_type": "markdown",
      "metadata": {
        "id": "zQLMQtzVU7HT"
      },
      "source": [
        ""
      ]
    },
    {
      "cell_type": "code",
      "metadata": {
        "id": "yubibMMZ4AZS"
      },
      "source": [
        "# n1000[index]"
      ],
      "execution_count": null,
      "outputs": []
    },
    {
      "cell_type": "markdown",
      "metadata": {
        "id": "sadkRzWjgiTM"
      },
      "source": [
        "### [도전 3.] seed를 1234로 고정하고, 위의 도전1,2를 다시 해보시오. "
      ]
    },
    {
      "cell_type": "code",
      "metadata": {
        "colab": {
          "base_uri": "https://localhost:8080/"
        },
        "id": "mqXPMUjrVXWD",
        "outputId": "e6ad877c-eb35-4c14-d7f0-46e5a716677b"
      },
      "source": [
        "np.random.seed(1234)\n",
        "n1000 = np.random.randint(0,10,1000)\n",
        "value, count= np.unique(n1000, return_counts=True)\n",
        "print(value, count)\n",
        "\n",
        "i = 0\n",
        "while i <= 9:\n",
        "  b = np.min(np.where(n1000==i))\n",
        "  print(\"%d가 처음 출현한 인덱스 : %d\"%(i,b))\n",
        "  i = i + 1"
      ],
      "execution_count": 36,
      "outputs": [
        {
          "output_type": "stream",
          "name": "stdout",
          "text": [
            "[0 1 2 3 4 5 6 7 8 9] [ 93 107 107 108  97  98  89  95  90 116]\n",
            "0가 처음 출현한 인덱스 : 11\n",
            "1가 처음 출현한 인덱스 : 6\n",
            "2가 처음 출현한 인덱스 : 16\n",
            "3가 처음 출현한 인덱스 : 0\n",
            "4가 처음 출현한 인덱스 : 3\n",
            "5가 처음 출현한 인덱스 : 2\n",
            "6가 처음 출현한 인덱스 : 1\n",
            "7가 처음 출현한 인덱스 : 7\n",
            "8가 처음 출현한 인덱스 : 4\n",
            "9가 처음 출현한 인덱스 : 5\n"
          ]
        }
      ]
    },
    {
      "cell_type": "markdown",
      "metadata": {
        "id": "zAGojAainnox"
      },
      "source": [
        "### [도전 4.] 0부터 999까지의 마구잡이 정수로 구성되는 28X28 이차원배열을 만드시오.\n",
        "- 시드를 고정 : np.random.seed(1234)\n",
        "1. 각 행의 최대값, 최소갑을 구하시오.\n",
        "2. 배열 전체의 최대값, 최소값을 구하시오.\n",
        "3. 배열전체의 최대값, 최소값의 index를 각각 찾으시오."
      ]
    },
    {
      "cell_type": "code",
      "metadata": {
        "colab": {
          "base_uri": "https://localhost:8080/"
        },
        "id": "2XfmN9sSNMnZ",
        "outputId": "bbed8435-5552-46dc-915e-dbfa5c8fd735"
      },
      "source": [
        "import numpy as np\n",
        "np.random.seed(1234)\n",
        "a = np.random.randint(0,1000,784)\n",
        "ar = a.reshape(28,28)\n",
        "ar"
      ],
      "execution_count": 47,
      "outputs": [
        {
          "output_type": "execute_result",
          "data": {
            "text/plain": [
              "array([[815, 723, 294,  53, 204, 372, 664, 655, 689, 279, 233, 154,  30,\n",
              "        683, 158, 748, 892, 794, 374, 442, 120, 880, 476, 325, 336, 969,\n",
              "        383, 246],\n",
              "       [510, 431, 562, 752, 763,  76, 293, 802, 934, 506, 195, 743, 139,\n",
              "        640, 745, 843, 336,   3, 258, 275, 908, 961, 459, 371, 619, 465,\n",
              "         14, 243],\n",
              "       [455, 828, 490, 619, 942, 924,  81, 855, 781, 116, 608, 908, 197,\n",
              "        625, 991, 997, 671, 761, 601,  84,  45, 528,  41, 840, 440, 236,\n",
              "        838, 952],\n",
              "       [ 86, 940, 986, 979, 303, 689,  18, 597, 686, 482, 805, 365, 806,\n",
              "        135, 996, 707, 901, 750, 559, 244, 374, 687, 911, 546,  10, 284,\n",
              "          4,  82],\n",
              "       [103, 345, 311, 235, 334, 663, 434, 761, 574, 183, 340, 617, 256,\n",
              "        633, 354, 761, 346, 417, 882, 377, 497, 789, 967, 196, 119, 999,\n",
              "        465, 250],\n",
              "       [436, 448, 469, 372, 873, 626, 425,   1, 142, 771, 798, 396, 713,\n",
              "        877, 787,  26, 992,  68, 891, 996, 832, 150, 440, 980, 136, 684,\n",
              "        753, 920],\n",
              "       [990, 745, 527, 840, 898, 400, 619, 130, 754, 591, 195,  46, 482,\n",
              "        825, 439, 292, 600, 673, 377, 682, 514, 471, 365, 212, 291, 786,\n",
              "        332, 965],\n",
              "       [117, 593, 208, 520, 493,  75,  15, 788, 784, 448, 573, 881, 864,\n",
              "        638, 211, 313, 561, 318, 953, 211, 667, 343, 233, 931, 164, 596,\n",
              "        317, 540],\n",
              "       [257, 779, 702, 509, 657, 286, 806,  98, 921, 568, 487, 408,  12,\n",
              "        460, 864, 520, 303, 855, 793, 749, 789, 150, 429, 531,  41, 431,\n",
              "        932, 999],\n",
              "       [551, 913, 295, 955, 210, 379, 165,  98,  87, 550, 904, 694, 657,\n",
              "        553, 303, 659, 939, 940, 547, 938, 404, 794, 345, 107, 919, 642,\n",
              "        744, 577],\n",
              "       [729, 283, 974, 580, 987, 316, 874, 259, 209, 687, 957, 447,  32,\n",
              "        887, 909, 312,  48, 617, 314, 350, 931, 953, 316, 595, 505, 368,\n",
              "        757, 649],\n",
              "       [572, 178, 819, 433, 106, 711, 721, 260,   3, 127, 600, 558, 606,\n",
              "        509, 431, 575,  84,   5, 723, 380, 584, 840, 447, 696, 526, 337,\n",
              "        739, 316],\n",
              "       [358, 264,  41, 673, 837, 728, 575, 877, 628, 785, 513,   1, 130,\n",
              "        691, 333, 692, 114, 861, 654, 237, 943, 203, 193, 669, 521, 608,\n",
              "        336, 946],\n",
              "       [785,  31, 508, 863, 381, 970, 494, 907, 418, 565, 857, 472, 920,\n",
              "        478, 991, 439, 565,  23, 383, 186, 224, 784, 758, 774, 465, 462,\n",
              "        953, 132],\n",
              "       [814, 459, 390, 727, 402, 944, 935, 144, 994, 584, 174, 564, 424,\n",
              "        243, 941, 770, 700, 788, 615, 471, 458, 507, 844, 826, 384, 554,\n",
              "        913, 177],\n",
              "       [ 16, 944,  80, 849, 460, 863, 191, 561, 527, 665, 468, 873, 409,\n",
              "        325, 306, 110, 655, 852, 717,  46, 763, 529, 896, 707, 677,  82,\n",
              "        542, 666],\n",
              "       [316, 943, 963, 435, 933, 900, 549, 506, 875, 292, 592, 517, 822,\n",
              "        759, 730, 191, 211, 844, 140, 545,  85, 388, 101, 617, 433, 814,\n",
              "        695, 102],\n",
              "       [611, 787, 943, 364, 252, 810, 304, 763, 364,  90, 432,   2,  35,\n",
              "         46, 161, 508,  38, 737, 707, 430, 826, 933, 454, 162, 374, 198,\n",
              "        809, 922],\n",
              "       [ 10, 855, 280, 457, 524, 700, 257, 861, 179, 758, 134,  18, 946,\n",
              "        429, 548, 634, 857, 627, 814,  43, 973, 744,  55, 917, 542, 462,\n",
              "         97, 698],\n",
              "       [381, 291, 465, 563, 560, 734, 478, 898, 429, 575,   0, 223,  19,\n",
              "        517, 674, 922, 399, 134, 575, 635, 358, 102, 468, 657, 848, 343,\n",
              "        212, 810],\n",
              "       [ 26, 731, 481, 888, 606, 213, 238,  25, 172, 653, 557, 182, 715,\n",
              "        306, 862, 300,  88,  74, 332, 407, 105, 138, 599, 893, 567, 828,\n",
              "        211,  15],\n",
              "       [926, 710, 549, 566, 715,  79, 568,   6, 309, 457, 865, 745, 434,\n",
              "         74, 705, 302, 321, 261, 464, 130, 835, 447, 936, 152, 129, 253,\n",
              "        451, 231],\n",
              "       [  3, 621, 229, 510, 961, 997, 970, 620, 534, 857, 251, 269, 565,\n",
              "        303, 960, 268,  81, 531,  53, 861, 360,  41, 217, 215, 184, 136,\n",
              "        249, 526],\n",
              "       [756, 260, 988, 289,  53, 654, 475, 299, 796,  68, 710, 714, 856,\n",
              "        747, 263, 233, 559,  84, 383, 284, 273, 701, 391, 695, 448, 751,\n",
              "        884,  31],\n",
              "       [886, 698, 561, 251, 745, 476, 539, 353, 798,  43, 961, 729, 816,\n",
              "        792, 737,  15,   3,  26, 583, 338, 872, 943, 893, 847, 451, 562,\n",
              "        236, 370],\n",
              "       [179, 692, 177, 998, 941,  43, 707, 891, 623, 618, 773,  91, 254,\n",
              "        546, 332, 820, 594, 193, 947, 185, 327, 825, 983, 274, 773, 151,\n",
              "        781,  59],\n",
              "       [974, 666, 863, 661, 296, 997, 528, 372, 144, 249, 835, 609, 223,\n",
              "        720, 144, 604, 430, 502, 333, 452, 211, 532, 635, 751, 762, 747,\n",
              "        321, 184],\n",
              "       [ 54, 168, 647, 529,  79, 629, 939, 173, 877, 295, 569,  13, 897,\n",
              "        591, 748, 629, 390, 379, 149, 625, 966, 416, 249, 242, 732, 994,\n",
              "        812, 625]])"
            ]
          },
          "metadata": {},
          "execution_count": 47
        }
      ]
    },
    {
      "cell_type": "code",
      "metadata": {
        "colab": {
          "base_uri": "https://localhost:8080/"
        },
        "id": "N-Grhi5qbmx4",
        "outputId": "c7bebcc8-aabd-43b5-8f59-a9882171f8ba"
      },
      "source": [
        "min_value = [np.min(ar[i]) for i in range(0,28)]\n",
        "max_value= [np.max(ar[i]) for i in range(0,28)]\n",
        "min_value, max_value"
      ],
      "execution_count": 48,
      "outputs": [
        {
          "output_type": "execute_result",
          "data": {
            "text/plain": [
              "([30,\n",
              "  3,\n",
              "  41,\n",
              "  4,\n",
              "  103,\n",
              "  1,\n",
              "  46,\n",
              "  15,\n",
              "  12,\n",
              "  87,\n",
              "  32,\n",
              "  3,\n",
              "  1,\n",
              "  23,\n",
              "  144,\n",
              "  16,\n",
              "  85,\n",
              "  2,\n",
              "  10,\n",
              "  0,\n",
              "  15,\n",
              "  6,\n",
              "  3,\n",
              "  31,\n",
              "  3,\n",
              "  43,\n",
              "  144,\n",
              "  13],\n",
              " [969,\n",
              "  961,\n",
              "  997,\n",
              "  996,\n",
              "  999,\n",
              "  996,\n",
              "  990,\n",
              "  953,\n",
              "  999,\n",
              "  955,\n",
              "  987,\n",
              "  840,\n",
              "  946,\n",
              "  991,\n",
              "  994,\n",
              "  944,\n",
              "  963,\n",
              "  943,\n",
              "  973,\n",
              "  922,\n",
              "  893,\n",
              "  936,\n",
              "  997,\n",
              "  988,\n",
              "  961,\n",
              "  998,\n",
              "  997,\n",
              "  994])"
            ]
          },
          "metadata": {},
          "execution_count": 48
        }
      ]
    },
    {
      "cell_type": "markdown",
      "metadata": {
        "id": "hTmXxWxScKuJ"
      },
      "source": [
        "각 행의 최소값 : 30,  3,  41,  4,  103,  1,  46,  15,  12,  87,  32,  3,  1,  3,  144,  16,  85,  2,  10,  0,  15,  6,  3,  31,  3,  43,  144,  13"
      ]
    },
    {
      "cell_type": "markdown",
      "metadata": {
        "id": "cZcR3eevcq0F"
      },
      "source": [
        "각 행의 최대값 : 969,  961,  997,  996,  999,  996,\n",
        "  990,  953,  999,  955,  987,  840,  946,  991,  994,  944,  963,  943,  973,  922,  893,  936,  997,  988,  961,  998,  997,  994"
      ]
    },
    {
      "cell_type": "code",
      "metadata": {
        "colab": {
          "base_uri": "https://localhost:8080/"
        },
        "id": "m3ZW6_Rscxyz",
        "outputId": "9ac68b95-bd3d-4ca5-ebfc-40d94f05f167"
      },
      "source": [
        "b_min = np.min(min_value)\n",
        "b_max = np.max(max_value)\n",
        "b_min, b_max"
      ],
      "execution_count": 49,
      "outputs": [
        {
          "output_type": "execute_result",
          "data": {
            "text/plain": [
              "(0, 999)"
            ]
          },
          "metadata": {},
          "execution_count": 49
        }
      ]
    },
    {
      "cell_type": "markdown",
      "metadata": {
        "id": "rJViR451dIXz"
      },
      "source": [
        "배열 전체의 최소값 : 0, 배열 전체의 최대값 : 999"
      ]
    },
    {
      "cell_type": "code",
      "metadata": {
        "colab": {
          "base_uri": "https://localhost:8080/"
        },
        "id": "qbq2f1EIdQrx",
        "outputId": "a862a061-c419-4b42-e6d6-bb208d10d195"
      },
      "source": [
        "c_a = np.where(ar==b_min)\n",
        "c_b = np.where(ar==b_max)\n",
        "c_a, c_b"
      ],
      "execution_count": 57,
      "outputs": [
        {
          "output_type": "execute_result",
          "data": {
            "text/plain": [
              "((array([19]), array([10])), (array([4, 8]), array([25, 27])))"
            ]
          },
          "metadata": {},
          "execution_count": 57
        }
      ]
    },
    {
      "cell_type": "markdown",
      "metadata": {
        "id": "Vxkqm-lUeWi0"
      },
      "source": [
        "배열전체의 최소값 index : [19, 10], 배열 전체의 최대값 index : [4, 8], [25, 27]\n"
      ]
    },
    {
      "cell_type": "markdown",
      "metadata": {
        "id": "VoSu8rNOnwPU"
      },
      "source": [
        "---\n",
        "---"
      ]
    },
    {
      "cell_type": "markdown",
      "metadata": {
        "id": "ozoCcRquhg4p"
      },
      "source": [
        "## python graphics\n",
        "- matplotlib\n",
        "> import matplotlib.pyplot as plt"
      ]
    },
    {
      "cell_type": "markdown",
      "metadata": {
        "id": "h6yEJiGJ4Lbk"
      },
      "source": [
        "### 무작위수 분포 그려보기"
      ]
    },
    {
      "cell_type": "code",
      "metadata": {
        "id": "ngcwuNlfhrIQ"
      },
      "source": [
        "import matplotlib.pyplot as plt"
      ],
      "execution_count": null,
      "outputs": []
    },
    {
      "cell_type": "code",
      "metadata": {
        "id": "jr30IHxvJDuE",
        "colab": {
          "base_uri": "https://localhost:8080/",
          "height": 319
        },
        "outputId": "a3303595-972a-479b-ce29-ec8b602d9505"
      },
      "source": [
        "plt.hist(n1000,label=range(0,10), color='red') #bins=100)\n",
        "# plt.show()"
      ],
      "execution_count": null,
      "outputs": [
        {
          "output_type": "execute_result",
          "data": {
            "text/plain": [
              "(array([ 95., 130.,  83., 107.,  94.,  83.,  96.,  94., 104., 114.]),\n",
              " array([0. , 0.9, 1.8, 2.7, 3.6, 4.5, 5.4, 6.3, 7.2, 8.1, 9. ]),\n",
              " <a list of 10 Patch objects>)"
            ]
          },
          "metadata": {},
          "execution_count": 50
        },
        {
          "output_type": "display_data",
          "data": {
            "image/png": "[encoded data removed]",
            "text/plain": [
              "<Figure size 432x288 with 1 Axes>"
            ]
          },
          "metadata": {
            "needs_background": "light"
          }
        }
      ]
    },
    {
      "cell_type": "markdown",
      "metadata": {
        "id": "b-JcgSU-Ktyz"
      },
      "source": [
        "### [도전] 균일분포와 정규분포를 비교하는 그림을 그리시오."
      ]
    },
    {
      "cell_type": "code",
      "metadata": {
        "id": "k0XaT2f9JGZy",
        "colab": {
          "base_uri": "https://localhost:8080/",
          "height": 373
        },
        "outputId": "3e01ba0d-054a-48dd-e597-5cda71220203"
      },
      "source": [
        "plt.hist(np.random.rand(1000000))"
      ],
      "execution_count": null,
      "outputs": [
        {
          "output_type": "execute_result",
          "data": {
            "text/plain": [
              "(array([ 99283., 100333., 100309.,  99885., 100672.,  99966.,  99998.,\n",
              "        100736.,  99055.,  99763.]),\n",
              " array([3.67515305e-07, 1.00000258e-01, 2.00000149e-01, 3.00000040e-01,\n",
              "        3.99999931e-01, 4.99999822e-01, 5.99999713e-01, 6.99999604e-01,\n",
              "        7.99999495e-01, 8.99999386e-01, 9.99999277e-01]),\n",
              " <a list of 10 Patch objects>)"
            ]
          },
          "metadata": {},
          "execution_count": 56
        },
        {
          "output_type": "display_data",
          "data": {
            "image/png": "[encoded data removed]",
            "text/plain": [
              "<Figure size 432x288 with 1 Axes>"
            ]
          },
          "metadata": {
            "needs_background": "light"
          }
        }
      ]
    },
    {
      "cell_type": "code",
      "metadata": {
        "id": "T8SCqKVeMhBF",
        "colab": {
          "base_uri": "https://localhost:8080/",
          "height": 1000
        },
        "outputId": "9a000587-4eef-42bb-d241-07302895f861"
      },
      "source": [
        "plt.hist(np.random.randn(1000000), bins=100)"
      ],
      "execution_count": null,
      "outputs": [
        {
          "output_type": "execute_result",
          "data": {
            "text/plain": [
              "(array([1.0000e+00, 2.0000e+00, 3.0000e+00, 5.0000e+00, 1.0000e+01,\n",
              "        1.4000e+01, 1.7000e+01, 3.4000e+01, 3.5000e+01, 5.7000e+01,\n",
              "        6.9000e+01, 1.2000e+02, 1.3900e+02, 1.9100e+02, 2.6400e+02,\n",
              "        3.6000e+02, 4.4700e+02, 5.5200e+02, 8.5200e+02, 9.9900e+02,\n",
              "        1.3040e+03, 1.6960e+03, 2.1010e+03, 2.6950e+03, 3.2290e+03,\n",
              "        3.9290e+03, 4.7710e+03, 5.8260e+03, 6.8970e+03, 8.2470e+03,\n",
              "        9.5400e+03, 1.0893e+04, 1.2596e+04, 1.4497e+04, 1.6350e+04,\n",
              "        1.8544e+04, 2.0774e+04, 2.2549e+04, 2.4729e+04, 2.6698e+04,\n",
              "        2.8593e+04, 3.0856e+04, 3.2166e+04, 3.3988e+04, 3.5364e+04,\n",
              "        3.5790e+04, 3.6526e+04, 3.7446e+04, 3.7165e+04, 3.7053e+04,\n",
              "        3.6350e+04, 3.5375e+04, 3.4353e+04, 3.3008e+04, 3.1552e+04,\n",
              "        2.9353e+04, 2.7819e+04, 2.5617e+04, 2.3425e+04, 2.1540e+04,\n",
              "        1.9203e+04, 1.7139e+04, 1.5142e+04, 1.3557e+04, 1.1881e+04,\n",
              "        1.0020e+04, 8.5700e+03, 7.3650e+03, 6.0610e+03, 5.1230e+03,\n",
              "        4.2020e+03, 3.3390e+03, 2.7790e+03, 2.2580e+03, 1.7880e+03,\n",
              "        1.4010e+03, 1.1870e+03, 8.9000e+02, 6.8000e+02, 5.2700e+02,\n",
              "        3.8500e+02, 3.0900e+02, 2.2700e+02, 1.6900e+02, 1.2400e+02,\n",
              "        9.7000e+01, 6.4000e+01, 4.2000e+01, 2.9000e+01, 2.2000e+01,\n",
              "        1.3000e+01, 1.0000e+01, 7.0000e+00, 4.0000e+00, 2.0000e+00,\n",
              "        2.0000e+00, 4.0000e+00, 0.0000e+00, 2.0000e+00, 1.0000e+00]),\n",
              " array([-4.50201112, -4.40858193, -4.31515273, -4.22172353, -4.12829433,\n",
              "        -4.03486513, -3.94143593, -3.84800674, -3.75457754, -3.66114834,\n",
              "        -3.56771914, -3.47428994, -3.38086075, -3.28743155, -3.19400235,\n",
              "        -3.10057315, -3.00714395, -2.91371476, -2.82028556, -2.72685636,\n",
              "        -2.63342716, -2.53999796, -2.44656877, -2.35313957, -2.25971037,\n",
              "        -2.16628117, -2.07285197, -1.97942277, -1.88599358, -1.79256438,\n",
              "        -1.69913518, -1.60570598, -1.51227678, -1.41884759, -1.32541839,\n",
              "        -1.23198919, -1.13855999, -1.04513079, -0.9517016 , -0.8582724 ,\n",
              "        -0.7648432 , -0.671414  , -0.5779848 , -0.48455561, -0.39112641,\n",
              "        -0.29769721, -0.20426801, -0.11083881, -0.01740962,  0.07601958,\n",
              "         0.16944878,  0.26287798,  0.35630718,  0.44973638,  0.54316557,\n",
              "         0.63659477,  0.73002397,  0.82345317,  0.91688237,  1.01031156,\n",
              "         1.10374076,  1.19716996,  1.29059916,  1.38402836,  1.47745755,\n",
              "         1.57088675,  1.66431595,  1.75774515,  1.85117435,  1.94460354,\n",
              "         2.03803274,  2.13146194,  2.22489114,  2.31832034,  2.41174954,\n",
              "         2.50517873,  2.59860793,  2.69203713,  2.78546633,  2.87889553,\n",
              "         2.97232472,  3.06575392,  3.15918312,  3.25261232,  3.34604152,\n",
              "         3.43947071,  3.53289991,  3.62632911,  3.71975831,  3.81318751,\n",
              "         3.9066167 ,  4.0000459 ,  4.0934751 ,  4.1869043 ,  4.2803335 ,\n",
              "         4.3737627 ,  4.46719189,  4.56062109,  4.65405029,  4.74747949,\n",
              "         4.84090869]),\n",
              " <a list of 100 Patch objects>)"
            ]
          },
          "metadata": {},
          "execution_count": 60
        },
        {
          "output_type": "display_data",
          "data": {
            "image/png": "[encoded data removed]",
            "text/plain": [
              "<Figure size 432x288 with 1 Axes>"
            ]
          },
          "metadata": {
            "needs_background": "light"
          }
        }
      ]
    },
    {
      "cell_type": "markdown",
      "metadata": {
        "id": "LYthn3089aqD"
      },
      "source": [
        "## 보충 코드"
      ]
    },
    {
      "cell_type": "code",
      "metadata": {
        "id": "BUkVDXTJMkwc",
        "colab": {
          "base_uri": "https://localhost:8080/"
        },
        "outputId": "9ae5fc1d-d09a-47ee-bc9e-ed1e6d61f553"
      },
      "source": [
        "n1000 = np.random.randint(0,10,1000)\n",
        "n1000"
      ],
      "execution_count": null,
      "outputs": [
        {
          "output_type": "execute_result",
          "data": {
            "text/plain": [
              "array([1, 3, 8, 2, 6, 0, 4, 4, 0, 3, 3, 6, 7, 6, 7, 1, 6, 8, 2, 5, 0, 2,\n",
              "       5, 9, 9, 9, 3, 0, 5, 2, 3, 3, 9, 0, 6, 6, 1, 6, 5, 6, 2, 0, 1, 8,\n",
              "       0, 4, 8, 2, 7, 8, 0, 6, 4, 0, 5, 7, 1, 2, 0, 8, 9, 5, 6, 6, 3, 2,\n",
              "       4, 1, 8, 6, 2, 9, 5, 1, 6, 9, 6, 0, 3, 9, 7, 9, 0, 6, 8, 2, 9, 8,\n",
              "       1, 3, 4, 4, 1, 1, 5, 9, 6, 8, 1, 9, 0, 0, 0, 2, 8, 1, 0, 8, 1, 6,\n",
              "       0, 8, 8, 0, 8, 9, 3, 3, 0, 7, 4, 2, 1, 6, 9, 2, 3, 4, 9, 9, 7, 2,\n",
              "       0, 1, 6, 8, 7, 9, 7, 1, 3, 2, 7, 2, 8, 7, 6, 3, 5, 0, 4, 5, 9, 6,\n",
              "       5, 1, 6, 5, 0, 8, 8, 3, 7, 5, 2, 9, 5, 0, 4, 9, 6, 2, 6, 1, 4, 7,\n",
              "       3, 7, 0, 5, 2, 8, 9, 5, 0, 6, 0, 1, 3, 4, 6, 0, 7, 4, 3, 3, 3, 2,\n",
              "       1, 3, 8, 1, 9, 8, 8, 4, 6, 3, 6, 9, 5, 8, 9, 0, 7, 6, 4, 8, 4, 5,\n",
              "       5, 6, 7, 3, 8, 9, 1, 1, 8, 1, 9, 4, 8, 9, 3, 1, 6, 4, 9, 9, 5, 0,\n",
              "       7, 6, 6, 7, 2, 1, 1, 5, 9, 2, 1, 9, 1, 4, 0, 3, 9, 6, 5, 5, 4, 7,\n",
              "       5, 1, 2, 2, 1, 1, 1, 9, 4, 8, 9, 2, 5, 7, 1, 1, 7, 0, 1, 6, 8, 6,\n",
              "       7, 7, 2, 5, 4, 2, 1, 9, 6, 3, 4, 5, 6, 3, 7, 8, 4, 1, 9, 4, 7, 3,\n",
              "       2, 7, 4, 4, 8, 0, 7, 7, 8, 5, 0, 0, 9, 8, 7, 8, 2, 4, 6, 0, 7, 8,\n",
              "       5, 4, 3, 9, 5, 8, 3, 7, 6, 3, 9, 1, 5, 2, 6, 8, 1, 9, 9, 9, 5, 7,\n",
              "       6, 4, 3, 8, 7, 9, 9, 4, 7, 7, 4, 6, 2, 7, 9, 3, 0, 7, 5, 7, 0, 3,\n",
              "       1, 0, 8, 2, 4, 3, 5, 9, 3, 4, 3, 3, 7, 6, 4, 8, 8, 1, 1, 5, 0, 9,\n",
              "       4, 6, 3, 2, 3, 0, 5, 0, 2, 2, 8, 8, 0, 8, 7, 1, 6, 6, 2, 2, 1, 3,\n",
              "       9, 5, 5, 2, 1, 6, 2, 9, 5, 1, 4, 3, 3, 1, 5, 4, 3, 9, 3, 7, 8, 4,\n",
              "       3, 2, 9, 9, 4, 9, 5, 3, 4, 4, 9, 1, 3, 1, 8, 2, 8, 1, 6, 9, 1, 1,\n",
              "       1, 4, 9, 4, 7, 0, 1, 7, 7, 6, 2, 9, 2, 2, 7, 1, 6, 7, 6, 2, 1, 8,\n",
              "       3, 0, 8, 9, 7, 9, 2, 3, 1, 9, 3, 5, 4, 3, 2, 6, 0, 9, 8, 0, 8, 4,\n",
              "       3, 6, 8, 4, 2, 4, 5, 7, 2, 3, 1, 9, 6, 1, 6, 5, 0, 7, 7, 5, 9, 1,\n",
              "       0, 3, 9, 8, 3, 2, 1, 1, 8, 6, 1, 0, 0, 3, 8, 6, 2, 8, 1, 8, 2, 9,\n",
              "       7, 8, 9, 0, 1, 1, 1, 2, 8, 7, 6, 1, 8, 1, 7, 4, 8, 8, 4, 0, 7, 9,\n",
              "       2, 0, 6, 8, 5, 7, 9, 3, 5, 0, 3, 0, 8, 4, 8, 3, 0, 9, 6, 3, 3, 0,\n",
              "       6, 5, 2, 5, 1, 1, 8, 9, 4, 0, 9, 8, 4, 7, 5, 7, 4, 3, 1, 9, 1, 8,\n",
              "       0, 6, 5, 6, 0, 4, 6, 4, 1, 0, 9, 4, 3, 9, 8, 3, 7, 7, 3, 2, 4, 7,\n",
              "       7, 9, 6, 9, 7, 9, 1, 0, 1, 9, 8, 9, 8, 1, 7, 4, 1, 8, 0, 2, 6, 4,\n",
              "       5, 6, 0, 6, 9, 4, 7, 1, 8, 5, 8, 5, 5, 0, 7, 8, 5, 0, 7, 8, 6, 0,\n",
              "       0, 9, 4, 5, 4, 1, 3, 4, 6, 9, 9, 0, 4, 1, 1, 1, 9, 6, 6, 1, 3, 3,\n",
              "       6, 4, 4, 1, 4, 3, 5, 4, 0, 1, 1, 1, 7, 8, 2, 5, 2, 3, 0, 7, 3, 9,\n",
              "       4, 1, 6, 4, 6, 1, 8, 1, 0, 2, 1, 8, 5, 9, 5, 8, 8, 1, 5, 0, 5, 0,\n",
              "       3, 6, 5, 0, 5, 4, 2, 8, 5, 3, 9, 7, 0, 0, 2, 5, 3, 3, 2, 1, 2, 2,\n",
              "       3, 2, 4, 5, 3, 1, 2, 3, 8, 9, 3, 1, 7, 1, 0, 1, 8, 2, 0, 6, 4, 9,\n",
              "       1, 7, 3, 1, 3, 9, 3, 2, 7, 3, 1, 3, 8, 3, 6, 4, 7, 5, 7, 2, 2, 1,\n",
              "       3, 9, 2, 5, 7, 0, 6, 6, 1, 0, 9, 6, 5, 7, 6, 6, 7, 1, 7, 7, 3, 9,\n",
              "       8, 7, 9, 7, 1, 6, 8, 0, 4, 3, 8, 6, 9, 9, 9, 6, 4, 4, 7, 0, 2, 7,\n",
              "       4, 3, 0, 3, 0, 5, 9, 1, 2, 1, 3, 4, 2, 9, 3, 9, 1, 1, 6, 4, 8, 3,\n",
              "       1, 0, 1, 7, 0, 8, 4, 9, 7, 9, 1, 9, 8, 8, 1, 4, 1, 1, 5, 0, 4, 8,\n",
              "       7, 4, 9, 5, 0, 2, 2, 1, 9, 1, 8, 3, 9, 3, 6, 9, 8, 4, 4, 5, 8, 4,\n",
              "       7, 8, 2, 4, 1, 5, 5, 1, 8, 8, 8, 0, 0, 5, 3, 9, 5, 4, 1, 1, 2, 9,\n",
              "       3, 5, 2, 3, 1, 9, 7, 9, 3, 4, 0, 1, 8, 1, 7, 5, 2, 4, 9, 1, 8, 3,\n",
              "       1, 1, 0, 2, 1, 0, 9, 6, 5, 6, 9, 6, 5, 8, 1, 7, 6, 3, 6, 4, 6, 6,\n",
              "       7, 0, 3, 2, 3, 7, 3, 3, 3, 7])"
            ]
          },
          "metadata": {},
          "execution_count": 39
        }
      ]
    },
    {
      "cell_type": "code",
      "metadata": {
        "id": "xza_yV8nMshU"
      },
      "source": [
        "value, count= np.unique(n1000, return_counts=True)"
      ],
      "execution_count": null,
      "outputs": []
    },
    {
      "cell_type": "code",
      "metadata": {
        "id": "al1pM1aK9Vk7",
        "colab": {
          "base_uri": "https://localhost:8080/"
        },
        "outputId": "97a6a26c-b2b9-4970-c555-685799459d97"
      },
      "source": [
        "value, count #세는것"
      ],
      "execution_count": null,
      "outputs": [
        {
          "output_type": "execute_result",
          "data": {
            "text/plain": [
              "(array([0, 1, 2, 3, 4, 5, 6, 7, 8, 9]),\n",
              " array([ 95, 130,  83, 107,  94,  83,  96,  94, 104, 114]))"
            ]
          },
          "metadata": {},
          "execution_count": 42
        }
      ]
    }
  ]
}